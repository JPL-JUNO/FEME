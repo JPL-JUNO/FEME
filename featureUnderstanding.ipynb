{
 "cells": [
  {
   "cell_type": "code",
   "execution_count": 1,
   "id": "5c4ee7ad",
   "metadata": {
    "ExecuteTime": {
     "end_time": "2022-09-06T12:34:58.412152Z",
     "start_time": "2022-09-06T12:34:54.149868Z"
    }
   },
   "outputs": [],
   "source": [
    "import pandas as pd\n",
    "import numpy as np\n",
    "import matplotlib.pyplot as plt\n",
    "import seaborn as sns\n",
    "plt.style.use(\"ggplot\")"
   ]
  },
  {
   "cell_type": "code",
   "execution_count": 41,
   "id": "dc129b00",
   "metadata": {
    "ExecuteTime": {
     "end_time": "2022-09-06T13:02:06.107969Z",
     "start_time": "2022-09-06T13:02:06.076010Z"
    }
   },
   "outputs": [],
   "source": [
    "salaryRanges = pd.read_csv(\"Salary_Ranges_by_Job_Classification.csv\")"
   ]
  },
  {
   "cell_type": "code",
   "execution_count": 50,
   "id": "abccdb9c",
   "metadata": {
    "ExecuteTime": {
     "end_time": "2022-09-06T13:08:38.955820Z",
     "start_time": "2022-09-06T13:08:38.897060Z"
    }
   },
   "outputs": [
    {
     "name": "stdout",
     "output_type": "stream",
     "text": [
      "<class 'pandas.core.frame.DataFrame'>\n",
      "RangeIndex: 1356 entries, 0 to 1355\n",
      "Data columns (total 13 columns):\n",
      " #   Column              Non-Null Count  Dtype \n",
      "---  ------              --------------  ----- \n",
      " 0   SetID               1356 non-null   object\n",
      " 1   Job Code            1356 non-null   object\n",
      " 2   Eff Date            1356 non-null   object\n",
      " 3   Sal End Date        1356 non-null   object\n",
      " 4   Salary SetID        1356 non-null   object\n",
      " 5   Sal Plan            1356 non-null   object\n",
      " 6   Grade               1356 non-null   object\n",
      " 7   Step                1356 non-null   int64 \n",
      " 8   Biweekly High Rate  1356 non-null   object\n",
      " 9   Biweekly Low Rate   1356 non-null   object\n",
      " 10  Union Code          1356 non-null   int64 \n",
      " 11  Extended Step       1356 non-null   int64 \n",
      " 12  Pay Type            1356 non-null   object\n",
      "dtypes: int64(3), object(10)\n",
      "memory usage: 137.8+ KB\n",
      "SetID                 0\n",
      "Job Code              0\n",
      "Eff Date              0\n",
      "Sal End Date          0\n",
      "Salary SetID          0\n",
      "Sal Plan              0\n",
      "Grade                 0\n",
      "Step                  0\n",
      "Biweekly High Rate    0\n",
      "Biweekly Low Rate     0\n",
      "Union Code            0\n",
      "Extended Step         0\n",
      "Pay Type              0\n",
      "dtype: int64\n",
      "              Step   Union Code  Extended Step\n",
      "count  1356.000000  1356.000000    1356.000000\n",
      "mean      1.294985   392.676991       0.150442\n",
      "std       1.045816   338.100562       1.006734\n",
      "min       1.000000     1.000000       0.000000\n",
      "25%       1.000000    21.000000       0.000000\n",
      "50%       1.000000   351.000000       0.000000\n",
      "75%       1.000000   790.000000       0.000000\n",
      "max       5.000000   990.000000      11.000000\n",
      "  Biweekly High Rate  Grade\n",
      "0              $0.00  00000\n",
      "1             $15.00  00000\n",
      "2             $25.00  00000\n",
      "3             $50.00  00000\n",
      "4            $100.00  00000\n",
      "count         1356\n",
      "unique         593\n",
      "top       $3460.00\n",
      "freq            12\n",
      "Name: Biweekly High Rate, dtype: object\n"
     ]
    },
    {
     "name": "stderr",
     "output_type": "stream",
     "text": [
      "C:\\Users\\JPL-JUNO\\AppData\\Local\\Temp\\ipykernel_14896\\1302725405.py:14: SettingWithCopyWarning: \n",
      "A value is trying to be set on a copy of a slice from a DataFrame.\n",
      "Try using .loc[row_indexer,col_indexer] = value instead\n",
      "\n",
      "See the caveats in the documentation: https://pandas.pydata.org/pandas-docs/stable/user_guide/indexing.html#returning-a-view-versus-a-copy\n",
      "  salaryRanges['Biweekly High Rate'] = salaryRanges['Biweekly High Rate'].map(lambda value: value.replace('$', ''))\n"
     ]
    }
   ],
   "source": [
    "salaryRanges.head()\n",
    "salaryRanges.info()\n",
    "\n",
    "# The fastest way to identify missing values\n",
    "print(salaryRanges.isnull().sum())\n",
    "\n",
    "print(salaryRanges.describe())\n",
    "\n",
    "salaryRanges = salaryRanges[['Biweekly High Rate', 'Grade']]\n",
    "print(salaryRanges.head())\n",
    "\n",
    "print(salaryRanges['Biweekly High Rate'].describe())\n",
    "\n",
    "salaryRanges['Biweekly High Rate'] = salaryRanges['Biweekly High Rate'].map(lambda value: value.replace('$', ''))"
   ]
  },
  {
   "cell_type": "code",
   "execution_count": 63,
   "id": "9da49356",
   "metadata": {
    "ExecuteTime": {
     "end_time": "2022-09-06T13:14:54.995162Z",
     "start_time": "2022-09-06T13:14:54.967121Z"
    }
   },
   "outputs": [
    {
     "name": "stdout",
     "output_type": "stream",
     "text": [
      "  Biweekly High Rate  Grade\n",
      "0               0.00  00000\n",
      "1              15.00  00000\n",
      "2              25.00  00000\n",
      "3              50.00  00000\n",
      "4             100.00  00000\n"
     ]
    },
    {
     "name": "stderr",
     "output_type": "stream",
     "text": [
      "C:\\Users\\JPL-JUNO\\AppData\\Local\\Temp\\ipykernel_14896\\3609843059.py:3: SettingWithCopyWarning: \n",
      "A value is trying to be set on a copy of a slice from a DataFrame.\n",
      "Try using .loc[row_indexer,col_indexer] = value instead\n",
      "\n",
      "See the caveats in the documentation: https://pandas.pydata.org/pandas-docs/stable/user_guide/indexing.html#returning-a-view-versus-a-copy\n",
      "  salaryRanges['Biweekly High Rate'] = salaryRanges['Biweekly High Rate'].astype(float)\n",
      "C:\\Users\\JPL-JUNO\\AppData\\Local\\Temp\\ipykernel_14896\\3609843059.py:4: SettingWithCopyWarning: \n",
      "A value is trying to be set on a copy of a slice from a DataFrame.\n",
      "Try using .loc[row_indexer,col_indexer] = value instead\n",
      "\n",
      "See the caveats in the documentation: https://pandas.pydata.org/pandas-docs/stable/user_guide/indexing.html#returning-a-view-versus-a-copy\n",
      "  salaryRanges['Grade'] = salaryRanges['Grade'].astype(str)\n"
     ]
    }
   ],
   "source": [
    "print(salaryRanges.head())\n",
    "salaryRanges['Biweekly High Rate'] = salaryRanges['Biweekly High Rate'].astype(float)\n",
    "salaryRanges['Grade'] = salaryRanges['Grade'].astype(str)"
   ]
  },
  {
   "cell_type": "code",
   "execution_count": null,
   "id": "c4fcb018",
   "metadata": {},
   "outputs": [],
   "source": [
    "print(salaryRanges.info())\n",
    "\n",
    "print(salaryRanges.Grade.value_counts().head())\n",
    "\n",
    "salaryRanges['Grade'].value_counts(ascending=False).head(20).plot(kind='bar')\n",
    "plt.show()\n",
    "\n",
    "salaryRanges['Grade'].value_counts(ascending=False).head(5).plot(kind='pie')\n",
    "plt.show()\n",
    "\n",
    "customers = pd.read_csv('2013_SFO_Customer_survey.csv')\n",
    "print(customers.shape)\n",
    "\n",
    "artRatings = customers['Q7A_ART']\n",
    "print(artRatings.describe())\n",
    "\n",
    "artRatings = artRatings[(artRatings >= 1) & (artRatings <= 5)]\n",
    "print(artRatings.describe())\n",
    "\n",
    "artRatings = artRatings.astype(str)\n",
    "print(artRatings.describe())\n",
    "\n",
    "artRatings.value_counts().plot(kind='pie')\n",
    "plt.show()\n",
    "\n",
    "artRatings.value_counts().plot(kind='bar')\n",
    "plt.show()\n",
    "\n",
    "artRatings.value_counts().plot(kind='box')\n",
    "plt.show()"
   ]
  },
  {
   "cell_type": "code",
   "execution_count": 2,
   "id": "9943bba2",
   "metadata": {
    "ExecuteTime": {
     "end_time": "2022-09-06T12:35:41.802134Z",
     "start_time": "2022-09-06T12:35:36.261322Z"
    }
   },
   "outputs": [
    {
     "data": {
      "text/html": [
       "<div>\n",
       "<style scoped>\n",
       "    .dataframe tbody tr th:only-of-type {\n",
       "        vertical-align: middle;\n",
       "    }\n",
       "\n",
       "    .dataframe tbody tr th {\n",
       "        vertical-align: top;\n",
       "    }\n",
       "\n",
       "    .dataframe thead th {\n",
       "        text-align: right;\n",
       "    }\n",
       "</style>\n",
       "<table border=\"1\" class=\"dataframe\">\n",
       "  <thead>\n",
       "    <tr style=\"text-align: right;\">\n",
       "      <th></th>\n",
       "      <th>dt</th>\n",
       "      <th>AverageTemperature</th>\n",
       "      <th>AverageTemperatureUncertainty</th>\n",
       "      <th>City</th>\n",
       "      <th>Country</th>\n",
       "      <th>Latitude</th>\n",
       "      <th>Longitude</th>\n",
       "    </tr>\n",
       "  </thead>\n",
       "  <tbody>\n",
       "    <tr>\n",
       "      <th>0</th>\n",
       "      <td>1743-11-01</td>\n",
       "      <td>6.068</td>\n",
       "      <td>1.737</td>\n",
       "      <td>Århus</td>\n",
       "      <td>Denmark</td>\n",
       "      <td>57.05N</td>\n",
       "      <td>10.33E</td>\n",
       "    </tr>\n",
       "    <tr>\n",
       "      <th>1</th>\n",
       "      <td>1743-12-01</td>\n",
       "      <td>NaN</td>\n",
       "      <td>NaN</td>\n",
       "      <td>Århus</td>\n",
       "      <td>Denmark</td>\n",
       "      <td>57.05N</td>\n",
       "      <td>10.33E</td>\n",
       "    </tr>\n",
       "    <tr>\n",
       "      <th>2</th>\n",
       "      <td>1744-01-01</td>\n",
       "      <td>NaN</td>\n",
       "      <td>NaN</td>\n",
       "      <td>Århus</td>\n",
       "      <td>Denmark</td>\n",
       "      <td>57.05N</td>\n",
       "      <td>10.33E</td>\n",
       "    </tr>\n",
       "    <tr>\n",
       "      <th>3</th>\n",
       "      <td>1744-02-01</td>\n",
       "      <td>NaN</td>\n",
       "      <td>NaN</td>\n",
       "      <td>Århus</td>\n",
       "      <td>Denmark</td>\n",
       "      <td>57.05N</td>\n",
       "      <td>10.33E</td>\n",
       "    </tr>\n",
       "    <tr>\n",
       "      <th>4</th>\n",
       "      <td>1744-03-01</td>\n",
       "      <td>NaN</td>\n",
       "      <td>NaN</td>\n",
       "      <td>Århus</td>\n",
       "      <td>Denmark</td>\n",
       "      <td>57.05N</td>\n",
       "      <td>10.33E</td>\n",
       "    </tr>\n",
       "  </tbody>\n",
       "</table>\n",
       "</div>"
      ],
      "text/plain": [
       "           dt  AverageTemperature  AverageTemperatureUncertainty   City  \\\n",
       "0  1743-11-01               6.068                          1.737  Århus   \n",
       "1  1743-12-01                 NaN                            NaN  Århus   \n",
       "2  1744-01-01                 NaN                            NaN  Århus   \n",
       "3  1744-02-01                 NaN                            NaN  Århus   \n",
       "4  1744-03-01                 NaN                            NaN  Århus   \n",
       "\n",
       "   Country Latitude Longitude  \n",
       "0  Denmark   57.05N    10.33E  \n",
       "1  Denmark   57.05N    10.33E  \n",
       "2  Denmark   57.05N    10.33E  \n",
       "3  Denmark   57.05N    10.33E  \n",
       "4  Denmark   57.05N    10.33E  "
      ]
     },
     "execution_count": 2,
     "metadata": {},
     "output_type": "execute_result"
    }
   ],
   "source": [
    "climate = pd.read_csv('GlobalLandTemperaturesByCity.csv')\n",
    "climate.head()"
   ]
  },
  {
   "cell_type": "code",
   "execution_count": 3,
   "id": "4a364c7e",
   "metadata": {
    "ExecuteTime": {
     "end_time": "2022-09-06T12:36:35.424684Z",
     "start_time": "2022-09-06T12:36:31.091707Z"
    }
   },
   "outputs": [
    {
     "data": {
      "text/html": [
       "<div>\n",
       "<style scoped>\n",
       "    .dataframe tbody tr th:only-of-type {\n",
       "        vertical-align: middle;\n",
       "    }\n",
       "\n",
       "    .dataframe tbody tr th {\n",
       "        vertical-align: top;\n",
       "    }\n",
       "\n",
       "    .dataframe thead th {\n",
       "        text-align: right;\n",
       "    }\n",
       "</style>\n",
       "<table border=\"1\" class=\"dataframe\">\n",
       "  <thead>\n",
       "    <tr style=\"text-align: right;\">\n",
       "      <th></th>\n",
       "      <th>dt</th>\n",
       "      <th>AverageTemperature</th>\n",
       "      <th>AverageTemperatureUncertainty</th>\n",
       "      <th>City</th>\n",
       "      <th>Country</th>\n",
       "      <th>Latitude</th>\n",
       "      <th>Longitude</th>\n",
       "    </tr>\n",
       "  </thead>\n",
       "  <tbody>\n",
       "    <tr>\n",
       "      <th>0</th>\n",
       "      <td>1743-11-01</td>\n",
       "      <td>6.068</td>\n",
       "      <td>1.737</td>\n",
       "      <td>Århus</td>\n",
       "      <td>Denmark</td>\n",
       "      <td>57.05N</td>\n",
       "      <td>10.33E</td>\n",
       "    </tr>\n",
       "    <tr>\n",
       "      <th>5</th>\n",
       "      <td>1744-04-01</td>\n",
       "      <td>5.788</td>\n",
       "      <td>3.624</td>\n",
       "      <td>Århus</td>\n",
       "      <td>Denmark</td>\n",
       "      <td>57.05N</td>\n",
       "      <td>10.33E</td>\n",
       "    </tr>\n",
       "    <tr>\n",
       "      <th>6</th>\n",
       "      <td>1744-05-01</td>\n",
       "      <td>10.644</td>\n",
       "      <td>1.283</td>\n",
       "      <td>Århus</td>\n",
       "      <td>Denmark</td>\n",
       "      <td>57.05N</td>\n",
       "      <td>10.33E</td>\n",
       "    </tr>\n",
       "    <tr>\n",
       "      <th>7</th>\n",
       "      <td>1744-06-01</td>\n",
       "      <td>14.051</td>\n",
       "      <td>1.347</td>\n",
       "      <td>Århus</td>\n",
       "      <td>Denmark</td>\n",
       "      <td>57.05N</td>\n",
       "      <td>10.33E</td>\n",
       "    </tr>\n",
       "    <tr>\n",
       "      <th>8</th>\n",
       "      <td>1744-07-01</td>\n",
       "      <td>16.082</td>\n",
       "      <td>1.396</td>\n",
       "      <td>Århus</td>\n",
       "      <td>Denmark</td>\n",
       "      <td>57.05N</td>\n",
       "      <td>10.33E</td>\n",
       "    </tr>\n",
       "  </tbody>\n",
       "</table>\n",
       "</div>"
      ],
      "text/plain": [
       "           dt  AverageTemperature  AverageTemperatureUncertainty   City  \\\n",
       "0  1743-11-01               6.068                          1.737  Århus   \n",
       "5  1744-04-01               5.788                          3.624  Århus   \n",
       "6  1744-05-01              10.644                          1.283  Århus   \n",
       "7  1744-06-01              14.051                          1.347  Århus   \n",
       "8  1744-07-01              16.082                          1.396  Århus   \n",
       "\n",
       "   Country Latitude Longitude  \n",
       "0  Denmark   57.05N    10.33E  \n",
       "5  Denmark   57.05N    10.33E  \n",
       "6  Denmark   57.05N    10.33E  \n",
       "7  Denmark   57.05N    10.33E  \n",
       "8  Denmark   57.05N    10.33E  "
      ]
     },
     "execution_count": 3,
     "metadata": {},
     "output_type": "execute_result"
    }
   ],
   "source": [
    "climate.dropna(axis=0, inplace=True)\n",
    "climate.head()"
   ]
  },
  {
   "cell_type": "code",
   "execution_count": 4,
   "id": "8a7bc54a",
   "metadata": {
    "ExecuteTime": {
     "end_time": "2022-09-06T12:36:42.111409Z",
     "start_time": "2022-09-06T12:36:38.258323Z"
    }
   },
   "outputs": [
    {
     "data": {
      "text/plain": [
       "dt                               0\n",
       "AverageTemperature               0\n",
       "AverageTemperatureUncertainty    0\n",
       "City                             0\n",
       "Country                          0\n",
       "Latitude                         0\n",
       "Longitude                        0\n",
       "dtype: int64"
      ]
     },
     "execution_count": 4,
     "metadata": {},
     "output_type": "execute_result"
    }
   ],
   "source": [
    "climate.isnull().sum()"
   ]
  },
  {
   "cell_type": "code",
   "execution_count": 5,
   "id": "d2daf4b8",
   "metadata": {
    "ExecuteTime": {
     "end_time": "2022-09-06T12:36:43.265974Z",
     "start_time": "2022-09-06T12:36:43.082824Z"
    }
   },
   "outputs": [
    {
     "data": {
      "text/plain": [
       "103481"
      ]
     },
     "execution_count": 5,
     "metadata": {},
     "output_type": "execute_result"
    }
   ],
   "source": [
    "climate['AverageTemperature'].nunique()"
   ]
  },
  {
   "cell_type": "code",
   "execution_count": 6,
   "id": "5851335a",
   "metadata": {
    "ExecuteTime": {
     "end_time": "2022-09-06T12:48:06.559431Z",
     "start_time": "2022-09-06T12:48:06.252064Z"
    }
   },
   "outputs": [
    {
     "data": {
      "text/plain": [
       "<AxesSubplot:>"
      ]
     },
     "execution_count": 6,
     "metadata": {},
     "output_type": "execute_result"
    },
    {
     "data": {
      "image/png": "[encoded data removed]",
      "text/plain": [
       "<Figure size 432x288 with 1 Axes>"
      ]
     },
     "metadata": {},
     "output_type": "display_data"
    }
   ],
   "source": [
    "climate['AverageTemperature'].hist()"
   ]
  },
  {
   "cell_type": "code",
   "execution_count": 7,
   "id": "afa0fed8",
   "metadata": {
    "ExecuteTime": {
     "end_time": "2022-09-06T12:48:08.390540Z",
     "start_time": "2022-09-06T12:48:08.201514Z"
    }
   },
   "outputs": [
    {
     "data": {
      "text/plain": [
       "count    8.235082e+06\n",
       "mean     1.672743e+01\n",
       "std      1.035344e+01\n",
       "min     -4.270400e+01\n",
       "25%      1.029900e+01\n",
       "50%      1.883100e+01\n",
       "75%      2.521000e+01\n",
       "max      3.965100e+01\n",
       "Name: AverageTemperature, dtype: float64"
      ]
     },
     "execution_count": 7,
     "metadata": {},
     "output_type": "execute_result"
    }
   ],
   "source": [
    "climate['AverageTemperature'].describe()"
   ]
  },
  {
   "cell_type": "code",
   "execution_count": 8,
   "id": "be51fca1",
   "metadata": {
    "ExecuteTime": {
     "end_time": "2022-09-06T12:48:22.270291Z",
     "start_time": "2022-09-06T12:48:09.162611Z"
    }
   },
   "outputs": [],
   "source": [
    "climate['dt'] = pd.to_datetime(climate['dt'])\n",
    "climate['year'] = climate['dt'].map(lambda value: value.year)"
   ]
  },
  {
   "cell_type": "code",
   "execution_count": 9,
   "id": "413ecf50",
   "metadata": {
    "ExecuteTime": {
     "end_time": "2022-09-06T12:48:28.307257Z",
     "start_time": "2022-09-06T12:48:27.915924Z"
    }
   },
   "outputs": [],
   "source": [
    "climateSubUS = climate.loc[climate['Country'] == 'United States']"
   ]
  },
  {
   "cell_type": "code",
   "execution_count": 10,
   "id": "087f402f",
   "metadata": {
    "ExecuteTime": {
     "end_time": "2022-09-06T12:48:29.363010Z",
     "start_time": "2022-09-06T12:48:29.172767Z"
    }
   },
   "outputs": [],
   "source": [
    "century = climateSubUS.loc[:, 'year'].map(lambda value: value // 100) + 1"
   ]
  },
  {
   "cell_type": "code",
   "execution_count": 11,
   "id": "421d8aa2",
   "metadata": {
    "ExecuteTime": {
     "end_time": "2022-09-06T12:48:30.296595Z",
     "start_time": "2022-09-06T12:48:30.277195Z"
    }
   },
   "outputs": [],
   "source": [
    "climateSubUS.insert(1, 'century', century)\n",
    "# climateSubUS['century'] = climateSubUS['year'].map(lambda value: value // 100 + 1)\n",
    "# SettingWithCopy warning"
   ]
  },
  {
   "cell_type": "code",
   "execution_count": 12,
   "id": "e2834e74",
   "metadata": {
    "ExecuteTime": {
     "end_time": "2022-09-06T12:48:31.611527Z",
     "start_time": "2022-09-06T12:48:31.599466Z"
    }
   },
   "outputs": [
    {
     "data": {
      "text/html": [
       "<div>\n",
       "<style scoped>\n",
       "    .dataframe tbody tr th:only-of-type {\n",
       "        vertical-align: middle;\n",
       "    }\n",
       "\n",
       "    .dataframe tbody tr th {\n",
       "        vertical-align: top;\n",
       "    }\n",
       "\n",
       "    .dataframe thead th {\n",
       "        text-align: right;\n",
       "    }\n",
       "</style>\n",
       "<table border=\"1\" class=\"dataframe\">\n",
       "  <thead>\n",
       "    <tr style=\"text-align: right;\">\n",
       "      <th></th>\n",
       "      <th>dt</th>\n",
       "      <th>century</th>\n",
       "      <th>AverageTemperature</th>\n",
       "      <th>AverageTemperatureUncertainty</th>\n",
       "      <th>City</th>\n",
       "      <th>Country</th>\n",
       "      <th>Latitude</th>\n",
       "      <th>Longitude</th>\n",
       "      <th>year</th>\n",
       "    </tr>\n",
       "  </thead>\n",
       "  <tbody>\n",
       "    <tr>\n",
       "      <th>47555</th>\n",
       "      <td>1820-01-01</td>\n",
       "      <td>19</td>\n",
       "      <td>2.101</td>\n",
       "      <td>3.217</td>\n",
       "      <td>Abilene</td>\n",
       "      <td>United States</td>\n",
       "      <td>32.95N</td>\n",
       "      <td>100.53W</td>\n",
       "      <td>1820</td>\n",
       "    </tr>\n",
       "    <tr>\n",
       "      <th>47556</th>\n",
       "      <td>1820-02-01</td>\n",
       "      <td>19</td>\n",
       "      <td>6.926</td>\n",
       "      <td>2.853</td>\n",
       "      <td>Abilene</td>\n",
       "      <td>United States</td>\n",
       "      <td>32.95N</td>\n",
       "      <td>100.53W</td>\n",
       "      <td>1820</td>\n",
       "    </tr>\n",
       "    <tr>\n",
       "      <th>47557</th>\n",
       "      <td>1820-03-01</td>\n",
       "      <td>19</td>\n",
       "      <td>10.767</td>\n",
       "      <td>2.395</td>\n",
       "      <td>Abilene</td>\n",
       "      <td>United States</td>\n",
       "      <td>32.95N</td>\n",
       "      <td>100.53W</td>\n",
       "      <td>1820</td>\n",
       "    </tr>\n",
       "    <tr>\n",
       "      <th>47558</th>\n",
       "      <td>1820-04-01</td>\n",
       "      <td>19</td>\n",
       "      <td>17.989</td>\n",
       "      <td>2.202</td>\n",
       "      <td>Abilene</td>\n",
       "      <td>United States</td>\n",
       "      <td>32.95N</td>\n",
       "      <td>100.53W</td>\n",
       "      <td>1820</td>\n",
       "    </tr>\n",
       "    <tr>\n",
       "      <th>47559</th>\n",
       "      <td>1820-05-01</td>\n",
       "      <td>19</td>\n",
       "      <td>21.809</td>\n",
       "      <td>2.036</td>\n",
       "      <td>Abilene</td>\n",
       "      <td>United States</td>\n",
       "      <td>32.95N</td>\n",
       "      <td>100.53W</td>\n",
       "      <td>1820</td>\n",
       "    </tr>\n",
       "  </tbody>\n",
       "</table>\n",
       "</div>"
      ],
      "text/plain": [
       "              dt  century  AverageTemperature  AverageTemperatureUncertainty  \\\n",
       "47555 1820-01-01       19               2.101                          3.217   \n",
       "47556 1820-02-01       19               6.926                          2.853   \n",
       "47557 1820-03-01       19              10.767                          2.395   \n",
       "47558 1820-04-01       19              17.989                          2.202   \n",
       "47559 1820-05-01       19              21.809                          2.036   \n",
       "\n",
       "          City        Country Latitude Longitude  year  \n",
       "47555  Abilene  United States   32.95N   100.53W  1820  \n",
       "47556  Abilene  United States   32.95N   100.53W  1820  \n",
       "47557  Abilene  United States   32.95N   100.53W  1820  \n",
       "47558  Abilene  United States   32.95N   100.53W  1820  \n",
       "47559  Abilene  United States   32.95N   100.53W  1820  "
      ]
     },
     "execution_count": 12,
     "metadata": {},
     "output_type": "execute_result"
    }
   ],
   "source": [
    "climateSubUS.head()"
   ]
  },
  {
   "cell_type": "code",
   "execution_count": 13,
   "id": "d0da605e",
   "metadata": {
    "ExecuteTime": {
     "end_time": "2022-09-06T12:48:33.265633Z",
     "start_time": "2022-09-06T12:48:32.833164Z"
    }
   },
   "outputs": [
    {
     "data": {
      "image/png": "[encoded data removed]",
      "text/plain": [
       "<Figure size 720x720 with 4 Axes>"
      ]
     },
     "metadata": {},
     "output_type": "display_data"
    }
   ],
   "source": [
    "climateSubUS['AverageTemperature'].hist(by=climateSubUS['century'], \n",
    "                                        sharex=True,\n",
    "                                        sharey=True,\n",
    "                                        figsize=(10, 10), \n",
    "                                        bins=20)\n",
    "plt.show()"
   ]
  },
  {
   "cell_type": "code",
   "execution_count": 14,
   "id": "711b6ca6",
   "metadata": {
    "ExecuteTime": {
     "end_time": "2022-09-06T12:48:36.531713Z",
     "start_time": "2022-09-06T12:48:36.407001Z"
    }
   },
   "outputs": [
    {
     "data": {
      "image/png": "[encoded data removed]",
      "text/plain": [
       "<Figure size 432x288 with 1 Axes>"
      ]
     },
     "metadata": {},
     "output_type": "display_data"
    }
   ],
   "source": [
    "climateSubUS.groupby('century')['AverageTemperature'].mean().plot(kind='line')\n",
    "plt.show()"
   ]
  },
  {
   "cell_type": "code",
   "execution_count": 15,
   "id": "d3dc5f18",
   "metadata": {
    "ExecuteTime": {
     "end_time": "2022-09-06T12:48:39.315127Z",
     "start_time": "2022-09-06T12:48:39.294097Z"
    }
   },
   "outputs": [
    {
     "data": {
      "text/plain": [
       "century\n",
       "18    12.073243\n",
       "19    13.662870\n",
       "20    14.386622\n",
       "21    15.197692\n",
       "Name: AverageTemperature, dtype: float64"
      ]
     },
     "execution_count": 15,
     "metadata": {},
     "output_type": "execute_result"
    }
   ],
   "source": [
    "centuryChanges = climateSubUS.groupby('century')['AverageTemperature'].mean()\n",
    "centuryChanges"
   ]
  },
  {
   "cell_type": "code",
   "execution_count": 16,
   "id": "c540864c",
   "metadata": {
    "ExecuteTime": {
     "end_time": "2022-09-06T12:48:41.724589Z",
     "start_time": "2022-09-06T12:48:41.713595Z"
    }
   },
   "outputs": [
    {
     "data": {
      "text/plain": [
       "3.124449115460898"
      ]
     },
     "execution_count": 16,
     "metadata": {},
     "output_type": "execute_result"
    }
   ],
   "source": [
    "centuryChanges[21] - centuryChanges[18]"
   ]
  },
  {
   "cell_type": "code",
   "execution_count": 17,
   "id": "077cf6b8",
   "metadata": {
    "ExecuteTime": {
     "end_time": "2022-09-06T12:48:43.771733Z",
     "start_time": "2022-09-06T12:48:42.967897Z"
    }
   },
   "outputs": [
    {
     "data": {
      "image/png": "[encoded data removed]",
      "text/plain": [
       "<Figure size 720x360 with 1 Axes>"
      ]
     },
     "metadata": {},
     "output_type": "display_data"
    }
   ],
   "source": [
    "x = climateSubUS.loc[:, 'year']\n",
    "y = climateSubUS.loc[:, 'AverageTemperature']\n",
    "fig, ax = plt.subplots(figsize=(10, 5))\n",
    "ax.scatter(x, y)\n",
    "plt.show()"
   ]
  },
  {
   "cell_type": "code",
   "execution_count": 19,
   "id": "ac61a21d",
   "metadata": {
    "ExecuteTime": {
     "end_time": "2022-09-06T12:51:35.402595Z",
     "start_time": "2022-09-06T12:51:35.292171Z"
    }
   },
   "outputs": [
    {
     "data": {
      "text/plain": [
       "<AxesSubplot:xlabel='year'>"
      ]
     },
     "execution_count": 19,
     "metadata": {},
     "output_type": "execute_result"
    },
    {
     "data": {
      "image/png": "[encoded data removed]",
      "text/plain": [
       "<Figure size 432x288 with 1 Axes>"
      ]
     },
     "metadata": {},
     "output_type": "display_data"
    }
   ],
   "source": [
    "climateSubUS.groupby('year').mean()['AverageTemperature'].plot()"
   ]
  },
  {
   "cell_type": "code",
   "execution_count": 20,
   "id": "7a43e8eb",
   "metadata": {
    "ExecuteTime": {
     "end_time": "2022-09-06T12:52:22.017074Z",
     "start_time": "2022-09-06T12:52:21.894031Z"
    }
   },
   "outputs": [
    {
     "data": {
      "text/plain": [
       "<AxesSubplot:xlabel='year'>"
      ]
     },
     "execution_count": 20,
     "metadata": {},
     "output_type": "execute_result"
    },
    {
     "data": {
      "image/png": "[encoded data removed]",
      "text/plain": [
       "<Figure size 432x288 with 1 Axes>"
      ]
     },
     "metadata": {},
     "output_type": "display_data"
    }
   ],
   "source": [
    "climateSubUS.groupby('year').mean()['AverageTemperature'].rolling(10).mean().plot()\n",
    "# rolling mean"
   ]
  },
  {
   "cell_type": "code",
   "execution_count": 68,
   "id": "2002186f",
   "metadata": {
    "ExecuteTime": {
     "end_time": "2022-09-06T13:18:50.994784Z",
     "start_time": "2022-09-06T13:18:50.817061Z"
    }
   },
   "outputs": [
    {
     "data": {
      "text/plain": [
       "Text(0.5, 1.0, 'Top 20 Grade by Mean Biweekly High Rate')"
      ]
     },
     "execution_count": 68,
     "metadata": {},
     "output_type": "execute_result"
    },
    {
     "data": {
      "image/png": "[encoded data removed]",
      "text/plain": [
       "<Figure size 1080x360 with 1 Axes>"
      ]
     },
     "metadata": {},
     "output_type": "display_data"
    }
   ],
   "source": [
    "fig = plt.figure(figsize=(15, 5))\n",
    "# get current axis\n",
    "ax = fig.gca()\n",
    "salaryRanges.groupby('Grade').mean().sort_values('Biweekly High Rate', ascending=False).head(20).plot.bar(stacked=False, ax=ax, color='darkorange')\n",
    "ax.set_title('Top 20 Grade by Mean Biweekly High Rate')"
   ]
  },
  {
   "cell_type": "code",
   "execution_count": 69,
   "id": "419e14ea",
   "metadata": {
    "ExecuteTime": {
     "end_time": "2022-09-06T13:19:32.107262Z",
     "start_time": "2022-09-06T13:19:31.916005Z"
    },
    "scrolled": false
   },
   "outputs": [
    {
     "data": {
      "text/plain": [
       "Text(0.5, 1.0, 'Bottom 20 Grade by Mean Biweekly High Rate')"
      ]
     },
     "execution_count": 69,
     "metadata": {},
     "output_type": "execute_result"
    },
    {
     "data": {
      "image/png": "[encoded data removed]",
      "text/plain": [
       "<Figure size 1080x360 with 1 Axes>"
      ]
     },
     "metadata": {},
     "output_type": "display_data"
    }
   ],
   "source": [
    "fig = plt.figure(figsize=(15, 5))\n",
    "# get current axis\n",
    "ax = fig.gca()\n",
    "salaryRanges.groupby('Grade').mean().sort_values('Biweekly High Rate', ascending=False).tail(20).plot.bar(stacked=False, ax=ax, color='darkorange')\n",
    "ax.set_title('Bottom 20 Grade by Mean Biweekly High Rate')"
   ]
  },
  {
   "cell_type": "code",
   "execution_count": 83,
   "id": "bcbc2e19",
   "metadata": {
    "ExecuteTime": {
     "end_time": "2022-09-06T13:40:12.617923Z",
     "start_time": "2022-09-06T13:40:12.600340Z"
    }
   },
   "outputs": [
    {
     "data": {
      "text/plain": [
       "13.931919540229886"
      ]
     },
     "execution_count": 83,
     "metadata": {},
     "output_type": "execute_result"
    }
   ],
   "source": [
    "sorted_df = salaryRanges.groupby('Grade').mean().sort_values('Biweekly High Rate', ascending=False)\n",
    "sorted_df.iat[0, 0] / sorted_df.iat[-1, 0]"
   ]
  },
  {
   "cell_type": "code",
   "execution_count": null,
   "id": "e5392992",
   "metadata": {},
   "outputs": [],
   "source": [
    "# git test"
   ]
  }
 ],
 "metadata": {
  "kernelspec": {
   "display_name": "Python 3 (ipykernel)",
   "language": "python",
   "name": "python3"
  },
  "language_info": {
   "codemirror_mode": {
    "name": "ipython",
    "version": 3
   },
   "file_extension": ".py",
   "mimetype": "text/x-python",
   "name": "python",
   "nbconvert_exporter": "python",
   "pygments_lexer": "ipython3",
   "version": "3.9.12"
  },
  "latex_envs": {
   "LaTeX_envs_menu_present": true,
   "autoclose": false,
   "autocomplete": true,
   "bibliofile": "biblio.bib",
   "cite_by": "apalike",
   "current_citInitial": 1,
   "eqLabelWithNumbers": true,
   "eqNumInitial": 1,
   "hotkeys": {
    "equation": "Ctrl-E",
    "itemize": "Ctrl-I"
   },
   "labels_anchors": false,
   "latex_user_defs": false,
   "report_style_numbering": false,
   "user_envs_cfg": false
  },
  "toc": {
   "base_numbering": 1,
   "nav_menu": {},
   "number_sections": true,
   "sideBar": true,
   "skip_h1_title": false,
   "title_cell": "Table of Contents",
   "title_sidebar": "Contents",
   "toc_cell": false,
   "toc_position": {},
   "toc_section_display": true,
   "toc_window_display": false
  },
  "varInspector": {
   "cols": {
    "lenName": 16,
    "lenType": 16,
    "lenVar": 40
   },
   "kernels_config": {
    "python": {
     "delete_cmd_postfix": "",
     "delete_cmd_prefix": "del ",
     "library": "var_list.py",
     "varRefreshCmd": "print(var_dic_list())"
    },
    "r": {
     "delete_cmd_postfix": ") ",
     "delete_cmd_prefix": "rm(",
     "library": "var_list.r",
     "varRefreshCmd": "cat(var_dic_list()) "
    }
   },
   "types_to_exclude": [
    "module",
    "function",
    "builtin_function_or_method",
    "instance",
    "_Feature"
   ],
   "window_display": false
  },
  "vp": {
   "vp_config_version": "1.0.0",
   "vp_menu_width": 273,
   "vp_note_display": false,
   "vp_note_width": 0,
   "vp_position": {
    "width": 278
   },
   "vp_section_display": false,
   "vp_signature": "VisualPython"
  }
 },
 "nbformat": 4,
 "nbformat_minor": 5
}
