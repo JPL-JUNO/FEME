{
 "cells": [
  {
   "cell_type": "code",
   "execution_count": 1,
   "id": "92fde4f3",
   "metadata": {
    "ExecuteTime": {
     "end_time": "2022-09-12T09:59:46.412746Z",
     "start_time": "2022-09-12T09:59:44.238913Z"
    }
   },
   "outputs": [],
   "source": [
    "import pandas as pd"
   ]
  },
  {
   "cell_type": "code",
   "execution_count": 2,
   "id": "2ec107e6",
   "metadata": {
    "ExecuteTime": {
     "end_time": "2022-09-12T09:59:46.428752Z",
     "start_time": "2022-09-12T09:59:46.413762Z"
    }
   },
   "outputs": [
    {
     "name": "stdout",
     "output_type": "stream",
     "text": [
      "           city boolean ordinal_column  quantitative_column\n",
      "0         tokyo     yes  somewhat like                  1.0\n",
      "1          None      no           like                 11.0\n",
      "2        london    None  somewhat like                 -0.5\n",
      "3       seattle      no           like                 10.0\n",
      "4  sanfrancisco      no  somewhat like                  NaN\n",
      "5         tokyo     yes        dislike                 20.0\n"
     ]
    }
   ],
   "source": [
    "X = pd.DataFrame(\n",
    "    {\n",
    "        'city':['tokyo', None, 'london', 'seattle', 'sanfrancisco', 'tokyo'],\n",
    "        'boolean':['yes', 'no', None, 'no', 'no', 'yes'],\n",
    "        'ordinal_column':['somewhat like', 'like', 'somewhat like', 'like', 'somewhat like', 'dislike'],\n",
    "        'quantitative_column':[1, 11, -.5, 10, None, 20]\n",
    "    }\n",
    ")\n",
    "print(X)"
   ]
  },
  {
   "cell_type": "code",
   "execution_count": 3,
   "id": "28577dd0",
   "metadata": {
    "ExecuteTime": {
     "end_time": "2022-09-12T09:59:46.444741Z",
     "start_time": "2022-09-12T09:59:46.430725Z"
    }
   },
   "outputs": [
    {
     "data": {
      "text/plain": [
       "city                   1\n",
       "boolean                1\n",
       "ordinal_column         0\n",
       "quantitative_column    1\n",
       "dtype: int64"
      ]
     },
     "execution_count": 3,
     "metadata": {},
     "output_type": "execute_result"
    }
   ],
   "source": [
    "X.isnull().sum()"
   ]
  },
  {
   "cell_type": "code",
   "execution_count": 4,
   "id": "acc1630d",
   "metadata": {
    "ExecuteTime": {
     "end_time": "2022-09-12T09:59:49.072631Z",
     "start_time": "2022-09-12T09:59:46.448740Z"
    }
   },
   "outputs": [],
   "source": [
    "from sklearn.base import TransformerMixin\n",
    "class CustomCategoryImputer(TransformerMixin):\n",
    "    def __init__(self, cols=None):\n",
    "        self.cols = cols\n",
    "        \n",
    "    def transform(self, df):\n",
    "        X = df.copy()\n",
    "        for col in self.cols:\n",
    "            X[col].fillna(X[col].value_counts().index[0], inplace=True)\n",
    "        return X\n",
    "    \n",
    "    def fit(self, *_):\n",
    "        return self"
   ]
  },
  {
   "cell_type": "code",
   "execution_count": 5,
   "id": "d5645d9a",
   "metadata": {
    "ExecuteTime": {
     "end_time": "2022-09-12T09:59:49.088472Z",
     "start_time": "2022-09-12T09:59:49.073469Z"
    }
   },
   "outputs": [
    {
     "data": {
      "text/html": [
       "<div>\n",
       "<style scoped>\n",
       "    .dataframe tbody tr th:only-of-type {\n",
       "        vertical-align: middle;\n",
       "    }\n",
       "\n",
       "    .dataframe tbody tr th {\n",
       "        vertical-align: top;\n",
       "    }\n",
       "\n",
       "    .dataframe thead th {\n",
       "        text-align: right;\n",
       "    }\n",
       "</style>\n",
       "<table border=\"1\" class=\"dataframe\">\n",
       "  <thead>\n",
       "    <tr style=\"text-align: right;\">\n",
       "      <th></th>\n",
       "      <th>city</th>\n",
       "      <th>boolean</th>\n",
       "      <th>ordinal_column</th>\n",
       "      <th>quantitative_column</th>\n",
       "    </tr>\n",
       "  </thead>\n",
       "  <tbody>\n",
       "    <tr>\n",
       "      <th>0</th>\n",
       "      <td>tokyo</td>\n",
       "      <td>yes</td>\n",
       "      <td>somewhat like</td>\n",
       "      <td>1.0</td>\n",
       "    </tr>\n",
       "    <tr>\n",
       "      <th>1</th>\n",
       "      <td>tokyo</td>\n",
       "      <td>no</td>\n",
       "      <td>like</td>\n",
       "      <td>11.0</td>\n",
       "    </tr>\n",
       "    <tr>\n",
       "      <th>2</th>\n",
       "      <td>london</td>\n",
       "      <td>no</td>\n",
       "      <td>somewhat like</td>\n",
       "      <td>-0.5</td>\n",
       "    </tr>\n",
       "    <tr>\n",
       "      <th>3</th>\n",
       "      <td>seattle</td>\n",
       "      <td>no</td>\n",
       "      <td>like</td>\n",
       "      <td>10.0</td>\n",
       "    </tr>\n",
       "    <tr>\n",
       "      <th>4</th>\n",
       "      <td>sanfrancisco</td>\n",
       "      <td>no</td>\n",
       "      <td>somewhat like</td>\n",
       "      <td>NaN</td>\n",
       "    </tr>\n",
       "    <tr>\n",
       "      <th>5</th>\n",
       "      <td>tokyo</td>\n",
       "      <td>yes</td>\n",
       "      <td>dislike</td>\n",
       "      <td>20.0</td>\n",
       "    </tr>\n",
       "  </tbody>\n",
       "</table>\n",
       "</div>"
      ],
      "text/plain": [
       "           city boolean ordinal_column  quantitative_column\n",
       "0         tokyo     yes  somewhat like                  1.0\n",
       "1         tokyo      no           like                 11.0\n",
       "2        london      no  somewhat like                 -0.5\n",
       "3       seattle      no           like                 10.0\n",
       "4  sanfrancisco      no  somewhat like                  NaN\n",
       "5         tokyo     yes        dislike                 20.0"
      ]
     },
     "execution_count": 5,
     "metadata": {},
     "output_type": "execute_result"
    }
   ],
   "source": [
    "cci = CustomCategoryImputer(cols=['city', 'boolean'])\n",
    "cci.fit_transform(X)"
   ]
  },
  {
   "cell_type": "code",
   "execution_count": 6,
   "id": "b0be2057",
   "metadata": {
    "ExecuteTime": {
     "end_time": "2022-09-12T09:59:49.912545Z",
     "start_time": "2022-09-12T09:59:49.090473Z"
    }
   },
   "outputs": [],
   "source": [
    "from sklearn.impute import SimpleImputer\n",
    "class CustomQuantitativeImputer(TransformerMixin):\n",
    "    def __init__(self, cols=None, strategy='mean'):\n",
    "        self.cols = cols\n",
    "        self.strategy = strategy\n",
    "        \n",
    "    def transform(self, df):\n",
    "        X = df.copy()\n",
    "        impute = SimpleImputer(strategy=self.strategy)\n",
    "        for col in self.cols:\n",
    "            X[col] = impute.fit_transform(X[[col]])\n",
    "        return X\n",
    "    \n",
    "    def fit(self, *_):\n",
    "        return self"
   ]
  },
  {
   "cell_type": "code",
   "execution_count": 7,
   "id": "ee09db38",
   "metadata": {
    "ExecuteTime": {
     "end_time": "2022-09-12T09:59:49.927591Z",
     "start_time": "2022-09-12T09:59:49.914593Z"
    }
   },
   "outputs": [
    {
     "data": {
      "text/html": [
       "<div>\n",
       "<style scoped>\n",
       "    .dataframe tbody tr th:only-of-type {\n",
       "        vertical-align: middle;\n",
       "    }\n",
       "\n",
       "    .dataframe tbody tr th {\n",
       "        vertical-align: top;\n",
       "    }\n",
       "\n",
       "    .dataframe thead th {\n",
       "        text-align: right;\n",
       "    }\n",
       "</style>\n",
       "<table border=\"1\" class=\"dataframe\">\n",
       "  <thead>\n",
       "    <tr style=\"text-align: right;\">\n",
       "      <th></th>\n",
       "      <th>city</th>\n",
       "      <th>boolean</th>\n",
       "      <th>ordinal_column</th>\n",
       "      <th>quantitative_column</th>\n",
       "    </tr>\n",
       "  </thead>\n",
       "  <tbody>\n",
       "    <tr>\n",
       "      <th>0</th>\n",
       "      <td>tokyo</td>\n",
       "      <td>yes</td>\n",
       "      <td>somewhat like</td>\n",
       "      <td>1.0</td>\n",
       "    </tr>\n",
       "    <tr>\n",
       "      <th>1</th>\n",
       "      <td>None</td>\n",
       "      <td>no</td>\n",
       "      <td>like</td>\n",
       "      <td>11.0</td>\n",
       "    </tr>\n",
       "    <tr>\n",
       "      <th>2</th>\n",
       "      <td>london</td>\n",
       "      <td>None</td>\n",
       "      <td>somewhat like</td>\n",
       "      <td>-0.5</td>\n",
       "    </tr>\n",
       "    <tr>\n",
       "      <th>3</th>\n",
       "      <td>seattle</td>\n",
       "      <td>no</td>\n",
       "      <td>like</td>\n",
       "      <td>10.0</td>\n",
       "    </tr>\n",
       "    <tr>\n",
       "      <th>4</th>\n",
       "      <td>sanfrancisco</td>\n",
       "      <td>no</td>\n",
       "      <td>somewhat like</td>\n",
       "      <td>8.3</td>\n",
       "    </tr>\n",
       "    <tr>\n",
       "      <th>5</th>\n",
       "      <td>tokyo</td>\n",
       "      <td>yes</td>\n",
       "      <td>dislike</td>\n",
       "      <td>20.0</td>\n",
       "    </tr>\n",
       "  </tbody>\n",
       "</table>\n",
       "</div>"
      ],
      "text/plain": [
       "           city boolean ordinal_column  quantitative_column\n",
       "0         tokyo     yes  somewhat like                  1.0\n",
       "1          None      no           like                 11.0\n",
       "2        london    None  somewhat like                 -0.5\n",
       "3       seattle      no           like                 10.0\n",
       "4  sanfrancisco      no  somewhat like                  8.3\n",
       "5         tokyo     yes        dislike                 20.0"
      ]
     },
     "execution_count": 7,
     "metadata": {},
     "output_type": "execute_result"
    }
   ],
   "source": [
    "cqi = CustomQuantitativeImputer(cols=['quantitative_column'], strategy='mean')\n",
    "cqi.fit_transform(X)"
   ]
  },
  {
   "cell_type": "code",
   "execution_count": 8,
   "id": "77a8e1ea",
   "metadata": {
    "ExecuteTime": {
     "end_time": "2022-09-12T09:59:49.958028Z",
     "start_time": "2022-09-12T09:59:49.928593Z"
    }
   },
   "outputs": [],
   "source": [
    "from sklearn.pipeline import Pipeline"
   ]
  },
  {
   "cell_type": "code",
   "execution_count": 9,
   "id": "cffa305a",
   "metadata": {
    "ExecuteTime": {
     "end_time": "2022-09-12T09:59:49.989953Z",
     "start_time": "2022-09-12T09:59:49.960982Z"
    }
   },
   "outputs": [
    {
     "data": {
      "text/html": [
       "<div>\n",
       "<style scoped>\n",
       "    .dataframe tbody tr th:only-of-type {\n",
       "        vertical-align: middle;\n",
       "    }\n",
       "\n",
       "    .dataframe tbody tr th {\n",
       "        vertical-align: top;\n",
       "    }\n",
       "\n",
       "    .dataframe thead th {\n",
       "        text-align: right;\n",
       "    }\n",
       "</style>\n",
       "<table border=\"1\" class=\"dataframe\">\n",
       "  <thead>\n",
       "    <tr style=\"text-align: right;\">\n",
       "      <th></th>\n",
       "      <th>city</th>\n",
       "      <th>boolean</th>\n",
       "      <th>ordinal_column</th>\n",
       "      <th>quantitative_column</th>\n",
       "    </tr>\n",
       "  </thead>\n",
       "  <tbody>\n",
       "    <tr>\n",
       "      <th>0</th>\n",
       "      <td>tokyo</td>\n",
       "      <td>yes</td>\n",
       "      <td>somewhat like</td>\n",
       "      <td>1.0</td>\n",
       "    </tr>\n",
       "    <tr>\n",
       "      <th>1</th>\n",
       "      <td>tokyo</td>\n",
       "      <td>no</td>\n",
       "      <td>like</td>\n",
       "      <td>11.0</td>\n",
       "    </tr>\n",
       "    <tr>\n",
       "      <th>2</th>\n",
       "      <td>london</td>\n",
       "      <td>no</td>\n",
       "      <td>somewhat like</td>\n",
       "      <td>-0.5</td>\n",
       "    </tr>\n",
       "    <tr>\n",
       "      <th>3</th>\n",
       "      <td>seattle</td>\n",
       "      <td>no</td>\n",
       "      <td>like</td>\n",
       "      <td>10.0</td>\n",
       "    </tr>\n",
       "    <tr>\n",
       "      <th>4</th>\n",
       "      <td>sanfrancisco</td>\n",
       "      <td>no</td>\n",
       "      <td>somewhat like</td>\n",
       "      <td>8.3</td>\n",
       "    </tr>\n",
       "    <tr>\n",
       "      <th>5</th>\n",
       "      <td>tokyo</td>\n",
       "      <td>yes</td>\n",
       "      <td>dislike</td>\n",
       "      <td>20.0</td>\n",
       "    </tr>\n",
       "  </tbody>\n",
       "</table>\n",
       "</div>"
      ],
      "text/plain": [
       "           city boolean ordinal_column  quantitative_column\n",
       "0         tokyo     yes  somewhat like                  1.0\n",
       "1         tokyo      no           like                 11.0\n",
       "2        london      no  somewhat like                 -0.5\n",
       "3       seattle      no           like                 10.0\n",
       "4  sanfrancisco      no  somewhat like                  8.3\n",
       "5         tokyo     yes        dislike                 20.0"
      ]
     },
     "execution_count": 9,
     "metadata": {},
     "output_type": "execute_result"
    }
   ],
   "source": [
    "imputer = Pipeline([('quant', cqi), ('category', cci)])\n",
    "imputer.fit_transform(X)"
   ]
  },
  {
   "cell_type": "code",
   "execution_count": 10,
   "id": "ad829050",
   "metadata": {
    "ExecuteTime": {
     "end_time": "2022-09-12T09:59:50.005986Z",
     "start_time": "2022-09-12T09:59:49.990956Z"
    }
   },
   "outputs": [
    {
     "data": {
      "text/html": [
       "<div>\n",
       "<style scoped>\n",
       "    .dataframe tbody tr th:only-of-type {\n",
       "        vertical-align: middle;\n",
       "    }\n",
       "\n",
       "    .dataframe tbody tr th {\n",
       "        vertical-align: top;\n",
       "    }\n",
       "\n",
       "    .dataframe thead th {\n",
       "        text-align: right;\n",
       "    }\n",
       "</style>\n",
       "<table border=\"1\" class=\"dataframe\">\n",
       "  <thead>\n",
       "    <tr style=\"text-align: right;\">\n",
       "      <th></th>\n",
       "      <th>ordinal_column</th>\n",
       "      <th>quantitative_column</th>\n",
       "      <th>city__london</th>\n",
       "      <th>city__sanfrancisco</th>\n",
       "      <th>city__seattle</th>\n",
       "      <th>city__tokyo</th>\n",
       "      <th>boolean__no</th>\n",
       "      <th>boolean__yes</th>\n",
       "    </tr>\n",
       "  </thead>\n",
       "  <tbody>\n",
       "    <tr>\n",
       "      <th>0</th>\n",
       "      <td>somewhat like</td>\n",
       "      <td>1.0</td>\n",
       "      <td>0</td>\n",
       "      <td>0</td>\n",
       "      <td>0</td>\n",
       "      <td>1</td>\n",
       "      <td>0</td>\n",
       "      <td>1</td>\n",
       "    </tr>\n",
       "    <tr>\n",
       "      <th>1</th>\n",
       "      <td>like</td>\n",
       "      <td>11.0</td>\n",
       "      <td>0</td>\n",
       "      <td>0</td>\n",
       "      <td>0</td>\n",
       "      <td>0</td>\n",
       "      <td>1</td>\n",
       "      <td>0</td>\n",
       "    </tr>\n",
       "    <tr>\n",
       "      <th>2</th>\n",
       "      <td>somewhat like</td>\n",
       "      <td>-0.5</td>\n",
       "      <td>1</td>\n",
       "      <td>0</td>\n",
       "      <td>0</td>\n",
       "      <td>0</td>\n",
       "      <td>0</td>\n",
       "      <td>0</td>\n",
       "    </tr>\n",
       "    <tr>\n",
       "      <th>3</th>\n",
       "      <td>like</td>\n",
       "      <td>10.0</td>\n",
       "      <td>0</td>\n",
       "      <td>0</td>\n",
       "      <td>1</td>\n",
       "      <td>0</td>\n",
       "      <td>1</td>\n",
       "      <td>0</td>\n",
       "    </tr>\n",
       "    <tr>\n",
       "      <th>4</th>\n",
       "      <td>somewhat like</td>\n",
       "      <td>NaN</td>\n",
       "      <td>0</td>\n",
       "      <td>1</td>\n",
       "      <td>0</td>\n",
       "      <td>0</td>\n",
       "      <td>1</td>\n",
       "      <td>0</td>\n",
       "    </tr>\n",
       "    <tr>\n",
       "      <th>5</th>\n",
       "      <td>dislike</td>\n",
       "      <td>20.0</td>\n",
       "      <td>0</td>\n",
       "      <td>0</td>\n",
       "      <td>0</td>\n",
       "      <td>1</td>\n",
       "      <td>0</td>\n",
       "      <td>1</td>\n",
       "    </tr>\n",
       "  </tbody>\n",
       "</table>\n",
       "</div>"
      ],
      "text/plain": [
       "  ordinal_column  quantitative_column  city__london  city__sanfrancisco  \\\n",
       "0  somewhat like                  1.0             0                   0   \n",
       "1           like                 11.0             0                   0   \n",
       "2  somewhat like                 -0.5             1                   0   \n",
       "3           like                 10.0             0                   0   \n",
       "4  somewhat like                  NaN             0                   1   \n",
       "5        dislike                 20.0             0                   0   \n",
       "\n",
       "   city__seattle  city__tokyo  boolean__no  boolean__yes  \n",
       "0              0            1            0             1  \n",
       "1              0            0            1             0  \n",
       "2              0            0            0             0  \n",
       "3              1            0            1             0  \n",
       "4              0            0            1             0  \n",
       "5              0            1            0             1  "
      ]
     },
     "execution_count": 10,
     "metadata": {},
     "output_type": "execute_result"
    }
   ],
   "source": [
    "pd.get_dummies(X,\n",
    "               columns=['city', 'boolean'],\n",
    "               prefix_sep='__')"
   ]
  },
  {
   "cell_type": "code",
   "execution_count": 11,
   "id": "552894d7",
   "metadata": {
    "ExecuteTime": {
     "end_time": "2022-09-12T09:59:50.069953Z",
     "start_time": "2022-09-12T09:59:50.006954Z"
    }
   },
   "outputs": [
    {
     "data": {
      "text/html": [
       "<div>\n",
       "<style scoped>\n",
       "    .dataframe tbody tr th:only-of-type {\n",
       "        vertical-align: middle;\n",
       "    }\n",
       "\n",
       "    .dataframe tbody tr th {\n",
       "        vertical-align: top;\n",
       "    }\n",
       "\n",
       "    .dataframe thead th {\n",
       "        text-align: right;\n",
       "    }\n",
       "</style>\n",
       "<table border=\"1\" class=\"dataframe\">\n",
       "  <thead>\n",
       "    <tr style=\"text-align: right;\">\n",
       "      <th></th>\n",
       "      <th>city</th>\n",
       "      <th>boolean</th>\n",
       "      <th>ordinal_column</th>\n",
       "      <th>quantitative_column</th>\n",
       "    </tr>\n",
       "  </thead>\n",
       "  <tbody>\n",
       "    <tr>\n",
       "      <th>0</th>\n",
       "      <td>tokyo</td>\n",
       "      <td>yes</td>\n",
       "      <td>somewhat like</td>\n",
       "      <td>1.0</td>\n",
       "    </tr>\n",
       "    <tr>\n",
       "      <th>1</th>\n",
       "      <td>None</td>\n",
       "      <td>no</td>\n",
       "      <td>like</td>\n",
       "      <td>11.0</td>\n",
       "    </tr>\n",
       "    <tr>\n",
       "      <th>2</th>\n",
       "      <td>london</td>\n",
       "      <td>None</td>\n",
       "      <td>somewhat like</td>\n",
       "      <td>-0.5</td>\n",
       "    </tr>\n",
       "    <tr>\n",
       "      <th>3</th>\n",
       "      <td>seattle</td>\n",
       "      <td>no</td>\n",
       "      <td>like</td>\n",
       "      <td>10.0</td>\n",
       "    </tr>\n",
       "    <tr>\n",
       "      <th>4</th>\n",
       "      <td>sanfrancisco</td>\n",
       "      <td>no</td>\n",
       "      <td>somewhat like</td>\n",
       "      <td>NaN</td>\n",
       "    </tr>\n",
       "    <tr>\n",
       "      <th>5</th>\n",
       "      <td>tokyo</td>\n",
       "      <td>yes</td>\n",
       "      <td>dislike</td>\n",
       "      <td>20.0</td>\n",
       "    </tr>\n",
       "  </tbody>\n",
       "</table>\n",
       "</div>"
      ],
      "text/plain": [
       "           city boolean ordinal_column  quantitative_column\n",
       "0         tokyo     yes  somewhat like                  1.0\n",
       "1          None      no           like                 11.0\n",
       "2        london    None  somewhat like                 -0.5\n",
       "3       seattle      no           like                 10.0\n",
       "4  sanfrancisco      no  somewhat like                  NaN\n",
       "5         tokyo     yes        dislike                 20.0"
      ]
     },
     "execution_count": 11,
     "metadata": {},
     "output_type": "execute_result"
    }
   ],
   "source": [
    "X"
   ]
  },
  {
   "cell_type": "code",
   "execution_count": 12,
   "id": "8847818b",
   "metadata": {
    "ExecuteTime": {
     "end_time": "2022-09-12T09:59:50.101344Z",
     "start_time": "2022-09-12T09:59:50.070955Z"
    }
   },
   "outputs": [],
   "source": [
    "class CustomDummifier(TransformerMixin):\n",
    "    def __init__(self, cols=None):\n",
    "        self.cols = cols\n",
    "        \n",
    "    def transform(self, X):\n",
    "        return pd.get_dummies(X, columns=self.cols)\n",
    "    \n",
    "    def fit(self, *_):\n",
    "        return self"
   ]
  },
  {
   "cell_type": "code",
   "execution_count": 13,
   "id": "2ba8dabe",
   "metadata": {
    "ExecuteTime": {
     "end_time": "2022-09-12T09:59:50.117369Z",
     "start_time": "2022-09-12T09:59:50.103345Z"
    }
   },
   "outputs": [
    {
     "data": {
      "text/html": [
       "<div>\n",
       "<style scoped>\n",
       "    .dataframe tbody tr th:only-of-type {\n",
       "        vertical-align: middle;\n",
       "    }\n",
       "\n",
       "    .dataframe tbody tr th {\n",
       "        vertical-align: top;\n",
       "    }\n",
       "\n",
       "    .dataframe thead th {\n",
       "        text-align: right;\n",
       "    }\n",
       "</style>\n",
       "<table border=\"1\" class=\"dataframe\">\n",
       "  <thead>\n",
       "    <tr style=\"text-align: right;\">\n",
       "      <th></th>\n",
       "      <th>ordinal_column</th>\n",
       "      <th>quantitative_column</th>\n",
       "      <th>boolean_no</th>\n",
       "      <th>boolean_yes</th>\n",
       "      <th>city_london</th>\n",
       "      <th>city_sanfrancisco</th>\n",
       "      <th>city_seattle</th>\n",
       "      <th>city_tokyo</th>\n",
       "    </tr>\n",
       "  </thead>\n",
       "  <tbody>\n",
       "    <tr>\n",
       "      <th>0</th>\n",
       "      <td>somewhat like</td>\n",
       "      <td>1.0</td>\n",
       "      <td>0</td>\n",
       "      <td>1</td>\n",
       "      <td>0</td>\n",
       "      <td>0</td>\n",
       "      <td>0</td>\n",
       "      <td>1</td>\n",
       "    </tr>\n",
       "    <tr>\n",
       "      <th>1</th>\n",
       "      <td>like</td>\n",
       "      <td>11.0</td>\n",
       "      <td>1</td>\n",
       "      <td>0</td>\n",
       "      <td>0</td>\n",
       "      <td>0</td>\n",
       "      <td>0</td>\n",
       "      <td>0</td>\n",
       "    </tr>\n",
       "    <tr>\n",
       "      <th>2</th>\n",
       "      <td>somewhat like</td>\n",
       "      <td>-0.5</td>\n",
       "      <td>0</td>\n",
       "      <td>0</td>\n",
       "      <td>1</td>\n",
       "      <td>0</td>\n",
       "      <td>0</td>\n",
       "      <td>0</td>\n",
       "    </tr>\n",
       "    <tr>\n",
       "      <th>3</th>\n",
       "      <td>like</td>\n",
       "      <td>10.0</td>\n",
       "      <td>1</td>\n",
       "      <td>0</td>\n",
       "      <td>0</td>\n",
       "      <td>0</td>\n",
       "      <td>1</td>\n",
       "      <td>0</td>\n",
       "    </tr>\n",
       "    <tr>\n",
       "      <th>4</th>\n",
       "      <td>somewhat like</td>\n",
       "      <td>NaN</td>\n",
       "      <td>1</td>\n",
       "      <td>0</td>\n",
       "      <td>0</td>\n",
       "      <td>1</td>\n",
       "      <td>0</td>\n",
       "      <td>0</td>\n",
       "    </tr>\n",
       "    <tr>\n",
       "      <th>5</th>\n",
       "      <td>dislike</td>\n",
       "      <td>20.0</td>\n",
       "      <td>0</td>\n",
       "      <td>1</td>\n",
       "      <td>0</td>\n",
       "      <td>0</td>\n",
       "      <td>0</td>\n",
       "      <td>1</td>\n",
       "    </tr>\n",
       "  </tbody>\n",
       "</table>\n",
       "</div>"
      ],
      "text/plain": [
       "  ordinal_column  quantitative_column  boolean_no  boolean_yes  city_london  \\\n",
       "0  somewhat like                  1.0           0            1            0   \n",
       "1           like                 11.0           1            0            0   \n",
       "2  somewhat like                 -0.5           0            0            1   \n",
       "3           like                 10.0           1            0            0   \n",
       "4  somewhat like                  NaN           1            0            0   \n",
       "5        dislike                 20.0           0            1            0   \n",
       "\n",
       "   city_sanfrancisco  city_seattle  city_tokyo  \n",
       "0                  0             0           1  \n",
       "1                  0             0           0  \n",
       "2                  0             0           0  \n",
       "3                  0             1           0  \n",
       "4                  1             0           0  \n",
       "5                  0             0           1  "
      ]
     },
     "execution_count": 13,
     "metadata": {},
     "output_type": "execute_result"
    }
   ],
   "source": [
    "cd = CustomDummifier(cols=['boolean', 'city'])\n",
    "cd.fit_transform(X)"
   ]
  },
  {
   "cell_type": "code",
   "execution_count": 14,
   "id": "1341317e",
   "metadata": {
    "ExecuteTime": {
     "end_time": "2022-09-12T09:59:50.133470Z",
     "start_time": "2022-09-12T09:59:50.119343Z"
    }
   },
   "outputs": [],
   "source": [
    "ordering = ['dislike', 'somewhat like', 'like']"
   ]
  },
  {
   "cell_type": "code",
   "execution_count": 15,
   "id": "689f4ac6",
   "metadata": {
    "ExecuteTime": {
     "end_time": "2022-09-12T09:59:50.148986Z",
     "start_time": "2022-09-12T09:59:50.134988Z"
    }
   },
   "outputs": [
    {
     "name": "stdout",
     "output_type": "stream",
     "text": [
      "0    somewhat like\n",
      "1             like\n",
      "2    somewhat like\n",
      "3             like\n",
      "4    somewhat like\n",
      "5          dislike\n",
      "Name: ordinal_column, dtype: object\n"
     ]
    }
   ],
   "source": [
    "print(X['ordinal_column'])"
   ]
  },
  {
   "cell_type": "code",
   "execution_count": 16,
   "id": "7c0895cb",
   "metadata": {
    "ExecuteTime": {
     "end_time": "2022-09-12T09:59:50.164986Z",
     "start_time": "2022-09-12T09:59:50.152990Z"
    }
   },
   "outputs": [
    {
     "name": "stdout",
     "output_type": "stream",
     "text": [
      "0    1\n",
      "1    2\n",
      "2    1\n",
      "3    2\n",
      "4    1\n",
      "5    0\n",
      "Name: ordinal_column, dtype: int64\n"
     ]
    }
   ],
   "source": [
    "print(X['ordinal_column'].map(lambda value: ordering.index(value)))"
   ]
  },
  {
   "cell_type": "code",
   "execution_count": 17,
   "id": "d5b9688c",
   "metadata": {
    "ExecuteTime": {
     "end_time": "2022-09-12T09:59:50.180986Z",
     "start_time": "2022-09-12T09:59:50.168993Z"
    }
   },
   "outputs": [],
   "source": [
    "class CustomEncoder(TransformerMixin):\n",
    "    def __init__(self, col, ordering=None):\n",
    "        self.ordering = ordering\n",
    "        self.col = col\n",
    "        \n",
    "    def transform(self, df):\n",
    "        X = df.copy()\n",
    "        X[self.col] = X[self.col].map(lambda value: self.ordering.index(value))\n",
    "        return X\n",
    "    \n",
    "    def fit(self, *_):\n",
    "        return self"
   ]
  },
  {
   "cell_type": "code",
   "execution_count": 18,
   "id": "cb9bdf2f",
   "metadata": {
    "ExecuteTime": {
     "end_time": "2022-09-12T09:59:50.212684Z",
     "start_time": "2022-09-12T09:59:50.182990Z"
    }
   },
   "outputs": [
    {
     "data": {
      "text/html": [
       "<div>\n",
       "<style scoped>\n",
       "    .dataframe tbody tr th:only-of-type {\n",
       "        vertical-align: middle;\n",
       "    }\n",
       "\n",
       "    .dataframe tbody tr th {\n",
       "        vertical-align: top;\n",
       "    }\n",
       "\n",
       "    .dataframe thead th {\n",
       "        text-align: right;\n",
       "    }\n",
       "</style>\n",
       "<table border=\"1\" class=\"dataframe\">\n",
       "  <thead>\n",
       "    <tr style=\"text-align: right;\">\n",
       "      <th></th>\n",
       "      <th>city</th>\n",
       "      <th>boolean</th>\n",
       "      <th>ordinal_column</th>\n",
       "      <th>quantitative_column</th>\n",
       "    </tr>\n",
       "  </thead>\n",
       "  <tbody>\n",
       "    <tr>\n",
       "      <th>0</th>\n",
       "      <td>tokyo</td>\n",
       "      <td>yes</td>\n",
       "      <td>1</td>\n",
       "      <td>1.0</td>\n",
       "    </tr>\n",
       "    <tr>\n",
       "      <th>1</th>\n",
       "      <td>None</td>\n",
       "      <td>no</td>\n",
       "      <td>2</td>\n",
       "      <td>11.0</td>\n",
       "    </tr>\n",
       "    <tr>\n",
       "      <th>2</th>\n",
       "      <td>london</td>\n",
       "      <td>None</td>\n",
       "      <td>1</td>\n",
       "      <td>-0.5</td>\n",
       "    </tr>\n",
       "    <tr>\n",
       "      <th>3</th>\n",
       "      <td>seattle</td>\n",
       "      <td>no</td>\n",
       "      <td>2</td>\n",
       "      <td>10.0</td>\n",
       "    </tr>\n",
       "    <tr>\n",
       "      <th>4</th>\n",
       "      <td>sanfrancisco</td>\n",
       "      <td>no</td>\n",
       "      <td>1</td>\n",
       "      <td>NaN</td>\n",
       "    </tr>\n",
       "    <tr>\n",
       "      <th>5</th>\n",
       "      <td>tokyo</td>\n",
       "      <td>yes</td>\n",
       "      <td>0</td>\n",
       "      <td>20.0</td>\n",
       "    </tr>\n",
       "  </tbody>\n",
       "</table>\n",
       "</div>"
      ],
      "text/plain": [
       "           city boolean  ordinal_column  quantitative_column\n",
       "0         tokyo     yes               1                  1.0\n",
       "1          None      no               2                 11.0\n",
       "2        london    None               1                 -0.5\n",
       "3       seattle      no               2                 10.0\n",
       "4  sanfrancisco      no               1                  NaN\n",
       "5         tokyo     yes               0                 20.0"
      ]
     },
     "execution_count": 18,
     "metadata": {},
     "output_type": "execute_result"
    }
   ],
   "source": [
    "ce = CustomEncoder(col='ordinal_column', ordering=['dislike', 'somewhat like', 'like'])\n",
    "ce.fit_transform(X)"
   ]
  },
  {
   "cell_type": "markdown",
   "id": "05255ca1",
   "metadata": {},
   "source": [
    "# Bucketing continuous features into categories"
   ]
  },
  {
   "cell_type": "code",
   "execution_count": 19,
   "id": "767f2835",
   "metadata": {
    "ExecuteTime": {
     "end_time": "2022-09-12T09:59:50.228684Z",
     "start_time": "2022-09-12T09:59:50.214685Z"
    }
   },
   "outputs": [
    {
     "data": {
      "text/plain": [
       "0     (-0.52, 6.333]\n",
       "1    (6.333, 13.167]\n",
       "2     (-0.52, 6.333]\n",
       "3    (6.333, 13.167]\n",
       "4                NaN\n",
       "5     (13.167, 20.0]\n",
       "Name: quantitative_column, dtype: category\n",
       "Categories (3, interval[float64, right]): [(-0.52, 6.333] < (6.333, 13.167] < (13.167, 20.0]]"
      ]
     },
     "execution_count": 19,
     "metadata": {},
     "output_type": "execute_result"
    }
   ],
   "source": [
    "pd.cut(X['quantitative_column'], bins=3)"
   ]
  },
  {
   "cell_type": "code",
   "execution_count": 20,
   "id": "450b6d5d",
   "metadata": {
    "ExecuteTime": {
     "end_time": "2022-09-12T09:59:50.244684Z",
     "start_time": "2022-09-12T09:59:50.230688Z"
    }
   },
   "outputs": [
    {
     "data": {
      "text/plain": [
       "0    0.0\n",
       "1    1.0\n",
       "2    0.0\n",
       "3    1.0\n",
       "4    NaN\n",
       "5    2.0\n",
       "Name: quantitative_column, dtype: float64"
      ]
     },
     "execution_count": 20,
     "metadata": {},
     "output_type": "execute_result"
    }
   ],
   "source": [
    "pd.cut(X['quantitative_column'], bins=3, labels=False)"
   ]
  },
  {
   "cell_type": "code",
   "execution_count": 21,
   "id": "da74e8fb",
   "metadata": {
    "ExecuteTime": {
     "end_time": "2022-09-12T09:59:50.260684Z",
     "start_time": "2022-09-12T09:59:50.247689Z"
    }
   },
   "outputs": [],
   "source": [
    "class CustomCutter(TransformerMixin):\n",
    "    def __init__(self, col, bins, labels=False):\n",
    "        self.col = col\n",
    "        self.bins = bins\n",
    "        self.labels = labels\n",
    "\n",
    "    def transform(self, df):\n",
    "        X = df.copy()\n",
    "        X[self.col] = pd.cut(X[self.col], bins=self.bins, labels=self.labels)\n",
    "        return X\n",
    "\n",
    "    def fit(self, *_):\n",
    "        return self"
   ]
  },
  {
   "cell_type": "code",
   "execution_count": 22,
   "id": "4ecabde1",
   "metadata": {
    "ExecuteTime": {
     "end_time": "2022-09-12T09:59:50.290915Z",
     "start_time": "2022-09-12T09:59:50.262688Z"
    }
   },
   "outputs": [
    {
     "data": {
      "text/html": [
       "<div>\n",
       "<style scoped>\n",
       "    .dataframe tbody tr th:only-of-type {\n",
       "        vertical-align: middle;\n",
       "    }\n",
       "\n",
       "    .dataframe tbody tr th {\n",
       "        vertical-align: top;\n",
       "    }\n",
       "\n",
       "    .dataframe thead th {\n",
       "        text-align: right;\n",
       "    }\n",
       "</style>\n",
       "<table border=\"1\" class=\"dataframe\">\n",
       "  <thead>\n",
       "    <tr style=\"text-align: right;\">\n",
       "      <th></th>\n",
       "      <th>city</th>\n",
       "      <th>boolean</th>\n",
       "      <th>ordinal_column</th>\n",
       "      <th>quantitative_column</th>\n",
       "    </tr>\n",
       "  </thead>\n",
       "  <tbody>\n",
       "    <tr>\n",
       "      <th>0</th>\n",
       "      <td>tokyo</td>\n",
       "      <td>yes</td>\n",
       "      <td>somewhat like</td>\n",
       "      <td>0.0</td>\n",
       "    </tr>\n",
       "    <tr>\n",
       "      <th>1</th>\n",
       "      <td>None</td>\n",
       "      <td>no</td>\n",
       "      <td>like</td>\n",
       "      <td>1.0</td>\n",
       "    </tr>\n",
       "    <tr>\n",
       "      <th>2</th>\n",
       "      <td>london</td>\n",
       "      <td>None</td>\n",
       "      <td>somewhat like</td>\n",
       "      <td>0.0</td>\n",
       "    </tr>\n",
       "    <tr>\n",
       "      <th>3</th>\n",
       "      <td>seattle</td>\n",
       "      <td>no</td>\n",
       "      <td>like</td>\n",
       "      <td>1.0</td>\n",
       "    </tr>\n",
       "    <tr>\n",
       "      <th>4</th>\n",
       "      <td>sanfrancisco</td>\n",
       "      <td>no</td>\n",
       "      <td>somewhat like</td>\n",
       "      <td>NaN</td>\n",
       "    </tr>\n",
       "    <tr>\n",
       "      <th>5</th>\n",
       "      <td>tokyo</td>\n",
       "      <td>yes</td>\n",
       "      <td>dislike</td>\n",
       "      <td>2.0</td>\n",
       "    </tr>\n",
       "  </tbody>\n",
       "</table>\n",
       "</div>"
      ],
      "text/plain": [
       "           city boolean ordinal_column  quantitative_column\n",
       "0         tokyo     yes  somewhat like                  0.0\n",
       "1          None      no           like                  1.0\n",
       "2        london    None  somewhat like                  0.0\n",
       "3       seattle      no           like                  1.0\n",
       "4  sanfrancisco      no  somewhat like                  NaN\n",
       "5         tokyo     yes        dislike                  2.0"
      ]
     },
     "execution_count": 22,
     "metadata": {},
     "output_type": "execute_result"
    }
   ],
   "source": [
    "cc = CustomCutter(col='quantitative_column', bins=3)\n",
    "cc.fit_transform(X)"
   ]
  },
  {
   "cell_type": "code",
   "execution_count": 23,
   "id": "2def75fd",
   "metadata": {
    "ExecuteTime": {
     "end_time": "2022-09-12T09:59:50.306928Z",
     "start_time": "2022-09-12T09:59:50.293931Z"
    }
   },
   "outputs": [],
   "source": [
    "from sklearn.pipeline import Pipeline"
   ]
  },
  {
   "cell_type": "code",
   "execution_count": 24,
   "id": "93ad06f5",
   "metadata": {
    "ExecuteTime": {
     "end_time": "2022-09-12T09:59:50.322928Z",
     "start_time": "2022-09-12T09:59:50.308921Z"
    }
   },
   "outputs": [],
   "source": [
    "pipe = Pipeline([('imputer', imputer), ('dummify', cd), ('encode', ce), ('cut', cc)])"
   ]
  },
  {
   "cell_type": "code",
   "execution_count": 25,
   "id": "d9b85304",
   "metadata": {
    "ExecuteTime": {
     "end_time": "2022-09-12T09:59:50.338928Z",
     "start_time": "2022-09-12T09:59:50.323918Z"
    }
   },
   "outputs": [
    {
     "name": "stdout",
     "output_type": "stream",
     "text": [
      "           city boolean ordinal_column  quantitative_column\n",
      "0         tokyo     yes  somewhat like                  1.0\n",
      "1          None      no           like                 11.0\n",
      "2        london    None  somewhat like                 -0.5\n",
      "3       seattle      no           like                 10.0\n",
      "4  sanfrancisco      no  somewhat like                  NaN\n",
      "5         tokyo     yes        dislike                 20.0\n"
     ]
    }
   ],
   "source": [
    "print(X)"
   ]
  },
  {
   "cell_type": "code",
   "execution_count": 26,
   "id": "8a768f0b",
   "metadata": {
    "ExecuteTime": {
     "end_time": "2022-09-12T09:59:50.370946Z",
     "start_time": "2022-09-12T09:59:50.339916Z"
    }
   },
   "outputs": [
    {
     "data": {
      "text/html": [
       "<style>#sk-container-id-1 {color: black;background-color: white;}#sk-container-id-1 pre{padding: 0;}#sk-container-id-1 div.sk-toggleable {background-color: white;}#sk-container-id-1 label.sk-toggleable__label {cursor: pointer;display: block;width: 100%;margin-bottom: 0;padding: 0.3em;box-sizing: border-box;text-align: center;}#sk-container-id-1 label.sk-toggleable__label-arrow:before {content: \"▸\";float: left;margin-right: 0.25em;color: #696969;}#sk-container-id-1 label.sk-toggleable__label-arrow:hover:before {color: black;}#sk-container-id-1 div.sk-estimator:hover label.sk-toggleable__label-arrow:before {color: black;}#sk-container-id-1 div.sk-toggleable__content {max-height: 0;max-width: 0;overflow: hidden;text-align: left;background-color: #f0f8ff;}#sk-container-id-1 div.sk-toggleable__content pre {margin: 0.2em;color: black;border-radius: 0.25em;background-color: #f0f8ff;}#sk-container-id-1 input.sk-toggleable__control:checked~div.sk-toggleable__content {max-height: 200px;max-width: 100%;overflow: auto;}#sk-container-id-1 input.sk-toggleable__control:checked~label.sk-toggleable__label-arrow:before {content: \"▾\";}#sk-container-id-1 div.sk-estimator input.sk-toggleable__control:checked~label.sk-toggleable__label {background-color: #d4ebff;}#sk-container-id-1 div.sk-label input.sk-toggleable__control:checked~label.sk-toggleable__label {background-color: #d4ebff;}#sk-container-id-1 input.sk-hidden--visually {border: 0;clip: rect(1px 1px 1px 1px);clip: rect(1px, 1px, 1px, 1px);height: 1px;margin: -1px;overflow: hidden;padding: 0;position: absolute;width: 1px;}#sk-container-id-1 div.sk-estimator {font-family: monospace;background-color: #f0f8ff;border: 1px dotted black;border-radius: 0.25em;box-sizing: border-box;margin-bottom: 0.5em;}#sk-container-id-1 div.sk-estimator:hover {background-color: #d4ebff;}#sk-container-id-1 div.sk-parallel-item::after {content: \"\";width: 100%;border-bottom: 1px solid gray;flex-grow: 1;}#sk-container-id-1 div.sk-label:hover label.sk-toggleable__label {background-color: #d4ebff;}#sk-container-id-1 div.sk-serial::before {content: \"\";position: absolute;border-left: 1px solid gray;box-sizing: border-box;top: 0;bottom: 0;left: 50%;z-index: 0;}#sk-container-id-1 div.sk-serial {display: flex;flex-direction: column;align-items: center;background-color: white;padding-right: 0.2em;padding-left: 0.2em;position: relative;}#sk-container-id-1 div.sk-item {position: relative;z-index: 1;}#sk-container-id-1 div.sk-parallel {display: flex;align-items: stretch;justify-content: center;background-color: white;position: relative;}#sk-container-id-1 div.sk-item::before, #sk-container-id-1 div.sk-parallel-item::before {content: \"\";position: absolute;border-left: 1px solid gray;box-sizing: border-box;top: 0;bottom: 0;left: 50%;z-index: -1;}#sk-container-id-1 div.sk-parallel-item {display: flex;flex-direction: column;z-index: 1;position: relative;background-color: white;}#sk-container-id-1 div.sk-parallel-item:first-child::after {align-self: flex-end;width: 50%;}#sk-container-id-1 div.sk-parallel-item:last-child::after {align-self: flex-start;width: 50%;}#sk-container-id-1 div.sk-parallel-item:only-child::after {width: 0;}#sk-container-id-1 div.sk-dashed-wrapped {border: 1px dashed gray;margin: 0 0.4em 0.5em 0.4em;box-sizing: border-box;padding-bottom: 0.4em;background-color: white;}#sk-container-id-1 div.sk-label label {font-family: monospace;font-weight: bold;display: inline-block;line-height: 1.2em;}#sk-container-id-1 div.sk-label-container {text-align: center;}#sk-container-id-1 div.sk-container {/* jupyter's `normalize.less` sets `[hidden] { display: none; }` but bootstrap.min.css set `[hidden] { display: none !important; }` so we also need the `!important` here to be able to override the default hidden behavior on the sphinx rendered scikit-learn.org. See: https://github.com/scikit-learn/scikit-learn/issues/21755 */display: inline-block !important;position: relative;}#sk-container-id-1 div.sk-text-repr-fallback {display: none;}</style><div id=\"sk-container-id-1\" class=\"sk-top-container\"><div class=\"sk-text-repr-fallback\"><pre>Pipeline(steps=[(&#x27;imputer&#x27;,\n",
       "                 Pipeline(steps=[(&#x27;quant&#x27;,\n",
       "                                  &lt;__main__.CustomQuantitativeImputer object at 0x00000174FFE19AC0&gt;),\n",
       "                                 (&#x27;category&#x27;,\n",
       "                                  &lt;__main__.CustomCategoryImputer object at 0x00000174F0C83070&gt;)])),\n",
       "                (&#x27;dummify&#x27;,\n",
       "                 &lt;__main__.CustomDummifier object at 0x00000174812A3AC0&gt;),\n",
       "                (&#x27;encode&#x27;,\n",
       "                 &lt;__main__.CustomEncoder object at 0x00000174812AF850&gt;),\n",
       "                (&#x27;cut&#x27;, &lt;__main__.CustomCutter object at 0x00000174812C37F0&gt;)])</pre><b>In a Jupyter environment, please rerun this cell to show the HTML representation or trust the notebook. <br />On GitHub, the HTML representation is unable to render, please try loading this page with nbviewer.org.</b></div><div class=\"sk-container\" hidden><div class=\"sk-item sk-dashed-wrapped\"><div class=\"sk-label-container\"><div class=\"sk-label sk-toggleable\"><input class=\"sk-toggleable__control sk-hidden--visually\" id=\"sk-estimator-id-1\" type=\"checkbox\" ><label for=\"sk-estimator-id-1\" class=\"sk-toggleable__label sk-toggleable__label-arrow\">Pipeline</label><div class=\"sk-toggleable__content\"><pre>Pipeline(steps=[(&#x27;imputer&#x27;,\n",
       "                 Pipeline(steps=[(&#x27;quant&#x27;,\n",
       "                                  &lt;__main__.CustomQuantitativeImputer object at 0x00000174FFE19AC0&gt;),\n",
       "                                 (&#x27;category&#x27;,\n",
       "                                  &lt;__main__.CustomCategoryImputer object at 0x00000174F0C83070&gt;)])),\n",
       "                (&#x27;dummify&#x27;,\n",
       "                 &lt;__main__.CustomDummifier object at 0x00000174812A3AC0&gt;),\n",
       "                (&#x27;encode&#x27;,\n",
       "                 &lt;__main__.CustomEncoder object at 0x00000174812AF850&gt;),\n",
       "                (&#x27;cut&#x27;, &lt;__main__.CustomCutter object at 0x00000174812C37F0&gt;)])</pre></div></div></div><div class=\"sk-serial\"><div class=\"sk-item\"><div class=\"sk-label-container\"><div class=\"sk-label sk-toggleable\"><input class=\"sk-toggleable__control sk-hidden--visually\" id=\"sk-estimator-id-2\" type=\"checkbox\" ><label for=\"sk-estimator-id-2\" class=\"sk-toggleable__label sk-toggleable__label-arrow\">imputer: Pipeline</label><div class=\"sk-toggleable__content\"><pre>Pipeline(steps=[(&#x27;quant&#x27;,\n",
       "                 &lt;__main__.CustomQuantitativeImputer object at 0x00000174FFE19AC0&gt;),\n",
       "                (&#x27;category&#x27;,\n",
       "                 &lt;__main__.CustomCategoryImputer object at 0x00000174F0C83070&gt;)])</pre></div></div></div><div class=\"sk-serial\"><div class=\"sk-item\"><div class=\"sk-estimator sk-toggleable\"><input class=\"sk-toggleable__control sk-hidden--visually\" id=\"sk-estimator-id-3\" type=\"checkbox\" ><label for=\"sk-estimator-id-3\" class=\"sk-toggleable__label sk-toggleable__label-arrow\">CustomQuantitativeImputer</label><div class=\"sk-toggleable__content\"><pre>&lt;__main__.CustomQuantitativeImputer object at 0x00000174FFE19AC0&gt;</pre></div></div></div><div class=\"sk-item\"><div class=\"sk-estimator sk-toggleable\"><input class=\"sk-toggleable__control sk-hidden--visually\" id=\"sk-estimator-id-4\" type=\"checkbox\" ><label for=\"sk-estimator-id-4\" class=\"sk-toggleable__label sk-toggleable__label-arrow\">CustomCategoryImputer</label><div class=\"sk-toggleable__content\"><pre>&lt;__main__.CustomCategoryImputer object at 0x00000174F0C83070&gt;</pre></div></div></div></div></div><div class=\"sk-item\"><div class=\"sk-estimator sk-toggleable\"><input class=\"sk-toggleable__control sk-hidden--visually\" id=\"sk-estimator-id-5\" type=\"checkbox\" ><label for=\"sk-estimator-id-5\" class=\"sk-toggleable__label sk-toggleable__label-arrow\">CustomDummifier</label><div class=\"sk-toggleable__content\"><pre>&lt;__main__.CustomDummifier object at 0x00000174812A3AC0&gt;</pre></div></div></div><div class=\"sk-item\"><div class=\"sk-estimator sk-toggleable\"><input class=\"sk-toggleable__control sk-hidden--visually\" id=\"sk-estimator-id-6\" type=\"checkbox\" ><label for=\"sk-estimator-id-6\" class=\"sk-toggleable__label sk-toggleable__label-arrow\">CustomEncoder</label><div class=\"sk-toggleable__content\"><pre>&lt;__main__.CustomEncoder object at 0x00000174812AF850&gt;</pre></div></div></div><div class=\"sk-item\"><div class=\"sk-estimator sk-toggleable\"><input class=\"sk-toggleable__control sk-hidden--visually\" id=\"sk-estimator-id-7\" type=\"checkbox\" ><label for=\"sk-estimator-id-7\" class=\"sk-toggleable__label sk-toggleable__label-arrow\">CustomCutter</label><div class=\"sk-toggleable__content\"><pre>&lt;__main__.CustomCutter object at 0x00000174812C37F0&gt;</pre></div></div></div></div></div></div></div>"
      ],
      "text/plain": [
       "Pipeline(steps=[('imputer',\n",
       "                 Pipeline(steps=[('quant',\n",
       "                                  <__main__.CustomQuantitativeImputer object at 0x00000174FFE19AC0>),\n",
       "                                 ('category',\n",
       "                                  <__main__.CustomCategoryImputer object at 0x00000174F0C83070>)])),\n",
       "                ('dummify',\n",
       "                 <__main__.CustomDummifier object at 0x00000174812A3AC0>),\n",
       "                ('encode',\n",
       "                 <__main__.CustomEncoder object at 0x00000174812AF850>),\n",
       "                ('cut', <__main__.CustomCutter object at 0x00000174812C37F0>)])"
      ]
     },
     "execution_count": 26,
     "metadata": {},
     "output_type": "execute_result"
    }
   ],
   "source": [
    "pipe.fit(X)"
   ]
  },
  {
   "cell_type": "code",
   "execution_count": 27,
   "id": "01675f2d",
   "metadata": {
    "ExecuteTime": {
     "end_time": "2022-09-12T09:59:50.402928Z",
     "start_time": "2022-09-12T09:59:50.377916Z"
    }
   },
   "outputs": [
    {
     "data": {
      "text/html": [
       "<div>\n",
       "<style scoped>\n",
       "    .dataframe tbody tr th:only-of-type {\n",
       "        vertical-align: middle;\n",
       "    }\n",
       "\n",
       "    .dataframe tbody tr th {\n",
       "        vertical-align: top;\n",
       "    }\n",
       "\n",
       "    .dataframe thead th {\n",
       "        text-align: right;\n",
       "    }\n",
       "</style>\n",
       "<table border=\"1\" class=\"dataframe\">\n",
       "  <thead>\n",
       "    <tr style=\"text-align: right;\">\n",
       "      <th></th>\n",
       "      <th>ordinal_column</th>\n",
       "      <th>quantitative_column</th>\n",
       "      <th>boolean_no</th>\n",
       "      <th>boolean_yes</th>\n",
       "      <th>city_london</th>\n",
       "      <th>city_sanfrancisco</th>\n",
       "      <th>city_seattle</th>\n",
       "      <th>city_tokyo</th>\n",
       "    </tr>\n",
       "  </thead>\n",
       "  <tbody>\n",
       "    <tr>\n",
       "      <th>0</th>\n",
       "      <td>1</td>\n",
       "      <td>0</td>\n",
       "      <td>0</td>\n",
       "      <td>1</td>\n",
       "      <td>0</td>\n",
       "      <td>0</td>\n",
       "      <td>0</td>\n",
       "      <td>1</td>\n",
       "    </tr>\n",
       "    <tr>\n",
       "      <th>1</th>\n",
       "      <td>2</td>\n",
       "      <td>1</td>\n",
       "      <td>1</td>\n",
       "      <td>0</td>\n",
       "      <td>0</td>\n",
       "      <td>0</td>\n",
       "      <td>0</td>\n",
       "      <td>1</td>\n",
       "    </tr>\n",
       "    <tr>\n",
       "      <th>2</th>\n",
       "      <td>1</td>\n",
       "      <td>0</td>\n",
       "      <td>1</td>\n",
       "      <td>0</td>\n",
       "      <td>1</td>\n",
       "      <td>0</td>\n",
       "      <td>0</td>\n",
       "      <td>0</td>\n",
       "    </tr>\n",
       "    <tr>\n",
       "      <th>3</th>\n",
       "      <td>2</td>\n",
       "      <td>1</td>\n",
       "      <td>1</td>\n",
       "      <td>0</td>\n",
       "      <td>0</td>\n",
       "      <td>0</td>\n",
       "      <td>1</td>\n",
       "      <td>0</td>\n",
       "    </tr>\n",
       "    <tr>\n",
       "      <th>4</th>\n",
       "      <td>1</td>\n",
       "      <td>1</td>\n",
       "      <td>1</td>\n",
       "      <td>0</td>\n",
       "      <td>0</td>\n",
       "      <td>1</td>\n",
       "      <td>0</td>\n",
       "      <td>0</td>\n",
       "    </tr>\n",
       "    <tr>\n",
       "      <th>5</th>\n",
       "      <td>0</td>\n",
       "      <td>2</td>\n",
       "      <td>0</td>\n",
       "      <td>1</td>\n",
       "      <td>0</td>\n",
       "      <td>0</td>\n",
       "      <td>0</td>\n",
       "      <td>1</td>\n",
       "    </tr>\n",
       "  </tbody>\n",
       "</table>\n",
       "</div>"
      ],
      "text/plain": [
       "   ordinal_column  quantitative_column  boolean_no  boolean_yes  city_london  \\\n",
       "0               1                    0           0            1            0   \n",
       "1               2                    1           1            0            0   \n",
       "2               1                    0           1            0            1   \n",
       "3               2                    1           1            0            0   \n",
       "4               1                    1           1            0            0   \n",
       "5               0                    2           0            1            0   \n",
       "\n",
       "   city_sanfrancisco  city_seattle  city_tokyo  \n",
       "0                  0             0           1  \n",
       "1                  0             0           1  \n",
       "2                  0             0           0  \n",
       "3                  0             1           0  \n",
       "4                  1             0           0  \n",
       "5                  0             0           1  "
      ]
     },
     "execution_count": 27,
     "metadata": {},
     "output_type": "execute_result"
    }
   ],
   "source": [
    "pipe.transform(X)"
   ]
  },
  {
   "cell_type": "markdown",
   "id": "8dc55ee9",
   "metadata": {},
   "source": [
    "# Extending numerical features"
   ]
  },
  {
   "cell_type": "markdown",
   "id": "8fdf43a7",
   "metadata": {},
   "source": [
    "## Activity recognition from the Single Chest-Mounted Accelerometer dataset"
   ]
  },
  {
   "cell_type": "code",
   "execution_count": 28,
   "id": "6d128db9",
   "metadata": {
    "ExecuteTime": {
     "end_time": "2022-09-12T09:59:50.466866Z",
     "start_time": "2022-09-12T09:59:50.403917Z"
    }
   },
   "outputs": [],
   "source": [
    "columns = ['index', 'x', 'y', 'z', 'activity']\n",
    "df = pd.read_csv('1.csv', header=None)\n",
    "df.columns = columns"
   ]
  },
  {
   "cell_type": "code",
   "execution_count": 29,
   "id": "5c056fb1",
   "metadata": {
    "ExecuteTime": {
     "end_time": "2022-09-12T09:59:50.482793Z",
     "start_time": "2022-09-12T09:59:50.468750Z"
    }
   },
   "outputs": [
    {
     "data": {
      "text/html": [
       "<div>\n",
       "<style scoped>\n",
       "    .dataframe tbody tr th:only-of-type {\n",
       "        vertical-align: middle;\n",
       "    }\n",
       "\n",
       "    .dataframe tbody tr th {\n",
       "        vertical-align: top;\n",
       "    }\n",
       "\n",
       "    .dataframe thead th {\n",
       "        text-align: right;\n",
       "    }\n",
       "</style>\n",
       "<table border=\"1\" class=\"dataframe\">\n",
       "  <thead>\n",
       "    <tr style=\"text-align: right;\">\n",
       "      <th></th>\n",
       "      <th>index</th>\n",
       "      <th>x</th>\n",
       "      <th>y</th>\n",
       "      <th>z</th>\n",
       "      <th>activity</th>\n",
       "    </tr>\n",
       "  </thead>\n",
       "  <tbody>\n",
       "    <tr>\n",
       "      <th>0</th>\n",
       "      <td>0.0</td>\n",
       "      <td>1502</td>\n",
       "      <td>2215</td>\n",
       "      <td>2153</td>\n",
       "      <td>1</td>\n",
       "    </tr>\n",
       "    <tr>\n",
       "      <th>1</th>\n",
       "      <td>1.0</td>\n",
       "      <td>1667</td>\n",
       "      <td>2072</td>\n",
       "      <td>2047</td>\n",
       "      <td>1</td>\n",
       "    </tr>\n",
       "    <tr>\n",
       "      <th>2</th>\n",
       "      <td>2.0</td>\n",
       "      <td>1611</td>\n",
       "      <td>1957</td>\n",
       "      <td>1906</td>\n",
       "      <td>1</td>\n",
       "    </tr>\n",
       "    <tr>\n",
       "      <th>3</th>\n",
       "      <td>3.0</td>\n",
       "      <td>1601</td>\n",
       "      <td>1939</td>\n",
       "      <td>1831</td>\n",
       "      <td>1</td>\n",
       "    </tr>\n",
       "    <tr>\n",
       "      <th>4</th>\n",
       "      <td>4.0</td>\n",
       "      <td>1643</td>\n",
       "      <td>1965</td>\n",
       "      <td>1879</td>\n",
       "      <td>1</td>\n",
       "    </tr>\n",
       "  </tbody>\n",
       "</table>\n",
       "</div>"
      ],
      "text/plain": [
       "   index     x     y     z  activity\n",
       "0    0.0  1502  2215  2153         1\n",
       "1    1.0  1667  2072  2047         1\n",
       "2    2.0  1611  1957  1906         1\n",
       "3    3.0  1601  1939  1831         1\n",
       "4    4.0  1643  1965  1879         1"
      ]
     },
     "execution_count": 29,
     "metadata": {},
     "output_type": "execute_result"
    }
   ],
   "source": [
    "df.head()"
   ]
  },
  {
   "cell_type": "code",
   "execution_count": 30,
   "id": "f6fa854b",
   "metadata": {
    "ExecuteTime": {
     "end_time": "2022-09-12T09:59:50.498101Z",
     "start_time": "2022-09-12T09:59:50.484751Z"
    }
   },
   "outputs": [
    {
     "data": {
      "text/plain": [
       "7    0.515369\n",
       "1    0.207242\n",
       "4    0.165291\n",
       "3    0.068793\n",
       "5    0.019637\n",
       "6    0.017951\n",
       "2    0.005711\n",
       "0    0.000006\n",
       "Name: activity, dtype: float64"
      ]
     },
     "execution_count": 30,
     "metadata": {},
     "output_type": "execute_result"
    }
   ],
   "source": [
    "# Let's determine the null accuracy to beat in our machine learning model.\n",
    "df['activity'].value_counts(normalize=True)"
   ]
  },
  {
   "cell_type": "code",
   "execution_count": 46,
   "id": "4b403459",
   "metadata": {
    "ExecuteTime": {
     "end_time": "2022-09-12T13:00:20.543271Z",
     "start_time": "2022-09-12T13:00:20.528765Z"
    }
   },
   "outputs": [],
   "source": [
    "from sklearn.neighbors import KNeighborsClassifier\n",
    "from sklearn.model_selection import GridSearchCV"
   ]
  },
  {
   "cell_type": "code",
   "execution_count": 33,
   "id": "61385212",
   "metadata": {
    "ExecuteTime": {
     "end_time": "2022-09-12T10:01:02.094149Z",
     "start_time": "2022-09-12T10:01:02.075127Z"
    }
   },
   "outputs": [],
   "source": [
    "X = df[['x', 'y','z']]\n",
    "y = df['activity']"
   ]
  },
  {
   "cell_type": "code",
   "execution_count": 34,
   "id": "1c3ac65c",
   "metadata": {
    "ExecuteTime": {
     "end_time": "2022-09-12T12:46:36.004044Z",
     "start_time": "2022-09-12T12:46:35.979847Z"
    }
   },
   "outputs": [],
   "source": [
    "knn_params = {'n_neighbors': [3, 4, 5, 6]}"
   ]
  },
  {
   "cell_type": "code",
   "execution_count": 50,
   "id": "1190258b",
   "metadata": {
    "ExecuteTime": {
     "end_time": "2022-09-12T13:01:26.696641Z",
     "start_time": "2022-09-12T13:01:10.567472Z"
    }
   },
   "outputs": [
    {
     "name": "stderr",
     "output_type": "stream",
     "text": [
      "D:\\Anaconda\\lib\\site-packages\\sklearn\\model_selection\\_split.py:680: UserWarning: The least populated class in y has only 1 members, which is less than n_splits=5.\n",
      "  warnings.warn(\n"
     ]
    },
    {
     "data": {
      "text/html": [
       "<style>#sk-container-id-6 {color: black;background-color: white;}#sk-container-id-6 pre{padding: 0;}#sk-container-id-6 div.sk-toggleable {background-color: white;}#sk-container-id-6 label.sk-toggleable__label {cursor: pointer;display: block;width: 100%;margin-bottom: 0;padding: 0.3em;box-sizing: border-box;text-align: center;}#sk-container-id-6 label.sk-toggleable__label-arrow:before {content: \"▸\";float: left;margin-right: 0.25em;color: #696969;}#sk-container-id-6 label.sk-toggleable__label-arrow:hover:before {color: black;}#sk-container-id-6 div.sk-estimator:hover label.sk-toggleable__label-arrow:before {color: black;}#sk-container-id-6 div.sk-toggleable__content {max-height: 0;max-width: 0;overflow: hidden;text-align: left;background-color: #f0f8ff;}#sk-container-id-6 div.sk-toggleable__content pre {margin: 0.2em;color: black;border-radius: 0.25em;background-color: #f0f8ff;}#sk-container-id-6 input.sk-toggleable__control:checked~div.sk-toggleable__content {max-height: 200px;max-width: 100%;overflow: auto;}#sk-container-id-6 input.sk-toggleable__control:checked~label.sk-toggleable__label-arrow:before {content: \"▾\";}#sk-container-id-6 div.sk-estimator input.sk-toggleable__control:checked~label.sk-toggleable__label {background-color: #d4ebff;}#sk-container-id-6 div.sk-label input.sk-toggleable__control:checked~label.sk-toggleable__label {background-color: #d4ebff;}#sk-container-id-6 input.sk-hidden--visually {border: 0;clip: rect(1px 1px 1px 1px);clip: rect(1px, 1px, 1px, 1px);height: 1px;margin: -1px;overflow: hidden;padding: 0;position: absolute;width: 1px;}#sk-container-id-6 div.sk-estimator {font-family: monospace;background-color: #f0f8ff;border: 1px dotted black;border-radius: 0.25em;box-sizing: border-box;margin-bottom: 0.5em;}#sk-container-id-6 div.sk-estimator:hover {background-color: #d4ebff;}#sk-container-id-6 div.sk-parallel-item::after {content: \"\";width: 100%;border-bottom: 1px solid gray;flex-grow: 1;}#sk-container-id-6 div.sk-label:hover label.sk-toggleable__label {background-color: #d4ebff;}#sk-container-id-6 div.sk-serial::before {content: \"\";position: absolute;border-left: 1px solid gray;box-sizing: border-box;top: 0;bottom: 0;left: 50%;z-index: 0;}#sk-container-id-6 div.sk-serial {display: flex;flex-direction: column;align-items: center;background-color: white;padding-right: 0.2em;padding-left: 0.2em;position: relative;}#sk-container-id-6 div.sk-item {position: relative;z-index: 1;}#sk-container-id-6 div.sk-parallel {display: flex;align-items: stretch;justify-content: center;background-color: white;position: relative;}#sk-container-id-6 div.sk-item::before, #sk-container-id-6 div.sk-parallel-item::before {content: \"\";position: absolute;border-left: 1px solid gray;box-sizing: border-box;top: 0;bottom: 0;left: 50%;z-index: -1;}#sk-container-id-6 div.sk-parallel-item {display: flex;flex-direction: column;z-index: 1;position: relative;background-color: white;}#sk-container-id-6 div.sk-parallel-item:first-child::after {align-self: flex-end;width: 50%;}#sk-container-id-6 div.sk-parallel-item:last-child::after {align-self: flex-start;width: 50%;}#sk-container-id-6 div.sk-parallel-item:only-child::after {width: 0;}#sk-container-id-6 div.sk-dashed-wrapped {border: 1px dashed gray;margin: 0 0.4em 0.5em 0.4em;box-sizing: border-box;padding-bottom: 0.4em;background-color: white;}#sk-container-id-6 div.sk-label label {font-family: monospace;font-weight: bold;display: inline-block;line-height: 1.2em;}#sk-container-id-6 div.sk-label-container {text-align: center;}#sk-container-id-6 div.sk-container {/* jupyter's `normalize.less` sets `[hidden] { display: none; }` but bootstrap.min.css set `[hidden] { display: none !important; }` so we also need the `!important` here to be able to override the default hidden behavior on the sphinx rendered scikit-learn.org. See: https://github.com/scikit-learn/scikit-learn/issues/21755 */display: inline-block !important;position: relative;}#sk-container-id-6 div.sk-text-repr-fallback {display: none;}</style><div id=\"sk-container-id-6\" class=\"sk-top-container\"><div class=\"sk-text-repr-fallback\"><pre>GridSearchCV(estimator=KNeighborsClassifier(),\n",
       "             param_grid={&#x27;n_neighbors&#x27;: [3, 4, 5, 6]})</pre><b>In a Jupyter environment, please rerun this cell to show the HTML representation or trust the notebook. <br />On GitHub, the HTML representation is unable to render, please try loading this page with nbviewer.org.</b></div><div class=\"sk-container\" hidden><div class=\"sk-item sk-dashed-wrapped\"><div class=\"sk-label-container\"><div class=\"sk-label sk-toggleable\"><input class=\"sk-toggleable__control sk-hidden--visually\" id=\"sk-estimator-id-20\" type=\"checkbox\" ><label for=\"sk-estimator-id-20\" class=\"sk-toggleable__label sk-toggleable__label-arrow\">GridSearchCV</label><div class=\"sk-toggleable__content\"><pre>GridSearchCV(estimator=KNeighborsClassifier(),\n",
       "             param_grid={&#x27;n_neighbors&#x27;: [3, 4, 5, 6]})</pre></div></div></div><div class=\"sk-parallel\"><div class=\"sk-parallel-item\"><div class=\"sk-item\"><div class=\"sk-label-container\"><div class=\"sk-label sk-toggleable\"><input class=\"sk-toggleable__control sk-hidden--visually\" id=\"sk-estimator-id-21\" type=\"checkbox\" ><label for=\"sk-estimator-id-21\" class=\"sk-toggleable__label sk-toggleable__label-arrow\">estimator: KNeighborsClassifier</label><div class=\"sk-toggleable__content\"><pre>KNeighborsClassifier()</pre></div></div></div><div class=\"sk-serial\"><div class=\"sk-item\"><div class=\"sk-estimator sk-toggleable\"><input class=\"sk-toggleable__control sk-hidden--visually\" id=\"sk-estimator-id-22\" type=\"checkbox\" ><label for=\"sk-estimator-id-22\" class=\"sk-toggleable__label sk-toggleable__label-arrow\">KNeighborsClassifier</label><div class=\"sk-toggleable__content\"><pre>KNeighborsClassifier()</pre></div></div></div></div></div></div></div></div></div></div>"
      ],
      "text/plain": [
       "GridSearchCV(estimator=KNeighborsClassifier(),\n",
       "             param_grid={'n_neighbors': [3, 4, 5, 6]})"
      ]
     },
     "execution_count": 50,
     "metadata": {},
     "output_type": "execute_result"
    }
   ],
   "source": [
    "knn = KNeighborsClassifier()\n",
    "grid = GridSearchCV(knn, knn_params)\n",
    "grid.fit(X, y)"
   ]
  },
  {
   "cell_type": "code",
   "execution_count": 48,
   "id": "48ea02e7",
   "metadata": {
    "ExecuteTime": {
     "end_time": "2022-09-12T13:00:47.051974Z",
     "start_time": "2022-09-12T13:00:47.034950Z"
    }
   },
   "outputs": [
    {
     "name": "stdout",
     "output_type": "stream",
     "text": [
      "0.7357680039194061 {'n_neighbors': 5}\n"
     ]
    }
   ],
   "source": [
    "print(grid.best_score_, grid.best_params_)"
   ]
  },
  {
   "cell_type": "code",
   "execution_count": 51,
   "id": "49c99e10",
   "metadata": {
    "ExecuteTime": {
     "end_time": "2022-09-12T13:19:37.265554Z",
     "start_time": "2022-09-12T13:19:37.251420Z"
    }
   },
   "outputs": [],
   "source": [
    "from sklearn.preprocessing import PolynomialFeatures"
   ]
  },
  {
   "cell_type": "code",
   "execution_count": 61,
   "id": "ff68603e",
   "metadata": {
    "ExecuteTime": {
     "end_time": "2022-09-12T13:23:26.352144Z",
     "start_time": "2022-09-12T13:23:26.323978Z"
    }
   },
   "outputs": [
    {
     "data": {
      "text/plain": [
       "(162501, 9)"
      ]
     },
     "execution_count": 61,
     "metadata": {},
     "output_type": "execute_result"
    }
   ],
   "source": [
    "poly = PolynomialFeatures(degree=2, include_bias=False, interaction_only=False)\n",
    "# numpy\n",
    "X_poly = poly.fit_transform(X)\n",
    "X_poly.shape"
   ]
  },
  {
   "cell_type": "code",
   "execution_count": 60,
   "id": "8abdb619",
   "metadata": {
    "ExecuteTime": {
     "end_time": "2022-09-12T13:23:16.533705Z",
     "start_time": "2022-09-12T13:23:16.502119Z"
    }
   },
   "outputs": [
    {
     "data": {
      "text/html": [
       "<div>\n",
       "<style scoped>\n",
       "    .dataframe tbody tr th:only-of-type {\n",
       "        vertical-align: middle;\n",
       "    }\n",
       "\n",
       "    .dataframe tbody tr th {\n",
       "        vertical-align: top;\n",
       "    }\n",
       "\n",
       "    .dataframe thead th {\n",
       "        text-align: right;\n",
       "    }\n",
       "</style>\n",
       "<table border=\"1\" class=\"dataframe\">\n",
       "  <thead>\n",
       "    <tr style=\"text-align: right;\">\n",
       "      <th></th>\n",
       "      <th>1</th>\n",
       "      <th>x</th>\n",
       "      <th>y</th>\n",
       "      <th>z</th>\n",
       "      <th>x^2</th>\n",
       "      <th>x y</th>\n",
       "      <th>x z</th>\n",
       "      <th>y^2</th>\n",
       "      <th>y z</th>\n",
       "      <th>z^2</th>\n",
       "    </tr>\n",
       "  </thead>\n",
       "  <tbody>\n",
       "    <tr>\n",
       "      <th>0</th>\n",
       "      <td>1.0</td>\n",
       "      <td>1502.0</td>\n",
       "      <td>2215.0</td>\n",
       "      <td>2153.0</td>\n",
       "      <td>2256004.0</td>\n",
       "      <td>3326930.0</td>\n",
       "      <td>3233806.0</td>\n",
       "      <td>4906225.0</td>\n",
       "      <td>4768895.0</td>\n",
       "      <td>4635409.0</td>\n",
       "    </tr>\n",
       "    <tr>\n",
       "      <th>1</th>\n",
       "      <td>1.0</td>\n",
       "      <td>1667.0</td>\n",
       "      <td>2072.0</td>\n",
       "      <td>2047.0</td>\n",
       "      <td>2778889.0</td>\n",
       "      <td>3454024.0</td>\n",
       "      <td>3412349.0</td>\n",
       "      <td>4293184.0</td>\n",
       "      <td>4241384.0</td>\n",
       "      <td>4190209.0</td>\n",
       "    </tr>\n",
       "    <tr>\n",
       "      <th>2</th>\n",
       "      <td>1.0</td>\n",
       "      <td>1611.0</td>\n",
       "      <td>1957.0</td>\n",
       "      <td>1906.0</td>\n",
       "      <td>2595321.0</td>\n",
       "      <td>3152727.0</td>\n",
       "      <td>3070566.0</td>\n",
       "      <td>3829849.0</td>\n",
       "      <td>3730042.0</td>\n",
       "      <td>3632836.0</td>\n",
       "    </tr>\n",
       "    <tr>\n",
       "      <th>3</th>\n",
       "      <td>1.0</td>\n",
       "      <td>1601.0</td>\n",
       "      <td>1939.0</td>\n",
       "      <td>1831.0</td>\n",
       "      <td>2563201.0</td>\n",
       "      <td>3104339.0</td>\n",
       "      <td>2931431.0</td>\n",
       "      <td>3759721.0</td>\n",
       "      <td>3550309.0</td>\n",
       "      <td>3352561.0</td>\n",
       "    </tr>\n",
       "    <tr>\n",
       "      <th>4</th>\n",
       "      <td>1.0</td>\n",
       "      <td>1643.0</td>\n",
       "      <td>1965.0</td>\n",
       "      <td>1879.0</td>\n",
       "      <td>2699449.0</td>\n",
       "      <td>3228495.0</td>\n",
       "      <td>3087197.0</td>\n",
       "      <td>3861225.0</td>\n",
       "      <td>3692235.0</td>\n",
       "      <td>3530641.0</td>\n",
       "    </tr>\n",
       "  </tbody>\n",
       "</table>\n",
       "</div>"
      ],
      "text/plain": [
       "     1       x       y       z        x^2        x y        x z        y^2  \\\n",
       "0  1.0  1502.0  2215.0  2153.0  2256004.0  3326930.0  3233806.0  4906225.0   \n",
       "1  1.0  1667.0  2072.0  2047.0  2778889.0  3454024.0  3412349.0  4293184.0   \n",
       "2  1.0  1611.0  1957.0  1906.0  2595321.0  3152727.0  3070566.0  3829849.0   \n",
       "3  1.0  1601.0  1939.0  1831.0  2563201.0  3104339.0  2931431.0  3759721.0   \n",
       "4  1.0  1643.0  1965.0  1879.0  2699449.0  3228495.0  3087197.0  3861225.0   \n",
       "\n",
       "         y z        z^2  \n",
       "0  4768895.0  4635409.0  \n",
       "1  4241384.0  4190209.0  \n",
       "2  3730042.0  3632836.0  \n",
       "3  3550309.0  3352561.0  \n",
       "4  3692235.0  3530641.0  "
      ]
     },
     "execution_count": 60,
     "metadata": {},
     "output_type": "execute_result"
    }
   ],
   "source": [
    "pd.DataFrame(poly.fit_transform(X), columns=poly.get_feature_names_out()).head()"
   ]
  },
  {
   "cell_type": "code",
   "execution_count": 63,
   "id": "62a71270",
   "metadata": {
    "ExecuteTime": {
     "end_time": "2022-09-12T13:26:09.714589Z",
     "start_time": "2022-09-12T13:26:09.700302Z"
    }
   },
   "outputs": [],
   "source": [
    "import seaborn as sns\n",
    "import matplotlib.pyplot as plt\n",
    "plt.style.use('ggplot')"
   ]
  },
  {
   "cell_type": "code",
   "execution_count": 70,
   "id": "12ea6d0e",
   "metadata": {
    "ExecuteTime": {
     "end_time": "2022-09-12T13:45:51.056998Z",
     "start_time": "2022-09-12T13:45:50.884826Z"
    }
   },
   "outputs": [
    {
     "data": {
      "image/png": "[encoded data removed]",
      "text/plain": [
       "<Figure size 432x288 with 2 Axes>"
      ]
     },
     "metadata": {},
     "output_type": "display_data"
    }
   ],
   "source": [
    "sns.heatmap(pd.DataFrame(X_poly, columns=poly.get_feature_names_out()).corr())\n",
    "plt.show()"
   ]
  },
  {
   "cell_type": "code",
   "execution_count": 72,
   "id": "ab2d8bf1",
   "metadata": {
    "ExecuteTime": {
     "end_time": "2022-09-12T13:48:36.533559Z",
     "start_time": "2022-09-12T13:48:36.514948Z"
    }
   },
   "outputs": [
    {
     "data": {
      "text/plain": [
       "(162501, 6)"
      ]
     },
     "execution_count": 72,
     "metadata": {},
     "output_type": "execute_result"
    }
   ],
   "source": [
    "poly = PolynomialFeatures(degree=2, include_bias=False, interaction_only=True)\n",
    "# numpy\n",
    "X_poly = poly.fit_transform(X)\n",
    "X_poly.shape"
   ]
  },
  {
   "cell_type": "code",
   "execution_count": 73,
   "id": "21395c4a",
   "metadata": {
    "ExecuteTime": {
     "end_time": "2022-09-12T13:48:54.279347Z",
     "start_time": "2022-09-12T13:48:54.244513Z"
    }
   },
   "outputs": [
    {
     "data": {
      "text/html": [
       "<div>\n",
       "<style scoped>\n",
       "    .dataframe tbody tr th:only-of-type {\n",
       "        vertical-align: middle;\n",
       "    }\n",
       "\n",
       "    .dataframe tbody tr th {\n",
       "        vertical-align: top;\n",
       "    }\n",
       "\n",
       "    .dataframe thead th {\n",
       "        text-align: right;\n",
       "    }\n",
       "</style>\n",
       "<table border=\"1\" class=\"dataframe\">\n",
       "  <thead>\n",
       "    <tr style=\"text-align: right;\">\n",
       "      <th></th>\n",
       "      <th>x</th>\n",
       "      <th>y</th>\n",
       "      <th>z</th>\n",
       "      <th>x y</th>\n",
       "      <th>x z</th>\n",
       "      <th>y z</th>\n",
       "    </tr>\n",
       "  </thead>\n",
       "  <tbody>\n",
       "    <tr>\n",
       "      <th>0</th>\n",
       "      <td>1502.0</td>\n",
       "      <td>2215.0</td>\n",
       "      <td>2153.0</td>\n",
       "      <td>3326930.0</td>\n",
       "      <td>3233806.0</td>\n",
       "      <td>4768895.0</td>\n",
       "    </tr>\n",
       "    <tr>\n",
       "      <th>1</th>\n",
       "      <td>1667.0</td>\n",
       "      <td>2072.0</td>\n",
       "      <td>2047.0</td>\n",
       "      <td>3454024.0</td>\n",
       "      <td>3412349.0</td>\n",
       "      <td>4241384.0</td>\n",
       "    </tr>\n",
       "    <tr>\n",
       "      <th>2</th>\n",
       "      <td>1611.0</td>\n",
       "      <td>1957.0</td>\n",
       "      <td>1906.0</td>\n",
       "      <td>3152727.0</td>\n",
       "      <td>3070566.0</td>\n",
       "      <td>3730042.0</td>\n",
       "    </tr>\n",
       "    <tr>\n",
       "      <th>3</th>\n",
       "      <td>1601.0</td>\n",
       "      <td>1939.0</td>\n",
       "      <td>1831.0</td>\n",
       "      <td>3104339.0</td>\n",
       "      <td>2931431.0</td>\n",
       "      <td>3550309.0</td>\n",
       "    </tr>\n",
       "    <tr>\n",
       "      <th>4</th>\n",
       "      <td>1643.0</td>\n",
       "      <td>1965.0</td>\n",
       "      <td>1879.0</td>\n",
       "      <td>3228495.0</td>\n",
       "      <td>3087197.0</td>\n",
       "      <td>3692235.0</td>\n",
       "    </tr>\n",
       "  </tbody>\n",
       "</table>\n",
       "</div>"
      ],
      "text/plain": [
       "        x       y       z        x y        x z        y z\n",
       "0  1502.0  2215.0  2153.0  3326930.0  3233806.0  4768895.0\n",
       "1  1667.0  2072.0  2047.0  3454024.0  3412349.0  4241384.0\n",
       "2  1611.0  1957.0  1906.0  3152727.0  3070566.0  3730042.0\n",
       "3  1601.0  1939.0  1831.0  3104339.0  2931431.0  3550309.0\n",
       "4  1643.0  1965.0  1879.0  3228495.0  3087197.0  3692235.0"
      ]
     },
     "execution_count": 73,
     "metadata": {},
     "output_type": "execute_result"
    }
   ],
   "source": [
    "pd.DataFrame(poly.fit_transform(X), columns=poly.get_feature_names_out()).head()"
   ]
  },
  {
   "cell_type": "code",
   "execution_count": 74,
   "id": "4f35bae2",
   "metadata": {
    "ExecuteTime": {
     "end_time": "2022-09-12T13:49:11.836778Z",
     "start_time": "2022-09-12T13:49:11.690540Z"
    }
   },
   "outputs": [
    {
     "data": {
      "image/png": "[encoded data removed]",
      "text/plain": [
       "<Figure size 432x288 with 2 Axes>"
      ]
     },
     "metadata": {},
     "output_type": "display_data"
    }
   ],
   "source": [
    "sns.heatmap(pd.DataFrame(X_poly, columns=poly.get_feature_names_out()).corr())\n",
    "plt.show()"
   ]
  },
  {
   "cell_type": "code",
   "execution_count": 88,
   "id": "fa3ead9b",
   "metadata": {
    "ExecuteTime": {
     "end_time": "2022-09-12T14:29:13.372198Z",
     "start_time": "2022-09-12T14:29:13.353480Z"
    }
   },
   "outputs": [],
   "source": [
    "pipe_params = {'poly_features__degree': [1, 2, 3], 'poly_features__interaction_only': [True, False], 'classify__n_neighbors': [3, 4, 5, 6]}"
   ]
  },
  {
   "cell_type": "code",
   "execution_count": 89,
   "id": "16f534f6",
   "metadata": {
    "ExecuteTime": {
     "end_time": "2022-09-12T14:30:45.609209Z",
     "start_time": "2022-09-12T14:29:13.889329Z"
    }
   },
   "outputs": [
    {
     "name": "stderr",
     "output_type": "stream",
     "text": [
      "D:\\Anaconda\\lib\\site-packages\\sklearn\\model_selection\\_split.py:680: UserWarning: The least populated class in y has only 1 members, which is less than n_splits=5.\n",
      "  warnings.warn(\n",
      "D:\\Anaconda\\lib\\site-packages\\sklearn\\model_selection\\_validation.py:776: UserWarning: Scoring failed. The score on this train-test partition for these parameters will be set to nan. Details: \n",
      "Traceback (most recent call last):\n",
      "  File \"D:\\Anaconda\\lib\\site-packages\\sklearn\\model_selection\\_validation.py\", line 767, in _score\n",
      "    scores = scorer(estimator, X_test, y_test)\n",
      "  File \"D:\\Anaconda\\lib\\site-packages\\sklearn\\metrics\\_scorer.py\", line 429, in _passthrough_scorer\n",
      "    return estimator.score(*args, **kwargs)\n",
      "  File \"D:\\Anaconda\\lib\\site-packages\\sklearn\\pipeline.py\", line 699, in score\n",
      "    return self.steps[-1][1].score(Xt, y, **score_params)\n",
      "  File \"D:\\Anaconda\\lib\\site-packages\\sklearn\\base.py\", line 666, in score\n",
      "    return accuracy_score(y, self.predict(X), sample_weight=sample_weight)\n",
      "  File \"D:\\Anaconda\\lib\\site-packages\\sklearn\\neighbors\\_classification.py\", line 219, in predict\n",
      "    neigh_ind = self.kneighbors(X, return_distance=False)\n",
      "  File \"D:\\Anaconda\\lib\\site-packages\\sklearn\\neighbors\\_base.py\", line 763, in kneighbors\n",
      "    results = PairwiseDistancesArgKmin.compute(\n",
      "  File \"sklearn\\metrics\\_pairwise_distances_reduction.pyx\", line 691, in sklearn.metrics._pairwise_distances_reduction.PairwiseDistancesArgKmin.compute\n",
      "  File \"D:\\Anaconda\\lib\\site-packages\\sklearn\\utils\\fixes.py\", line 151, in threadpool_limits\n",
      "    return threadpoolctl.threadpool_limits(limits=limits, user_api=user_api)\n",
      "  File \"D:\\Anaconda\\lib\\site-packages\\threadpoolctl.py\", line 171, in __init__\n",
      "    self._original_info = self._set_threadpool_limits()\n",
      "  File \"D:\\Anaconda\\lib\\site-packages\\threadpoolctl.py\", line 268, in _set_threadpool_limits\n",
      "    modules = _ThreadpoolInfo(prefixes=self._prefixes,\n",
      "  File \"D:\\Anaconda\\lib\\site-packages\\threadpoolctl.py\", line 340, in __init__\n",
      "    self._load_modules()\n",
      "  File \"D:\\Anaconda\\lib\\site-packages\\threadpoolctl.py\", line 373, in _load_modules\n",
      "    self._find_modules_with_enum_process_module_ex()\n",
      "  File \"D:\\Anaconda\\lib\\site-packages\\threadpoolctl.py\", line 485, in _find_modules_with_enum_process_module_ex\n",
      "    self._make_module_from_path(filepath)\n",
      "  File \"D:\\Anaconda\\lib\\site-packages\\threadpoolctl.py\", line 515, in _make_module_from_path\n",
      "    module = module_class(filepath, prefix, user_api, internal_api)\n",
      "  File \"D:\\Anaconda\\lib\\site-packages\\threadpoolctl.py\", line 606, in __init__\n",
      "    self.version = self.get_version()\n",
      "  File \"D:\\Anaconda\\lib\\site-packages\\threadpoolctl.py\", line 646, in get_version\n",
      "    config = get_config().split()\n",
      "AttributeError: 'NoneType' object has no attribute 'split'\n",
      "\n",
      "  warnings.warn(\n",
      "D:\\Anaconda\\lib\\site-packages\\sklearn\\model_selection\\_validation.py:776: UserWarning: Scoring failed. The score on this train-test partition for these parameters will be set to nan. Details: \n",
      "Traceback (most recent call last):\n",
      "  File \"D:\\Anaconda\\lib\\site-packages\\sklearn\\model_selection\\_validation.py\", line 767, in _score\n",
      "    scores = scorer(estimator, X_test, y_test)\n",
      "  File \"D:\\Anaconda\\lib\\site-packages\\sklearn\\metrics\\_scorer.py\", line 429, in _passthrough_scorer\n",
      "    return estimator.score(*args, **kwargs)\n",
      "  File \"D:\\Anaconda\\lib\\site-packages\\sklearn\\pipeline.py\", line 699, in score\n",
      "    return self.steps[-1][1].score(Xt, y, **score_params)\n",
      "  File \"D:\\Anaconda\\lib\\site-packages\\sklearn\\base.py\", line 666, in score\n",
      "    return accuracy_score(y, self.predict(X), sample_weight=sample_weight)\n",
      "  File \"D:\\Anaconda\\lib\\site-packages\\sklearn\\neighbors\\_classification.py\", line 219, in predict\n",
      "    neigh_ind = self.kneighbors(X, return_distance=False)\n",
      "  File \"D:\\Anaconda\\lib\\site-packages\\sklearn\\neighbors\\_base.py\", line 763, in kneighbors\n",
      "    results = PairwiseDistancesArgKmin.compute(\n",
      "  File \"sklearn\\metrics\\_pairwise_distances_reduction.pyx\", line 691, in sklearn.metrics._pairwise_distances_reduction.PairwiseDistancesArgKmin.compute\n",
      "  File \"D:\\Anaconda\\lib\\site-packages\\sklearn\\utils\\fixes.py\", line 151, in threadpool_limits\n",
      "    return threadpoolctl.threadpool_limits(limits=limits, user_api=user_api)\n",
      "  File \"D:\\Anaconda\\lib\\site-packages\\threadpoolctl.py\", line 171, in __init__\n",
      "    self._original_info = self._set_threadpool_limits()\n",
      "  File \"D:\\Anaconda\\lib\\site-packages\\threadpoolctl.py\", line 268, in _set_threadpool_limits\n",
      "    modules = _ThreadpoolInfo(prefixes=self._prefixes,\n",
      "  File \"D:\\Anaconda\\lib\\site-packages\\threadpoolctl.py\", line 340, in __init__\n",
      "    self._load_modules()\n",
      "  File \"D:\\Anaconda\\lib\\site-packages\\threadpoolctl.py\", line 373, in _load_modules\n",
      "    self._find_modules_with_enum_process_module_ex()\n",
      "  File \"D:\\Anaconda\\lib\\site-packages\\threadpoolctl.py\", line 485, in _find_modules_with_enum_process_module_ex\n",
      "    self._make_module_from_path(filepath)\n",
      "  File \"D:\\Anaconda\\lib\\site-packages\\threadpoolctl.py\", line 515, in _make_module_from_path\n",
      "    module = module_class(filepath, prefix, user_api, internal_api)\n",
      "  File \"D:\\Anaconda\\lib\\site-packages\\threadpoolctl.py\", line 606, in __init__\n",
      "    self.version = self.get_version()\n",
      "  File \"D:\\Anaconda\\lib\\site-packages\\threadpoolctl.py\", line 646, in get_version\n",
      "    config = get_config().split()\n",
      "AttributeError: 'NoneType' object has no attribute 'split'\n",
      "\n",
      "  warnings.warn(\n",
      "D:\\Anaconda\\lib\\site-packages\\sklearn\\model_selection\\_validation.py:776: UserWarning: Scoring failed. The score on this train-test partition for these parameters will be set to nan. Details: \n",
      "Traceback (most recent call last):\n",
      "  File \"D:\\Anaconda\\lib\\site-packages\\sklearn\\model_selection\\_validation.py\", line 767, in _score\n",
      "    scores = scorer(estimator, X_test, y_test)\n",
      "  File \"D:\\Anaconda\\lib\\site-packages\\sklearn\\metrics\\_scorer.py\", line 429, in _passthrough_scorer\n",
      "    return estimator.score(*args, **kwargs)\n",
      "  File \"D:\\Anaconda\\lib\\site-packages\\sklearn\\pipeline.py\", line 699, in score\n",
      "    return self.steps[-1][1].score(Xt, y, **score_params)\n",
      "  File \"D:\\Anaconda\\lib\\site-packages\\sklearn\\base.py\", line 666, in score\n",
      "    return accuracy_score(y, self.predict(X), sample_weight=sample_weight)\n",
      "  File \"D:\\Anaconda\\lib\\site-packages\\sklearn\\neighbors\\_classification.py\", line 219, in predict\n",
      "    neigh_ind = self.kneighbors(X, return_distance=False)\n",
      "  File \"D:\\Anaconda\\lib\\site-packages\\sklearn\\neighbors\\_base.py\", line 763, in kneighbors\n",
      "    results = PairwiseDistancesArgKmin.compute(\n",
      "  File \"sklearn\\metrics\\_pairwise_distances_reduction.pyx\", line 691, in sklearn.metrics._pairwise_distances_reduction.PairwiseDistancesArgKmin.compute\n",
      "  File \"D:\\Anaconda\\lib\\site-packages\\sklearn\\utils\\fixes.py\", line 151, in threadpool_limits\n",
      "    return threadpoolctl.threadpool_limits(limits=limits, user_api=user_api)\n",
      "  File \"D:\\Anaconda\\lib\\site-packages\\threadpoolctl.py\", line 171, in __init__\n",
      "    self._original_info = self._set_threadpool_limits()\n",
      "  File \"D:\\Anaconda\\lib\\site-packages\\threadpoolctl.py\", line 268, in _set_threadpool_limits\n",
      "    modules = _ThreadpoolInfo(prefixes=self._prefixes,\n",
      "  File \"D:\\Anaconda\\lib\\site-packages\\threadpoolctl.py\", line 340, in __init__\n",
      "    self._load_modules()\n",
      "  File \"D:\\Anaconda\\lib\\site-packages\\threadpoolctl.py\", line 373, in _load_modules\n",
      "    self._find_modules_with_enum_process_module_ex()\n",
      "  File \"D:\\Anaconda\\lib\\site-packages\\threadpoolctl.py\", line 485, in _find_modules_with_enum_process_module_ex\n",
      "    self._make_module_from_path(filepath)\n",
      "  File \"D:\\Anaconda\\lib\\site-packages\\threadpoolctl.py\", line 515, in _make_module_from_path\n",
      "    module = module_class(filepath, prefix, user_api, internal_api)\n",
      "  File \"D:\\Anaconda\\lib\\site-packages\\threadpoolctl.py\", line 606, in __init__\n",
      "    self.version = self.get_version()\n",
      "  File \"D:\\Anaconda\\lib\\site-packages\\threadpoolctl.py\", line 646, in get_version\n",
      "    config = get_config().split()\n",
      "AttributeError: 'NoneType' object has no attribute 'split'\n",
      "\n",
      "  warnings.warn(\n",
      "D:\\Anaconda\\lib\\site-packages\\sklearn\\model_selection\\_validation.py:776: UserWarning: Scoring failed. The score on this train-test partition for these parameters will be set to nan. Details: \n",
      "Traceback (most recent call last):\n",
      "  File \"D:\\Anaconda\\lib\\site-packages\\sklearn\\model_selection\\_validation.py\", line 767, in _score\n",
      "    scores = scorer(estimator, X_test, y_test)\n",
      "  File \"D:\\Anaconda\\lib\\site-packages\\sklearn\\metrics\\_scorer.py\", line 429, in _passthrough_scorer\n",
      "    return estimator.score(*args, **kwargs)\n",
      "  File \"D:\\Anaconda\\lib\\site-packages\\sklearn\\pipeline.py\", line 699, in score\n",
      "    return self.steps[-1][1].score(Xt, y, **score_params)\n",
      "  File \"D:\\Anaconda\\lib\\site-packages\\sklearn\\base.py\", line 666, in score\n",
      "    return accuracy_score(y, self.predict(X), sample_weight=sample_weight)\n",
      "  File \"D:\\Anaconda\\lib\\site-packages\\sklearn\\neighbors\\_classification.py\", line 219, in predict\n",
      "    neigh_ind = self.kneighbors(X, return_distance=False)\n",
      "  File \"D:\\Anaconda\\lib\\site-packages\\sklearn\\neighbors\\_base.py\", line 763, in kneighbors\n",
      "    results = PairwiseDistancesArgKmin.compute(\n",
      "  File \"sklearn\\metrics\\_pairwise_distances_reduction.pyx\", line 691, in sklearn.metrics._pairwise_distances_reduction.PairwiseDistancesArgKmin.compute\n",
      "  File \"D:\\Anaconda\\lib\\site-packages\\sklearn\\utils\\fixes.py\", line 151, in threadpool_limits\n",
      "    return threadpoolctl.threadpool_limits(limits=limits, user_api=user_api)\n",
      "  File \"D:\\Anaconda\\lib\\site-packages\\threadpoolctl.py\", line 171, in __init__\n",
      "    self._original_info = self._set_threadpool_limits()\n",
      "  File \"D:\\Anaconda\\lib\\site-packages\\threadpoolctl.py\", line 268, in _set_threadpool_limits\n",
      "    modules = _ThreadpoolInfo(prefixes=self._prefixes,\n",
      "  File \"D:\\Anaconda\\lib\\site-packages\\threadpoolctl.py\", line 340, in __init__\n",
      "    self._load_modules()\n",
      "  File \"D:\\Anaconda\\lib\\site-packages\\threadpoolctl.py\", line 373, in _load_modules\n",
      "    self._find_modules_with_enum_process_module_ex()\n",
      "  File \"D:\\Anaconda\\lib\\site-packages\\threadpoolctl.py\", line 485, in _find_modules_with_enum_process_module_ex\n",
      "    self._make_module_from_path(filepath)\n",
      "  File \"D:\\Anaconda\\lib\\site-packages\\threadpoolctl.py\", line 515, in _make_module_from_path\n",
      "    module = module_class(filepath, prefix, user_api, internal_api)\n",
      "  File \"D:\\Anaconda\\lib\\site-packages\\threadpoolctl.py\", line 606, in __init__\n",
      "    self.version = self.get_version()\n",
      "  File \"D:\\Anaconda\\lib\\site-packages\\threadpoolctl.py\", line 646, in get_version\n",
      "    config = get_config().split()\n",
      "AttributeError: 'NoneType' object has no attribute 'split'\n",
      "\n",
      "  warnings.warn(\n",
      "D:\\Anaconda\\lib\\site-packages\\sklearn\\model_selection\\_validation.py:776: UserWarning: Scoring failed. The score on this train-test partition for these parameters will be set to nan. Details: \n",
      "Traceback (most recent call last):\n",
      "  File \"D:\\Anaconda\\lib\\site-packages\\sklearn\\model_selection\\_validation.py\", line 767, in _score\n",
      "    scores = scorer(estimator, X_test, y_test)\n",
      "  File \"D:\\Anaconda\\lib\\site-packages\\sklearn\\metrics\\_scorer.py\", line 429, in _passthrough_scorer\n",
      "    return estimator.score(*args, **kwargs)\n",
      "  File \"D:\\Anaconda\\lib\\site-packages\\sklearn\\pipeline.py\", line 699, in score\n",
      "    return self.steps[-1][1].score(Xt, y, **score_params)\n",
      "  File \"D:\\Anaconda\\lib\\site-packages\\sklearn\\base.py\", line 666, in score\n",
      "    return accuracy_score(y, self.predict(X), sample_weight=sample_weight)\n",
      "  File \"D:\\Anaconda\\lib\\site-packages\\sklearn\\neighbors\\_classification.py\", line 219, in predict\n",
      "    neigh_ind = self.kneighbors(X, return_distance=False)\n",
      "  File \"D:\\Anaconda\\lib\\site-packages\\sklearn\\neighbors\\_base.py\", line 763, in kneighbors\n",
      "    results = PairwiseDistancesArgKmin.compute(\n",
      "  File \"sklearn\\metrics\\_pairwise_distances_reduction.pyx\", line 691, in sklearn.metrics._pairwise_distances_reduction.PairwiseDistancesArgKmin.compute\n",
      "  File \"D:\\Anaconda\\lib\\site-packages\\sklearn\\utils\\fixes.py\", line 151, in threadpool_limits\n",
      "    return threadpoolctl.threadpool_limits(limits=limits, user_api=user_api)\n",
      "  File \"D:\\Anaconda\\lib\\site-packages\\threadpoolctl.py\", line 171, in __init__\n",
      "    self._original_info = self._set_threadpool_limits()\n",
      "  File \"D:\\Anaconda\\lib\\site-packages\\threadpoolctl.py\", line 268, in _set_threadpool_limits\n",
      "    modules = _ThreadpoolInfo(prefixes=self._prefixes,\n",
      "  File \"D:\\Anaconda\\lib\\site-packages\\threadpoolctl.py\", line 340, in __init__\n",
      "    self._load_modules()\n",
      "  File \"D:\\Anaconda\\lib\\site-packages\\threadpoolctl.py\", line 373, in _load_modules\n",
      "    self._find_modules_with_enum_process_module_ex()\n",
      "  File \"D:\\Anaconda\\lib\\site-packages\\threadpoolctl.py\", line 485, in _find_modules_with_enum_process_module_ex\n",
      "    self._make_module_from_path(filepath)\n",
      "  File \"D:\\Anaconda\\lib\\site-packages\\threadpoolctl.py\", line 515, in _make_module_from_path\n",
      "    module = module_class(filepath, prefix, user_api, internal_api)\n",
      "  File \"D:\\Anaconda\\lib\\site-packages\\threadpoolctl.py\", line 606, in __init__\n",
      "    self.version = self.get_version()\n",
      "  File \"D:\\Anaconda\\lib\\site-packages\\threadpoolctl.py\", line 646, in get_version\n",
      "    config = get_config().split()\n",
      "AttributeError: 'NoneType' object has no attribute 'split'\n",
      "\n",
      "  warnings.warn(\n"
     ]
    },
    {
     "name": "stderr",
     "output_type": "stream",
     "text": [
      "D:\\Anaconda\\lib\\site-packages\\sklearn\\model_selection\\_validation.py:776: UserWarning: Scoring failed. The score on this train-test partition for these parameters will be set to nan. Details: \n",
      "Traceback (most recent call last):\n",
      "  File \"D:\\Anaconda\\lib\\site-packages\\sklearn\\model_selection\\_validation.py\", line 767, in _score\n",
      "    scores = scorer(estimator, X_test, y_test)\n",
      "  File \"D:\\Anaconda\\lib\\site-packages\\sklearn\\metrics\\_scorer.py\", line 429, in _passthrough_scorer\n",
      "    return estimator.score(*args, **kwargs)\n",
      "  File \"D:\\Anaconda\\lib\\site-packages\\sklearn\\pipeline.py\", line 699, in score\n",
      "    return self.steps[-1][1].score(Xt, y, **score_params)\n",
      "  File \"D:\\Anaconda\\lib\\site-packages\\sklearn\\base.py\", line 666, in score\n",
      "    return accuracy_score(y, self.predict(X), sample_weight=sample_weight)\n",
      "  File \"D:\\Anaconda\\lib\\site-packages\\sklearn\\neighbors\\_classification.py\", line 219, in predict\n",
      "    neigh_ind = self.kneighbors(X, return_distance=False)\n",
      "  File \"D:\\Anaconda\\lib\\site-packages\\sklearn\\neighbors\\_base.py\", line 763, in kneighbors\n",
      "    results = PairwiseDistancesArgKmin.compute(\n",
      "  File \"sklearn\\metrics\\_pairwise_distances_reduction.pyx\", line 691, in sklearn.metrics._pairwise_distances_reduction.PairwiseDistancesArgKmin.compute\n",
      "  File \"D:\\Anaconda\\lib\\site-packages\\sklearn\\utils\\fixes.py\", line 151, in threadpool_limits\n",
      "    return threadpoolctl.threadpool_limits(limits=limits, user_api=user_api)\n",
      "  File \"D:\\Anaconda\\lib\\site-packages\\threadpoolctl.py\", line 171, in __init__\n",
      "    self._original_info = self._set_threadpool_limits()\n",
      "  File \"D:\\Anaconda\\lib\\site-packages\\threadpoolctl.py\", line 268, in _set_threadpool_limits\n",
      "    modules = _ThreadpoolInfo(prefixes=self._prefixes,\n",
      "  File \"D:\\Anaconda\\lib\\site-packages\\threadpoolctl.py\", line 340, in __init__\n",
      "    self._load_modules()\n",
      "  File \"D:\\Anaconda\\lib\\site-packages\\threadpoolctl.py\", line 373, in _load_modules\n",
      "    self._find_modules_with_enum_process_module_ex()\n",
      "  File \"D:\\Anaconda\\lib\\site-packages\\threadpoolctl.py\", line 485, in _find_modules_with_enum_process_module_ex\n",
      "    self._make_module_from_path(filepath)\n",
      "  File \"D:\\Anaconda\\lib\\site-packages\\threadpoolctl.py\", line 515, in _make_module_from_path\n",
      "    module = module_class(filepath, prefix, user_api, internal_api)\n",
      "  File \"D:\\Anaconda\\lib\\site-packages\\threadpoolctl.py\", line 606, in __init__\n",
      "    self.version = self.get_version()\n",
      "  File \"D:\\Anaconda\\lib\\site-packages\\threadpoolctl.py\", line 646, in get_version\n",
      "    config = get_config().split()\n",
      "AttributeError: 'NoneType' object has no attribute 'split'\n",
      "\n",
      "  warnings.warn(\n",
      "D:\\Anaconda\\lib\\site-packages\\sklearn\\model_selection\\_validation.py:776: UserWarning: Scoring failed. The score on this train-test partition for these parameters will be set to nan. Details: \n",
      "Traceback (most recent call last):\n",
      "  File \"D:\\Anaconda\\lib\\site-packages\\sklearn\\model_selection\\_validation.py\", line 767, in _score\n",
      "    scores = scorer(estimator, X_test, y_test)\n",
      "  File \"D:\\Anaconda\\lib\\site-packages\\sklearn\\metrics\\_scorer.py\", line 429, in _passthrough_scorer\n",
      "    return estimator.score(*args, **kwargs)\n",
      "  File \"D:\\Anaconda\\lib\\site-packages\\sklearn\\pipeline.py\", line 699, in score\n",
      "    return self.steps[-1][1].score(Xt, y, **score_params)\n",
      "  File \"D:\\Anaconda\\lib\\site-packages\\sklearn\\base.py\", line 666, in score\n",
      "    return accuracy_score(y, self.predict(X), sample_weight=sample_weight)\n",
      "  File \"D:\\Anaconda\\lib\\site-packages\\sklearn\\neighbors\\_classification.py\", line 219, in predict\n",
      "    neigh_ind = self.kneighbors(X, return_distance=False)\n",
      "  File \"D:\\Anaconda\\lib\\site-packages\\sklearn\\neighbors\\_base.py\", line 763, in kneighbors\n",
      "    results = PairwiseDistancesArgKmin.compute(\n",
      "  File \"sklearn\\metrics\\_pairwise_distances_reduction.pyx\", line 691, in sklearn.metrics._pairwise_distances_reduction.PairwiseDistancesArgKmin.compute\n",
      "  File \"D:\\Anaconda\\lib\\site-packages\\sklearn\\utils\\fixes.py\", line 151, in threadpool_limits\n",
      "    return threadpoolctl.threadpool_limits(limits=limits, user_api=user_api)\n",
      "  File \"D:\\Anaconda\\lib\\site-packages\\threadpoolctl.py\", line 171, in __init__\n",
      "    self._original_info = self._set_threadpool_limits()\n",
      "  File \"D:\\Anaconda\\lib\\site-packages\\threadpoolctl.py\", line 268, in _set_threadpool_limits\n",
      "    modules = _ThreadpoolInfo(prefixes=self._prefixes,\n",
      "  File \"D:\\Anaconda\\lib\\site-packages\\threadpoolctl.py\", line 340, in __init__\n",
      "    self._load_modules()\n",
      "  File \"D:\\Anaconda\\lib\\site-packages\\threadpoolctl.py\", line 373, in _load_modules\n",
      "    self._find_modules_with_enum_process_module_ex()\n",
      "  File \"D:\\Anaconda\\lib\\site-packages\\threadpoolctl.py\", line 485, in _find_modules_with_enum_process_module_ex\n",
      "    self._make_module_from_path(filepath)\n",
      "  File \"D:\\Anaconda\\lib\\site-packages\\threadpoolctl.py\", line 515, in _make_module_from_path\n",
      "    module = module_class(filepath, prefix, user_api, internal_api)\n",
      "  File \"D:\\Anaconda\\lib\\site-packages\\threadpoolctl.py\", line 606, in __init__\n",
      "    self.version = self.get_version()\n",
      "  File \"D:\\Anaconda\\lib\\site-packages\\threadpoolctl.py\", line 646, in get_version\n",
      "    config = get_config().split()\n",
      "AttributeError: 'NoneType' object has no attribute 'split'\n",
      "\n",
      "  warnings.warn(\n",
      "D:\\Anaconda\\lib\\site-packages\\sklearn\\model_selection\\_validation.py:776: UserWarning: Scoring failed. The score on this train-test partition for these parameters will be set to nan. Details: \n",
      "Traceback (most recent call last):\n",
      "  File \"D:\\Anaconda\\lib\\site-packages\\sklearn\\model_selection\\_validation.py\", line 767, in _score\n",
      "    scores = scorer(estimator, X_test, y_test)\n",
      "  File \"D:\\Anaconda\\lib\\site-packages\\sklearn\\metrics\\_scorer.py\", line 429, in _passthrough_scorer\n",
      "    return estimator.score(*args, **kwargs)\n",
      "  File \"D:\\Anaconda\\lib\\site-packages\\sklearn\\pipeline.py\", line 699, in score\n",
      "    return self.steps[-1][1].score(Xt, y, **score_params)\n",
      "  File \"D:\\Anaconda\\lib\\site-packages\\sklearn\\base.py\", line 666, in score\n",
      "    return accuracy_score(y, self.predict(X), sample_weight=sample_weight)\n",
      "  File \"D:\\Anaconda\\lib\\site-packages\\sklearn\\neighbors\\_classification.py\", line 219, in predict\n",
      "    neigh_ind = self.kneighbors(X, return_distance=False)\n",
      "  File \"D:\\Anaconda\\lib\\site-packages\\sklearn\\neighbors\\_base.py\", line 763, in kneighbors\n",
      "    results = PairwiseDistancesArgKmin.compute(\n",
      "  File \"sklearn\\metrics\\_pairwise_distances_reduction.pyx\", line 691, in sklearn.metrics._pairwise_distances_reduction.PairwiseDistancesArgKmin.compute\n",
      "  File \"D:\\Anaconda\\lib\\site-packages\\sklearn\\utils\\fixes.py\", line 151, in threadpool_limits\n",
      "    return threadpoolctl.threadpool_limits(limits=limits, user_api=user_api)\n",
      "  File \"D:\\Anaconda\\lib\\site-packages\\threadpoolctl.py\", line 171, in __init__\n",
      "    self._original_info = self._set_threadpool_limits()\n",
      "  File \"D:\\Anaconda\\lib\\site-packages\\threadpoolctl.py\", line 268, in _set_threadpool_limits\n",
      "    modules = _ThreadpoolInfo(prefixes=self._prefixes,\n",
      "  File \"D:\\Anaconda\\lib\\site-packages\\threadpoolctl.py\", line 340, in __init__\n",
      "    self._load_modules()\n",
      "  File \"D:\\Anaconda\\lib\\site-packages\\threadpoolctl.py\", line 373, in _load_modules\n",
      "    self._find_modules_with_enum_process_module_ex()\n",
      "  File \"D:\\Anaconda\\lib\\site-packages\\threadpoolctl.py\", line 485, in _find_modules_with_enum_process_module_ex\n",
      "    self._make_module_from_path(filepath)\n",
      "  File \"D:\\Anaconda\\lib\\site-packages\\threadpoolctl.py\", line 515, in _make_module_from_path\n",
      "    module = module_class(filepath, prefix, user_api, internal_api)\n",
      "  File \"D:\\Anaconda\\lib\\site-packages\\threadpoolctl.py\", line 606, in __init__\n",
      "    self.version = self.get_version()\n",
      "  File \"D:\\Anaconda\\lib\\site-packages\\threadpoolctl.py\", line 646, in get_version\n",
      "    config = get_config().split()\n",
      "AttributeError: 'NoneType' object has no attribute 'split'\n",
      "\n",
      "  warnings.warn(\n",
      "D:\\Anaconda\\lib\\site-packages\\sklearn\\model_selection\\_validation.py:776: UserWarning: Scoring failed. The score on this train-test partition for these parameters will be set to nan. Details: \n",
      "Traceback (most recent call last):\n",
      "  File \"D:\\Anaconda\\lib\\site-packages\\sklearn\\model_selection\\_validation.py\", line 767, in _score\n",
      "    scores = scorer(estimator, X_test, y_test)\n",
      "  File \"D:\\Anaconda\\lib\\site-packages\\sklearn\\metrics\\_scorer.py\", line 429, in _passthrough_scorer\n",
      "    return estimator.score(*args, **kwargs)\n",
      "  File \"D:\\Anaconda\\lib\\site-packages\\sklearn\\pipeline.py\", line 699, in score\n",
      "    return self.steps[-1][1].score(Xt, y, **score_params)\n",
      "  File \"D:\\Anaconda\\lib\\site-packages\\sklearn\\base.py\", line 666, in score\n",
      "    return accuracy_score(y, self.predict(X), sample_weight=sample_weight)\n",
      "  File \"D:\\Anaconda\\lib\\site-packages\\sklearn\\neighbors\\_classification.py\", line 219, in predict\n",
      "    neigh_ind = self.kneighbors(X, return_distance=False)\n",
      "  File \"D:\\Anaconda\\lib\\site-packages\\sklearn\\neighbors\\_base.py\", line 763, in kneighbors\n",
      "    results = PairwiseDistancesArgKmin.compute(\n",
      "  File \"sklearn\\metrics\\_pairwise_distances_reduction.pyx\", line 691, in sklearn.metrics._pairwise_distances_reduction.PairwiseDistancesArgKmin.compute\n",
      "  File \"D:\\Anaconda\\lib\\site-packages\\sklearn\\utils\\fixes.py\", line 151, in threadpool_limits\n",
      "    return threadpoolctl.threadpool_limits(limits=limits, user_api=user_api)\n",
      "  File \"D:\\Anaconda\\lib\\site-packages\\threadpoolctl.py\", line 171, in __init__\n",
      "    self._original_info = self._set_threadpool_limits()\n",
      "  File \"D:\\Anaconda\\lib\\site-packages\\threadpoolctl.py\", line 268, in _set_threadpool_limits\n",
      "    modules = _ThreadpoolInfo(prefixes=self._prefixes,\n",
      "  File \"D:\\Anaconda\\lib\\site-packages\\threadpoolctl.py\", line 340, in __init__\n",
      "    self._load_modules()\n",
      "  File \"D:\\Anaconda\\lib\\site-packages\\threadpoolctl.py\", line 373, in _load_modules\n",
      "    self._find_modules_with_enum_process_module_ex()\n",
      "  File \"D:\\Anaconda\\lib\\site-packages\\threadpoolctl.py\", line 485, in _find_modules_with_enum_process_module_ex\n",
      "    self._make_module_from_path(filepath)\n",
      "  File \"D:\\Anaconda\\lib\\site-packages\\threadpoolctl.py\", line 515, in _make_module_from_path\n",
      "    module = module_class(filepath, prefix, user_api, internal_api)\n",
      "  File \"D:\\Anaconda\\lib\\site-packages\\threadpoolctl.py\", line 606, in __init__\n",
      "    self.version = self.get_version()\n",
      "  File \"D:\\Anaconda\\lib\\site-packages\\threadpoolctl.py\", line 646, in get_version\n",
      "    config = get_config().split()\n",
      "AttributeError: 'NoneType' object has no attribute 'split'\n",
      "\n",
      "  warnings.warn(\n",
      "D:\\Anaconda\\lib\\site-packages\\sklearn\\model_selection\\_validation.py:776: UserWarning: Scoring failed. The score on this train-test partition for these parameters will be set to nan. Details: \n",
      "Traceback (most recent call last):\n",
      "  File \"D:\\Anaconda\\lib\\site-packages\\sklearn\\model_selection\\_validation.py\", line 767, in _score\n",
      "    scores = scorer(estimator, X_test, y_test)\n",
      "  File \"D:\\Anaconda\\lib\\site-packages\\sklearn\\metrics\\_scorer.py\", line 429, in _passthrough_scorer\n",
      "    return estimator.score(*args, **kwargs)\n",
      "  File \"D:\\Anaconda\\lib\\site-packages\\sklearn\\pipeline.py\", line 699, in score\n",
      "    return self.steps[-1][1].score(Xt, y, **score_params)\n",
      "  File \"D:\\Anaconda\\lib\\site-packages\\sklearn\\base.py\", line 666, in score\n",
      "    return accuracy_score(y, self.predict(X), sample_weight=sample_weight)\n",
      "  File \"D:\\Anaconda\\lib\\site-packages\\sklearn\\neighbors\\_classification.py\", line 219, in predict\n",
      "    neigh_ind = self.kneighbors(X, return_distance=False)\n",
      "  File \"D:\\Anaconda\\lib\\site-packages\\sklearn\\neighbors\\_base.py\", line 763, in kneighbors\n",
      "    results = PairwiseDistancesArgKmin.compute(\n",
      "  File \"sklearn\\metrics\\_pairwise_distances_reduction.pyx\", line 691, in sklearn.metrics._pairwise_distances_reduction.PairwiseDistancesArgKmin.compute\n",
      "  File \"D:\\Anaconda\\lib\\site-packages\\sklearn\\utils\\fixes.py\", line 151, in threadpool_limits\n",
      "    return threadpoolctl.threadpool_limits(limits=limits, user_api=user_api)\n",
      "  File \"D:\\Anaconda\\lib\\site-packages\\threadpoolctl.py\", line 171, in __init__\n",
      "    self._original_info = self._set_threadpool_limits()\n",
      "  File \"D:\\Anaconda\\lib\\site-packages\\threadpoolctl.py\", line 268, in _set_threadpool_limits\n",
      "    modules = _ThreadpoolInfo(prefixes=self._prefixes,\n",
      "  File \"D:\\Anaconda\\lib\\site-packages\\threadpoolctl.py\", line 340, in __init__\n",
      "    self._load_modules()\n",
      "  File \"D:\\Anaconda\\lib\\site-packages\\threadpoolctl.py\", line 373, in _load_modules\n",
      "    self._find_modules_with_enum_process_module_ex()\n",
      "  File \"D:\\Anaconda\\lib\\site-packages\\threadpoolctl.py\", line 485, in _find_modules_with_enum_process_module_ex\n",
      "    self._make_module_from_path(filepath)\n",
      "  File \"D:\\Anaconda\\lib\\site-packages\\threadpoolctl.py\", line 515, in _make_module_from_path\n",
      "    module = module_class(filepath, prefix, user_api, internal_api)\n",
      "  File \"D:\\Anaconda\\lib\\site-packages\\threadpoolctl.py\", line 606, in __init__\n",
      "    self.version = self.get_version()\n",
      "  File \"D:\\Anaconda\\lib\\site-packages\\threadpoolctl.py\", line 646, in get_version\n",
      "    config = get_config().split()\n",
      "AttributeError: 'NoneType' object has no attribute 'split'\n",
      "\n",
      "  warnings.warn(\n"
     ]
    },
    {
     "name": "stderr",
     "output_type": "stream",
     "text": [
      "D:\\Anaconda\\lib\\site-packages\\sklearn\\model_selection\\_validation.py:776: UserWarning: Scoring failed. The score on this train-test partition for these parameters will be set to nan. Details: \n",
      "Traceback (most recent call last):\n",
      "  File \"D:\\Anaconda\\lib\\site-packages\\sklearn\\model_selection\\_validation.py\", line 767, in _score\n",
      "    scores = scorer(estimator, X_test, y_test)\n",
      "  File \"D:\\Anaconda\\lib\\site-packages\\sklearn\\metrics\\_scorer.py\", line 429, in _passthrough_scorer\n",
      "    return estimator.score(*args, **kwargs)\n",
      "  File \"D:\\Anaconda\\lib\\site-packages\\sklearn\\pipeline.py\", line 699, in score\n",
      "    return self.steps[-1][1].score(Xt, y, **score_params)\n",
      "  File \"D:\\Anaconda\\lib\\site-packages\\sklearn\\base.py\", line 666, in score\n",
      "    return accuracy_score(y, self.predict(X), sample_weight=sample_weight)\n",
      "  File \"D:\\Anaconda\\lib\\site-packages\\sklearn\\neighbors\\_classification.py\", line 219, in predict\n",
      "    neigh_ind = self.kneighbors(X, return_distance=False)\n",
      "  File \"D:\\Anaconda\\lib\\site-packages\\sklearn\\neighbors\\_base.py\", line 763, in kneighbors\n",
      "    results = PairwiseDistancesArgKmin.compute(\n",
      "  File \"sklearn\\metrics\\_pairwise_distances_reduction.pyx\", line 691, in sklearn.metrics._pairwise_distances_reduction.PairwiseDistancesArgKmin.compute\n",
      "  File \"D:\\Anaconda\\lib\\site-packages\\sklearn\\utils\\fixes.py\", line 151, in threadpool_limits\n",
      "    return threadpoolctl.threadpool_limits(limits=limits, user_api=user_api)\n",
      "  File \"D:\\Anaconda\\lib\\site-packages\\threadpoolctl.py\", line 171, in __init__\n",
      "    self._original_info = self._set_threadpool_limits()\n",
      "  File \"D:\\Anaconda\\lib\\site-packages\\threadpoolctl.py\", line 268, in _set_threadpool_limits\n",
      "    modules = _ThreadpoolInfo(prefixes=self._prefixes,\n",
      "  File \"D:\\Anaconda\\lib\\site-packages\\threadpoolctl.py\", line 340, in __init__\n",
      "    self._load_modules()\n",
      "  File \"D:\\Anaconda\\lib\\site-packages\\threadpoolctl.py\", line 373, in _load_modules\n",
      "    self._find_modules_with_enum_process_module_ex()\n",
      "  File \"D:\\Anaconda\\lib\\site-packages\\threadpoolctl.py\", line 485, in _find_modules_with_enum_process_module_ex\n",
      "    self._make_module_from_path(filepath)\n",
      "  File \"D:\\Anaconda\\lib\\site-packages\\threadpoolctl.py\", line 515, in _make_module_from_path\n",
      "    module = module_class(filepath, prefix, user_api, internal_api)\n",
      "  File \"D:\\Anaconda\\lib\\site-packages\\threadpoolctl.py\", line 606, in __init__\n",
      "    self.version = self.get_version()\n",
      "  File \"D:\\Anaconda\\lib\\site-packages\\threadpoolctl.py\", line 646, in get_version\n",
      "    config = get_config().split()\n",
      "AttributeError: 'NoneType' object has no attribute 'split'\n",
      "\n",
      "  warnings.warn(\n",
      "D:\\Anaconda\\lib\\site-packages\\sklearn\\model_selection\\_validation.py:776: UserWarning: Scoring failed. The score on this train-test partition for these parameters will be set to nan. Details: \n",
      "Traceback (most recent call last):\n",
      "  File \"D:\\Anaconda\\lib\\site-packages\\sklearn\\model_selection\\_validation.py\", line 767, in _score\n",
      "    scores = scorer(estimator, X_test, y_test)\n",
      "  File \"D:\\Anaconda\\lib\\site-packages\\sklearn\\metrics\\_scorer.py\", line 429, in _passthrough_scorer\n",
      "    return estimator.score(*args, **kwargs)\n",
      "  File \"D:\\Anaconda\\lib\\site-packages\\sklearn\\pipeline.py\", line 699, in score\n",
      "    return self.steps[-1][1].score(Xt, y, **score_params)\n",
      "  File \"D:\\Anaconda\\lib\\site-packages\\sklearn\\base.py\", line 666, in score\n",
      "    return accuracy_score(y, self.predict(X), sample_weight=sample_weight)\n",
      "  File \"D:\\Anaconda\\lib\\site-packages\\sklearn\\neighbors\\_classification.py\", line 219, in predict\n",
      "    neigh_ind = self.kneighbors(X, return_distance=False)\n",
      "  File \"D:\\Anaconda\\lib\\site-packages\\sklearn\\neighbors\\_base.py\", line 763, in kneighbors\n",
      "    results = PairwiseDistancesArgKmin.compute(\n",
      "  File \"sklearn\\metrics\\_pairwise_distances_reduction.pyx\", line 691, in sklearn.metrics._pairwise_distances_reduction.PairwiseDistancesArgKmin.compute\n",
      "  File \"D:\\Anaconda\\lib\\site-packages\\sklearn\\utils\\fixes.py\", line 151, in threadpool_limits\n",
      "    return threadpoolctl.threadpool_limits(limits=limits, user_api=user_api)\n",
      "  File \"D:\\Anaconda\\lib\\site-packages\\threadpoolctl.py\", line 171, in __init__\n",
      "    self._original_info = self._set_threadpool_limits()\n",
      "  File \"D:\\Anaconda\\lib\\site-packages\\threadpoolctl.py\", line 268, in _set_threadpool_limits\n",
      "    modules = _ThreadpoolInfo(prefixes=self._prefixes,\n",
      "  File \"D:\\Anaconda\\lib\\site-packages\\threadpoolctl.py\", line 340, in __init__\n",
      "    self._load_modules()\n",
      "  File \"D:\\Anaconda\\lib\\site-packages\\threadpoolctl.py\", line 373, in _load_modules\n",
      "    self._find_modules_with_enum_process_module_ex()\n",
      "  File \"D:\\Anaconda\\lib\\site-packages\\threadpoolctl.py\", line 485, in _find_modules_with_enum_process_module_ex\n",
      "    self._make_module_from_path(filepath)\n",
      "  File \"D:\\Anaconda\\lib\\site-packages\\threadpoolctl.py\", line 515, in _make_module_from_path\n",
      "    module = module_class(filepath, prefix, user_api, internal_api)\n",
      "  File \"D:\\Anaconda\\lib\\site-packages\\threadpoolctl.py\", line 606, in __init__\n",
      "    self.version = self.get_version()\n",
      "  File \"D:\\Anaconda\\lib\\site-packages\\threadpoolctl.py\", line 646, in get_version\n",
      "    config = get_config().split()\n",
      "AttributeError: 'NoneType' object has no attribute 'split'\n",
      "\n",
      "  warnings.warn(\n",
      "D:\\Anaconda\\lib\\site-packages\\sklearn\\model_selection\\_validation.py:776: UserWarning: Scoring failed. The score on this train-test partition for these parameters will be set to nan. Details: \n",
      "Traceback (most recent call last):\n",
      "  File \"D:\\Anaconda\\lib\\site-packages\\sklearn\\model_selection\\_validation.py\", line 767, in _score\n",
      "    scores = scorer(estimator, X_test, y_test)\n",
      "  File \"D:\\Anaconda\\lib\\site-packages\\sklearn\\metrics\\_scorer.py\", line 429, in _passthrough_scorer\n",
      "    return estimator.score(*args, **kwargs)\n",
      "  File \"D:\\Anaconda\\lib\\site-packages\\sklearn\\pipeline.py\", line 699, in score\n",
      "    return self.steps[-1][1].score(Xt, y, **score_params)\n",
      "  File \"D:\\Anaconda\\lib\\site-packages\\sklearn\\base.py\", line 666, in score\n",
      "    return accuracy_score(y, self.predict(X), sample_weight=sample_weight)\n",
      "  File \"D:\\Anaconda\\lib\\site-packages\\sklearn\\neighbors\\_classification.py\", line 219, in predict\n",
      "    neigh_ind = self.kneighbors(X, return_distance=False)\n",
      "  File \"D:\\Anaconda\\lib\\site-packages\\sklearn\\neighbors\\_base.py\", line 763, in kneighbors\n",
      "    results = PairwiseDistancesArgKmin.compute(\n",
      "  File \"sklearn\\metrics\\_pairwise_distances_reduction.pyx\", line 691, in sklearn.metrics._pairwise_distances_reduction.PairwiseDistancesArgKmin.compute\n",
      "  File \"D:\\Anaconda\\lib\\site-packages\\sklearn\\utils\\fixes.py\", line 151, in threadpool_limits\n",
      "    return threadpoolctl.threadpool_limits(limits=limits, user_api=user_api)\n",
      "  File \"D:\\Anaconda\\lib\\site-packages\\threadpoolctl.py\", line 171, in __init__\n",
      "    self._original_info = self._set_threadpool_limits()\n",
      "  File \"D:\\Anaconda\\lib\\site-packages\\threadpoolctl.py\", line 268, in _set_threadpool_limits\n",
      "    modules = _ThreadpoolInfo(prefixes=self._prefixes,\n",
      "  File \"D:\\Anaconda\\lib\\site-packages\\threadpoolctl.py\", line 340, in __init__\n",
      "    self._load_modules()\n",
      "  File \"D:\\Anaconda\\lib\\site-packages\\threadpoolctl.py\", line 373, in _load_modules\n",
      "    self._find_modules_with_enum_process_module_ex()\n",
      "  File \"D:\\Anaconda\\lib\\site-packages\\threadpoolctl.py\", line 485, in _find_modules_with_enum_process_module_ex\n",
      "    self._make_module_from_path(filepath)\n",
      "  File \"D:\\Anaconda\\lib\\site-packages\\threadpoolctl.py\", line 515, in _make_module_from_path\n",
      "    module = module_class(filepath, prefix, user_api, internal_api)\n",
      "  File \"D:\\Anaconda\\lib\\site-packages\\threadpoolctl.py\", line 606, in __init__\n",
      "    self.version = self.get_version()\n",
      "  File \"D:\\Anaconda\\lib\\site-packages\\threadpoolctl.py\", line 646, in get_version\n",
      "    config = get_config().split()\n",
      "AttributeError: 'NoneType' object has no attribute 'split'\n",
      "\n",
      "  warnings.warn(\n",
      "D:\\Anaconda\\lib\\site-packages\\sklearn\\model_selection\\_validation.py:776: UserWarning: Scoring failed. The score on this train-test partition for these parameters will be set to nan. Details: \n",
      "Traceback (most recent call last):\n",
      "  File \"D:\\Anaconda\\lib\\site-packages\\sklearn\\model_selection\\_validation.py\", line 767, in _score\n",
      "    scores = scorer(estimator, X_test, y_test)\n",
      "  File \"D:\\Anaconda\\lib\\site-packages\\sklearn\\metrics\\_scorer.py\", line 429, in _passthrough_scorer\n",
      "    return estimator.score(*args, **kwargs)\n",
      "  File \"D:\\Anaconda\\lib\\site-packages\\sklearn\\pipeline.py\", line 699, in score\n",
      "    return self.steps[-1][1].score(Xt, y, **score_params)\n",
      "  File \"D:\\Anaconda\\lib\\site-packages\\sklearn\\base.py\", line 666, in score\n",
      "    return accuracy_score(y, self.predict(X), sample_weight=sample_weight)\n",
      "  File \"D:\\Anaconda\\lib\\site-packages\\sklearn\\neighbors\\_classification.py\", line 219, in predict\n",
      "    neigh_ind = self.kneighbors(X, return_distance=False)\n",
      "  File \"D:\\Anaconda\\lib\\site-packages\\sklearn\\neighbors\\_base.py\", line 763, in kneighbors\n",
      "    results = PairwiseDistancesArgKmin.compute(\n",
      "  File \"sklearn\\metrics\\_pairwise_distances_reduction.pyx\", line 691, in sklearn.metrics._pairwise_distances_reduction.PairwiseDistancesArgKmin.compute\n",
      "  File \"D:\\Anaconda\\lib\\site-packages\\sklearn\\utils\\fixes.py\", line 151, in threadpool_limits\n",
      "    return threadpoolctl.threadpool_limits(limits=limits, user_api=user_api)\n",
      "  File \"D:\\Anaconda\\lib\\site-packages\\threadpoolctl.py\", line 171, in __init__\n",
      "    self._original_info = self._set_threadpool_limits()\n",
      "  File \"D:\\Anaconda\\lib\\site-packages\\threadpoolctl.py\", line 268, in _set_threadpool_limits\n",
      "    modules = _ThreadpoolInfo(prefixes=self._prefixes,\n",
      "  File \"D:\\Anaconda\\lib\\site-packages\\threadpoolctl.py\", line 340, in __init__\n",
      "    self._load_modules()\n",
      "  File \"D:\\Anaconda\\lib\\site-packages\\threadpoolctl.py\", line 373, in _load_modules\n",
      "    self._find_modules_with_enum_process_module_ex()\n",
      "  File \"D:\\Anaconda\\lib\\site-packages\\threadpoolctl.py\", line 485, in _find_modules_with_enum_process_module_ex\n",
      "    self._make_module_from_path(filepath)\n",
      "  File \"D:\\Anaconda\\lib\\site-packages\\threadpoolctl.py\", line 515, in _make_module_from_path\n",
      "    module = module_class(filepath, prefix, user_api, internal_api)\n",
      "  File \"D:\\Anaconda\\lib\\site-packages\\threadpoolctl.py\", line 606, in __init__\n",
      "    self.version = self.get_version()\n",
      "  File \"D:\\Anaconda\\lib\\site-packages\\threadpoolctl.py\", line 646, in get_version\n",
      "    config = get_config().split()\n",
      "AttributeError: 'NoneType' object has no attribute 'split'\n",
      "\n",
      "  warnings.warn(\n"
     ]
    },
    {
     "name": "stderr",
     "output_type": "stream",
     "text": [
      "D:\\Anaconda\\lib\\site-packages\\sklearn\\model_selection\\_validation.py:776: UserWarning: Scoring failed. The score on this train-test partition for these parameters will be set to nan. Details: \n",
      "Traceback (most recent call last):\n",
      "  File \"D:\\Anaconda\\lib\\site-packages\\sklearn\\model_selection\\_validation.py\", line 767, in _score\n",
      "    scores = scorer(estimator, X_test, y_test)\n",
      "  File \"D:\\Anaconda\\lib\\site-packages\\sklearn\\metrics\\_scorer.py\", line 429, in _passthrough_scorer\n",
      "    return estimator.score(*args, **kwargs)\n",
      "  File \"D:\\Anaconda\\lib\\site-packages\\sklearn\\pipeline.py\", line 699, in score\n",
      "    return self.steps[-1][1].score(Xt, y, **score_params)\n",
      "  File \"D:\\Anaconda\\lib\\site-packages\\sklearn\\base.py\", line 666, in score\n",
      "    return accuracy_score(y, self.predict(X), sample_weight=sample_weight)\n",
      "  File \"D:\\Anaconda\\lib\\site-packages\\sklearn\\neighbors\\_classification.py\", line 219, in predict\n",
      "    neigh_ind = self.kneighbors(X, return_distance=False)\n",
      "  File \"D:\\Anaconda\\lib\\site-packages\\sklearn\\neighbors\\_base.py\", line 763, in kneighbors\n",
      "    results = PairwiseDistancesArgKmin.compute(\n",
      "  File \"sklearn\\metrics\\_pairwise_distances_reduction.pyx\", line 691, in sklearn.metrics._pairwise_distances_reduction.PairwiseDistancesArgKmin.compute\n",
      "  File \"D:\\Anaconda\\lib\\site-packages\\sklearn\\utils\\fixes.py\", line 151, in threadpool_limits\n",
      "    return threadpoolctl.threadpool_limits(limits=limits, user_api=user_api)\n",
      "  File \"D:\\Anaconda\\lib\\site-packages\\threadpoolctl.py\", line 171, in __init__\n",
      "    self._original_info = self._set_threadpool_limits()\n",
      "  File \"D:\\Anaconda\\lib\\site-packages\\threadpoolctl.py\", line 268, in _set_threadpool_limits\n",
      "    modules = _ThreadpoolInfo(prefixes=self._prefixes,\n",
      "  File \"D:\\Anaconda\\lib\\site-packages\\threadpoolctl.py\", line 340, in __init__\n",
      "    self._load_modules()\n",
      "  File \"D:\\Anaconda\\lib\\site-packages\\threadpoolctl.py\", line 373, in _load_modules\n",
      "    self._find_modules_with_enum_process_module_ex()\n",
      "  File \"D:\\Anaconda\\lib\\site-packages\\threadpoolctl.py\", line 485, in _find_modules_with_enum_process_module_ex\n",
      "    self._make_module_from_path(filepath)\n",
      "  File \"D:\\Anaconda\\lib\\site-packages\\threadpoolctl.py\", line 515, in _make_module_from_path\n",
      "    module = module_class(filepath, prefix, user_api, internal_api)\n",
      "  File \"D:\\Anaconda\\lib\\site-packages\\threadpoolctl.py\", line 606, in __init__\n",
      "    self.version = self.get_version()\n",
      "  File \"D:\\Anaconda\\lib\\site-packages\\threadpoolctl.py\", line 646, in get_version\n",
      "    config = get_config().split()\n",
      "AttributeError: 'NoneType' object has no attribute 'split'\n",
      "\n",
      "  warnings.warn(\n",
      "D:\\Anaconda\\lib\\site-packages\\sklearn\\model_selection\\_validation.py:776: UserWarning: Scoring failed. The score on this train-test partition for these parameters will be set to nan. Details: \n",
      "Traceback (most recent call last):\n",
      "  File \"D:\\Anaconda\\lib\\site-packages\\sklearn\\model_selection\\_validation.py\", line 767, in _score\n",
      "    scores = scorer(estimator, X_test, y_test)\n",
      "  File \"D:\\Anaconda\\lib\\site-packages\\sklearn\\metrics\\_scorer.py\", line 429, in _passthrough_scorer\n",
      "    return estimator.score(*args, **kwargs)\n",
      "  File \"D:\\Anaconda\\lib\\site-packages\\sklearn\\pipeline.py\", line 699, in score\n",
      "    return self.steps[-1][1].score(Xt, y, **score_params)\n",
      "  File \"D:\\Anaconda\\lib\\site-packages\\sklearn\\base.py\", line 666, in score\n",
      "    return accuracy_score(y, self.predict(X), sample_weight=sample_weight)\n",
      "  File \"D:\\Anaconda\\lib\\site-packages\\sklearn\\neighbors\\_classification.py\", line 219, in predict\n",
      "    neigh_ind = self.kneighbors(X, return_distance=False)\n",
      "  File \"D:\\Anaconda\\lib\\site-packages\\sklearn\\neighbors\\_base.py\", line 763, in kneighbors\n",
      "    results = PairwiseDistancesArgKmin.compute(\n",
      "  File \"sklearn\\metrics\\_pairwise_distances_reduction.pyx\", line 691, in sklearn.metrics._pairwise_distances_reduction.PairwiseDistancesArgKmin.compute\n",
      "  File \"D:\\Anaconda\\lib\\site-packages\\sklearn\\utils\\fixes.py\", line 151, in threadpool_limits\n",
      "    return threadpoolctl.threadpool_limits(limits=limits, user_api=user_api)\n",
      "  File \"D:\\Anaconda\\lib\\site-packages\\threadpoolctl.py\", line 171, in __init__\n",
      "    self._original_info = self._set_threadpool_limits()\n",
      "  File \"D:\\Anaconda\\lib\\site-packages\\threadpoolctl.py\", line 268, in _set_threadpool_limits\n",
      "    modules = _ThreadpoolInfo(prefixes=self._prefixes,\n",
      "  File \"D:\\Anaconda\\lib\\site-packages\\threadpoolctl.py\", line 340, in __init__\n",
      "    self._load_modules()\n",
      "  File \"D:\\Anaconda\\lib\\site-packages\\threadpoolctl.py\", line 373, in _load_modules\n",
      "    self._find_modules_with_enum_process_module_ex()\n",
      "  File \"D:\\Anaconda\\lib\\site-packages\\threadpoolctl.py\", line 485, in _find_modules_with_enum_process_module_ex\n",
      "    self._make_module_from_path(filepath)\n",
      "  File \"D:\\Anaconda\\lib\\site-packages\\threadpoolctl.py\", line 515, in _make_module_from_path\n",
      "    module = module_class(filepath, prefix, user_api, internal_api)\n",
      "  File \"D:\\Anaconda\\lib\\site-packages\\threadpoolctl.py\", line 606, in __init__\n",
      "    self.version = self.get_version()\n",
      "  File \"D:\\Anaconda\\lib\\site-packages\\threadpoolctl.py\", line 646, in get_version\n",
      "    config = get_config().split()\n",
      "AttributeError: 'NoneType' object has no attribute 'split'\n",
      "\n",
      "  warnings.warn(\n",
      "D:\\Anaconda\\lib\\site-packages\\sklearn\\model_selection\\_validation.py:776: UserWarning: Scoring failed. The score on this train-test partition for these parameters will be set to nan. Details: \n",
      "Traceback (most recent call last):\n",
      "  File \"D:\\Anaconda\\lib\\site-packages\\sklearn\\model_selection\\_validation.py\", line 767, in _score\n",
      "    scores = scorer(estimator, X_test, y_test)\n",
      "  File \"D:\\Anaconda\\lib\\site-packages\\sklearn\\metrics\\_scorer.py\", line 429, in _passthrough_scorer\n",
      "    return estimator.score(*args, **kwargs)\n",
      "  File \"D:\\Anaconda\\lib\\site-packages\\sklearn\\pipeline.py\", line 699, in score\n",
      "    return self.steps[-1][1].score(Xt, y, **score_params)\n",
      "  File \"D:\\Anaconda\\lib\\site-packages\\sklearn\\base.py\", line 666, in score\n",
      "    return accuracy_score(y, self.predict(X), sample_weight=sample_weight)\n",
      "  File \"D:\\Anaconda\\lib\\site-packages\\sklearn\\neighbors\\_classification.py\", line 219, in predict\n",
      "    neigh_ind = self.kneighbors(X, return_distance=False)\n",
      "  File \"D:\\Anaconda\\lib\\site-packages\\sklearn\\neighbors\\_base.py\", line 763, in kneighbors\n",
      "    results = PairwiseDistancesArgKmin.compute(\n",
      "  File \"sklearn\\metrics\\_pairwise_distances_reduction.pyx\", line 691, in sklearn.metrics._pairwise_distances_reduction.PairwiseDistancesArgKmin.compute\n",
      "  File \"D:\\Anaconda\\lib\\site-packages\\sklearn\\utils\\fixes.py\", line 151, in threadpool_limits\n",
      "    return threadpoolctl.threadpool_limits(limits=limits, user_api=user_api)\n",
      "  File \"D:\\Anaconda\\lib\\site-packages\\threadpoolctl.py\", line 171, in __init__\n",
      "    self._original_info = self._set_threadpool_limits()\n",
      "  File \"D:\\Anaconda\\lib\\site-packages\\threadpoolctl.py\", line 268, in _set_threadpool_limits\n",
      "    modules = _ThreadpoolInfo(prefixes=self._prefixes,\n",
      "  File \"D:\\Anaconda\\lib\\site-packages\\threadpoolctl.py\", line 340, in __init__\n",
      "    self._load_modules()\n",
      "  File \"D:\\Anaconda\\lib\\site-packages\\threadpoolctl.py\", line 373, in _load_modules\n",
      "    self._find_modules_with_enum_process_module_ex()\n",
      "  File \"D:\\Anaconda\\lib\\site-packages\\threadpoolctl.py\", line 485, in _find_modules_with_enum_process_module_ex\n",
      "    self._make_module_from_path(filepath)\n",
      "  File \"D:\\Anaconda\\lib\\site-packages\\threadpoolctl.py\", line 515, in _make_module_from_path\n",
      "    module = module_class(filepath, prefix, user_api, internal_api)\n",
      "  File \"D:\\Anaconda\\lib\\site-packages\\threadpoolctl.py\", line 606, in __init__\n",
      "    self.version = self.get_version()\n",
      "  File \"D:\\Anaconda\\lib\\site-packages\\threadpoolctl.py\", line 646, in get_version\n",
      "    config = get_config().split()\n",
      "AttributeError: 'NoneType' object has no attribute 'split'\n",
      "\n",
      "  warnings.warn(\n",
      "D:\\Anaconda\\lib\\site-packages\\sklearn\\model_selection\\_validation.py:776: UserWarning: Scoring failed. The score on this train-test partition for these parameters will be set to nan. Details: \n",
      "Traceback (most recent call last):\n",
      "  File \"D:\\Anaconda\\lib\\site-packages\\sklearn\\model_selection\\_validation.py\", line 767, in _score\n",
      "    scores = scorer(estimator, X_test, y_test)\n",
      "  File \"D:\\Anaconda\\lib\\site-packages\\sklearn\\metrics\\_scorer.py\", line 429, in _passthrough_scorer\n",
      "    return estimator.score(*args, **kwargs)\n",
      "  File \"D:\\Anaconda\\lib\\site-packages\\sklearn\\pipeline.py\", line 699, in score\n",
      "    return self.steps[-1][1].score(Xt, y, **score_params)\n",
      "  File \"D:\\Anaconda\\lib\\site-packages\\sklearn\\base.py\", line 666, in score\n",
      "    return accuracy_score(y, self.predict(X), sample_weight=sample_weight)\n",
      "  File \"D:\\Anaconda\\lib\\site-packages\\sklearn\\neighbors\\_classification.py\", line 219, in predict\n",
      "    neigh_ind = self.kneighbors(X, return_distance=False)\n",
      "  File \"D:\\Anaconda\\lib\\site-packages\\sklearn\\neighbors\\_base.py\", line 763, in kneighbors\n",
      "    results = PairwiseDistancesArgKmin.compute(\n",
      "  File \"sklearn\\metrics\\_pairwise_distances_reduction.pyx\", line 691, in sklearn.metrics._pairwise_distances_reduction.PairwiseDistancesArgKmin.compute\n",
      "  File \"D:\\Anaconda\\lib\\site-packages\\sklearn\\utils\\fixes.py\", line 151, in threadpool_limits\n",
      "    return threadpoolctl.threadpool_limits(limits=limits, user_api=user_api)\n",
      "  File \"D:\\Anaconda\\lib\\site-packages\\threadpoolctl.py\", line 171, in __init__\n",
      "    self._original_info = self._set_threadpool_limits()\n",
      "  File \"D:\\Anaconda\\lib\\site-packages\\threadpoolctl.py\", line 268, in _set_threadpool_limits\n",
      "    modules = _ThreadpoolInfo(prefixes=self._prefixes,\n",
      "  File \"D:\\Anaconda\\lib\\site-packages\\threadpoolctl.py\", line 340, in __init__\n",
      "    self._load_modules()\n",
      "  File \"D:\\Anaconda\\lib\\site-packages\\threadpoolctl.py\", line 373, in _load_modules\n",
      "    self._find_modules_with_enum_process_module_ex()\n",
      "  File \"D:\\Anaconda\\lib\\site-packages\\threadpoolctl.py\", line 485, in _find_modules_with_enum_process_module_ex\n",
      "    self._make_module_from_path(filepath)\n",
      "  File \"D:\\Anaconda\\lib\\site-packages\\threadpoolctl.py\", line 515, in _make_module_from_path\n",
      "    module = module_class(filepath, prefix, user_api, internal_api)\n",
      "  File \"D:\\Anaconda\\lib\\site-packages\\threadpoolctl.py\", line 606, in __init__\n",
      "    self.version = self.get_version()\n",
      "  File \"D:\\Anaconda\\lib\\site-packages\\threadpoolctl.py\", line 646, in get_version\n",
      "    config = get_config().split()\n",
      "AttributeError: 'NoneType' object has no attribute 'split'\n",
      "\n",
      "  warnings.warn(\n",
      "D:\\Anaconda\\lib\\site-packages\\sklearn\\model_selection\\_validation.py:776: UserWarning: Scoring failed. The score on this train-test partition for these parameters will be set to nan. Details: \n",
      "Traceback (most recent call last):\n",
      "  File \"D:\\Anaconda\\lib\\site-packages\\sklearn\\model_selection\\_validation.py\", line 767, in _score\n",
      "    scores = scorer(estimator, X_test, y_test)\n",
      "  File \"D:\\Anaconda\\lib\\site-packages\\sklearn\\metrics\\_scorer.py\", line 429, in _passthrough_scorer\n",
      "    return estimator.score(*args, **kwargs)\n",
      "  File \"D:\\Anaconda\\lib\\site-packages\\sklearn\\pipeline.py\", line 699, in score\n",
      "    return self.steps[-1][1].score(Xt, y, **score_params)\n",
      "  File \"D:\\Anaconda\\lib\\site-packages\\sklearn\\base.py\", line 666, in score\n",
      "    return accuracy_score(y, self.predict(X), sample_weight=sample_weight)\n",
      "  File \"D:\\Anaconda\\lib\\site-packages\\sklearn\\neighbors\\_classification.py\", line 219, in predict\n",
      "    neigh_ind = self.kneighbors(X, return_distance=False)\n",
      "  File \"D:\\Anaconda\\lib\\site-packages\\sklearn\\neighbors\\_base.py\", line 763, in kneighbors\n",
      "    results = PairwiseDistancesArgKmin.compute(\n",
      "  File \"sklearn\\metrics\\_pairwise_distances_reduction.pyx\", line 691, in sklearn.metrics._pairwise_distances_reduction.PairwiseDistancesArgKmin.compute\n",
      "  File \"D:\\Anaconda\\lib\\site-packages\\sklearn\\utils\\fixes.py\", line 151, in threadpool_limits\n",
      "    return threadpoolctl.threadpool_limits(limits=limits, user_api=user_api)\n",
      "  File \"D:\\Anaconda\\lib\\site-packages\\threadpoolctl.py\", line 171, in __init__\n",
      "    self._original_info = self._set_threadpool_limits()\n",
      "  File \"D:\\Anaconda\\lib\\site-packages\\threadpoolctl.py\", line 268, in _set_threadpool_limits\n",
      "    modules = _ThreadpoolInfo(prefixes=self._prefixes,\n",
      "  File \"D:\\Anaconda\\lib\\site-packages\\threadpoolctl.py\", line 340, in __init__\n",
      "    self._load_modules()\n",
      "  File \"D:\\Anaconda\\lib\\site-packages\\threadpoolctl.py\", line 373, in _load_modules\n",
      "    self._find_modules_with_enum_process_module_ex()\n",
      "  File \"D:\\Anaconda\\lib\\site-packages\\threadpoolctl.py\", line 485, in _find_modules_with_enum_process_module_ex\n",
      "    self._make_module_from_path(filepath)\n",
      "  File \"D:\\Anaconda\\lib\\site-packages\\threadpoolctl.py\", line 515, in _make_module_from_path\n",
      "    module = module_class(filepath, prefix, user_api, internal_api)\n",
      "  File \"D:\\Anaconda\\lib\\site-packages\\threadpoolctl.py\", line 606, in __init__\n",
      "    self.version = self.get_version()\n",
      "  File \"D:\\Anaconda\\lib\\site-packages\\threadpoolctl.py\", line 646, in get_version\n",
      "    config = get_config().split()\n",
      "AttributeError: 'NoneType' object has no attribute 'split'\n",
      "\n",
      "  warnings.warn(\n"
     ]
    },
    {
     "name": "stderr",
     "output_type": "stream",
     "text": [
      "D:\\Anaconda\\lib\\site-packages\\sklearn\\model_selection\\_validation.py:776: UserWarning: Scoring failed. The score on this train-test partition for these parameters will be set to nan. Details: \n",
      "Traceback (most recent call last):\n",
      "  File \"D:\\Anaconda\\lib\\site-packages\\sklearn\\model_selection\\_validation.py\", line 767, in _score\n",
      "    scores = scorer(estimator, X_test, y_test)\n",
      "  File \"D:\\Anaconda\\lib\\site-packages\\sklearn\\metrics\\_scorer.py\", line 429, in _passthrough_scorer\n",
      "    return estimator.score(*args, **kwargs)\n",
      "  File \"D:\\Anaconda\\lib\\site-packages\\sklearn\\pipeline.py\", line 699, in score\n",
      "    return self.steps[-1][1].score(Xt, y, **score_params)\n",
      "  File \"D:\\Anaconda\\lib\\site-packages\\sklearn\\base.py\", line 666, in score\n",
      "    return accuracy_score(y, self.predict(X), sample_weight=sample_weight)\n",
      "  File \"D:\\Anaconda\\lib\\site-packages\\sklearn\\neighbors\\_classification.py\", line 219, in predict\n",
      "    neigh_ind = self.kneighbors(X, return_distance=False)\n",
      "  File \"D:\\Anaconda\\lib\\site-packages\\sklearn\\neighbors\\_base.py\", line 763, in kneighbors\n",
      "    results = PairwiseDistancesArgKmin.compute(\n",
      "  File \"sklearn\\metrics\\_pairwise_distances_reduction.pyx\", line 691, in sklearn.metrics._pairwise_distances_reduction.PairwiseDistancesArgKmin.compute\n",
      "  File \"D:\\Anaconda\\lib\\site-packages\\sklearn\\utils\\fixes.py\", line 151, in threadpool_limits\n",
      "    return threadpoolctl.threadpool_limits(limits=limits, user_api=user_api)\n",
      "  File \"D:\\Anaconda\\lib\\site-packages\\threadpoolctl.py\", line 171, in __init__\n",
      "    self._original_info = self._set_threadpool_limits()\n",
      "  File \"D:\\Anaconda\\lib\\site-packages\\threadpoolctl.py\", line 268, in _set_threadpool_limits\n",
      "    modules = _ThreadpoolInfo(prefixes=self._prefixes,\n",
      "  File \"D:\\Anaconda\\lib\\site-packages\\threadpoolctl.py\", line 340, in __init__\n",
      "    self._load_modules()\n",
      "  File \"D:\\Anaconda\\lib\\site-packages\\threadpoolctl.py\", line 373, in _load_modules\n",
      "    self._find_modules_with_enum_process_module_ex()\n",
      "  File \"D:\\Anaconda\\lib\\site-packages\\threadpoolctl.py\", line 485, in _find_modules_with_enum_process_module_ex\n",
      "    self._make_module_from_path(filepath)\n",
      "  File \"D:\\Anaconda\\lib\\site-packages\\threadpoolctl.py\", line 515, in _make_module_from_path\n",
      "    module = module_class(filepath, prefix, user_api, internal_api)\n",
      "  File \"D:\\Anaconda\\lib\\site-packages\\threadpoolctl.py\", line 606, in __init__\n",
      "    self.version = self.get_version()\n",
      "  File \"D:\\Anaconda\\lib\\site-packages\\threadpoolctl.py\", line 646, in get_version\n",
      "    config = get_config().split()\n",
      "AttributeError: 'NoneType' object has no attribute 'split'\n",
      "\n",
      "  warnings.warn(\n",
      "D:\\Anaconda\\lib\\site-packages\\sklearn\\model_selection\\_search.py:953: UserWarning: One or more of the test scores are non-finite: [0.71842662 0.71842662 0.72411269 0.72232196 0.69170047        nan\n",
      " 0.71702981 0.71702981 0.72151588 0.72107283 0.68761442        nan\n",
      " 0.735768   0.735768   0.73952177 0.73931255 0.70092494        nan\n",
      " 0.73282041 0.73282041 0.73626032 0.73647572 0.69484501        nan]\n",
      "  warnings.warn(\n"
     ]
    },
    {
     "data": {
      "text/html": [
       "<style>#sk-container-id-7 {color: black;background-color: white;}#sk-container-id-7 pre{padding: 0;}#sk-container-id-7 div.sk-toggleable {background-color: white;}#sk-container-id-7 label.sk-toggleable__label {cursor: pointer;display: block;width: 100%;margin-bottom: 0;padding: 0.3em;box-sizing: border-box;text-align: center;}#sk-container-id-7 label.sk-toggleable__label-arrow:before {content: \"▸\";float: left;margin-right: 0.25em;color: #696969;}#sk-container-id-7 label.sk-toggleable__label-arrow:hover:before {color: black;}#sk-container-id-7 div.sk-estimator:hover label.sk-toggleable__label-arrow:before {color: black;}#sk-container-id-7 div.sk-toggleable__content {max-height: 0;max-width: 0;overflow: hidden;text-align: left;background-color: #f0f8ff;}#sk-container-id-7 div.sk-toggleable__content pre {margin: 0.2em;color: black;border-radius: 0.25em;background-color: #f0f8ff;}#sk-container-id-7 input.sk-toggleable__control:checked~div.sk-toggleable__content {max-height: 200px;max-width: 100%;overflow: auto;}#sk-container-id-7 input.sk-toggleable__control:checked~label.sk-toggleable__label-arrow:before {content: \"▾\";}#sk-container-id-7 div.sk-estimator input.sk-toggleable__control:checked~label.sk-toggleable__label {background-color: #d4ebff;}#sk-container-id-7 div.sk-label input.sk-toggleable__control:checked~label.sk-toggleable__label {background-color: #d4ebff;}#sk-container-id-7 input.sk-hidden--visually {border: 0;clip: rect(1px 1px 1px 1px);clip: rect(1px, 1px, 1px, 1px);height: 1px;margin: -1px;overflow: hidden;padding: 0;position: absolute;width: 1px;}#sk-container-id-7 div.sk-estimator {font-family: monospace;background-color: #f0f8ff;border: 1px dotted black;border-radius: 0.25em;box-sizing: border-box;margin-bottom: 0.5em;}#sk-container-id-7 div.sk-estimator:hover {background-color: #d4ebff;}#sk-container-id-7 div.sk-parallel-item::after {content: \"\";width: 100%;border-bottom: 1px solid gray;flex-grow: 1;}#sk-container-id-7 div.sk-label:hover label.sk-toggleable__label {background-color: #d4ebff;}#sk-container-id-7 div.sk-serial::before {content: \"\";position: absolute;border-left: 1px solid gray;box-sizing: border-box;top: 0;bottom: 0;left: 50%;z-index: 0;}#sk-container-id-7 div.sk-serial {display: flex;flex-direction: column;align-items: center;background-color: white;padding-right: 0.2em;padding-left: 0.2em;position: relative;}#sk-container-id-7 div.sk-item {position: relative;z-index: 1;}#sk-container-id-7 div.sk-parallel {display: flex;align-items: stretch;justify-content: center;background-color: white;position: relative;}#sk-container-id-7 div.sk-item::before, #sk-container-id-7 div.sk-parallel-item::before {content: \"\";position: absolute;border-left: 1px solid gray;box-sizing: border-box;top: 0;bottom: 0;left: 50%;z-index: -1;}#sk-container-id-7 div.sk-parallel-item {display: flex;flex-direction: column;z-index: 1;position: relative;background-color: white;}#sk-container-id-7 div.sk-parallel-item:first-child::after {align-self: flex-end;width: 50%;}#sk-container-id-7 div.sk-parallel-item:last-child::after {align-self: flex-start;width: 50%;}#sk-container-id-7 div.sk-parallel-item:only-child::after {width: 0;}#sk-container-id-7 div.sk-dashed-wrapped {border: 1px dashed gray;margin: 0 0.4em 0.5em 0.4em;box-sizing: border-box;padding-bottom: 0.4em;background-color: white;}#sk-container-id-7 div.sk-label label {font-family: monospace;font-weight: bold;display: inline-block;line-height: 1.2em;}#sk-container-id-7 div.sk-label-container {text-align: center;}#sk-container-id-7 div.sk-container {/* jupyter's `normalize.less` sets `[hidden] { display: none; }` but bootstrap.min.css set `[hidden] { display: none !important; }` so we also need the `!important` here to be able to override the default hidden behavior on the sphinx rendered scikit-learn.org. See: https://github.com/scikit-learn/scikit-learn/issues/21755 */display: inline-block !important;position: relative;}#sk-container-id-7 div.sk-text-repr-fallback {display: none;}</style><div id=\"sk-container-id-7\" class=\"sk-top-container\"><div class=\"sk-text-repr-fallback\"><pre>GridSearchCV(estimator=Pipeline(steps=[(&#x27;poly_features&#x27;,\n",
       "                                        PolynomialFeatures(include_bias=False,\n",
       "                                                           interaction_only=True)),\n",
       "                                       (&#x27;classify&#x27;, KNeighborsClassifier())]),\n",
       "             param_grid={&#x27;classify__n_neighbors&#x27;: [3, 4, 5, 6],\n",
       "                         &#x27;poly_features__degree&#x27;: [1, 2, 3],\n",
       "                         &#x27;poly_features__interaction_only&#x27;: [True, False]})</pre><b>In a Jupyter environment, please rerun this cell to show the HTML representation or trust the notebook. <br />On GitHub, the HTML representation is unable to render, please try loading this page with nbviewer.org.</b></div><div class=\"sk-container\" hidden><div class=\"sk-item sk-dashed-wrapped\"><div class=\"sk-label-container\"><div class=\"sk-label sk-toggleable\"><input class=\"sk-toggleable__control sk-hidden--visually\" id=\"sk-estimator-id-23\" type=\"checkbox\" ><label for=\"sk-estimator-id-23\" class=\"sk-toggleable__label sk-toggleable__label-arrow\">GridSearchCV</label><div class=\"sk-toggleable__content\"><pre>GridSearchCV(estimator=Pipeline(steps=[(&#x27;poly_features&#x27;,\n",
       "                                        PolynomialFeatures(include_bias=False,\n",
       "                                                           interaction_only=True)),\n",
       "                                       (&#x27;classify&#x27;, KNeighborsClassifier())]),\n",
       "             param_grid={&#x27;classify__n_neighbors&#x27;: [3, 4, 5, 6],\n",
       "                         &#x27;poly_features__degree&#x27;: [1, 2, 3],\n",
       "                         &#x27;poly_features__interaction_only&#x27;: [True, False]})</pre></div></div></div><div class=\"sk-parallel\"><div class=\"sk-parallel-item\"><div class=\"sk-item\"><div class=\"sk-label-container\"><div class=\"sk-label sk-toggleable\"><input class=\"sk-toggleable__control sk-hidden--visually\" id=\"sk-estimator-id-24\" type=\"checkbox\" ><label for=\"sk-estimator-id-24\" class=\"sk-toggleable__label sk-toggleable__label-arrow\">estimator: Pipeline</label><div class=\"sk-toggleable__content\"><pre>Pipeline(steps=[(&#x27;poly_features&#x27;,\n",
       "                 PolynomialFeatures(include_bias=False, interaction_only=True)),\n",
       "                (&#x27;classify&#x27;, KNeighborsClassifier())])</pre></div></div></div><div class=\"sk-serial\"><div class=\"sk-item\"><div class=\"sk-serial\"><div class=\"sk-item\"><div class=\"sk-estimator sk-toggleable\"><input class=\"sk-toggleable__control sk-hidden--visually\" id=\"sk-estimator-id-25\" type=\"checkbox\" ><label for=\"sk-estimator-id-25\" class=\"sk-toggleable__label sk-toggleable__label-arrow\">PolynomialFeatures</label><div class=\"sk-toggleable__content\"><pre>PolynomialFeatures(include_bias=False, interaction_only=True)</pre></div></div></div><div class=\"sk-item\"><div class=\"sk-estimator sk-toggleable\"><input class=\"sk-toggleable__control sk-hidden--visually\" id=\"sk-estimator-id-26\" type=\"checkbox\" ><label for=\"sk-estimator-id-26\" class=\"sk-toggleable__label sk-toggleable__label-arrow\">KNeighborsClassifier</label><div class=\"sk-toggleable__content\"><pre>KNeighborsClassifier()</pre></div></div></div></div></div></div></div></div></div></div></div></div>"
      ],
      "text/plain": [
       "GridSearchCV(estimator=Pipeline(steps=[('poly_features',\n",
       "                                        PolynomialFeatures(include_bias=False,\n",
       "                                                           interaction_only=True)),\n",
       "                                       ('classify', KNeighborsClassifier())]),\n",
       "             param_grid={'classify__n_neighbors': [3, 4, 5, 6],\n",
       "                         'poly_features__degree': [1, 2, 3],\n",
       "                         'poly_features__interaction_only': [True, False]})"
      ]
     },
     "execution_count": 89,
     "metadata": {},
     "output_type": "execute_result"
    }
   ],
   "source": [
    "pipe = Pipeline([('poly_features', poly), ('classify', knn)])\n",
    "grid = GridSearchCV(pipe, pipe_params)\n",
    "grid.fit(X, y)"
   ]
  },
  {
   "cell_type": "code",
   "execution_count": 90,
   "id": "37f0315c",
   "metadata": {
    "ExecuteTime": {
     "end_time": "2022-09-12T14:31:05.236630Z",
     "start_time": "2022-09-12T14:31:05.228252Z"
    }
   },
   "outputs": [
    {
     "name": "stdout",
     "output_type": "stream",
     "text": [
      "0.7395217705490719 {'classify__n_neighbors': 5, 'poly_features__degree': 2, 'poly_features__interaction_only': True}\n"
     ]
    }
   ],
   "source": [
    "print(grid.best_score_, grid.best_params_)"
   ]
  },
  {
   "cell_type": "markdown",
   "id": "cc2c5833",
   "metadata": {},
   "source": [
    "# Text-specific feature construction"
   ]
  },
  {
   "cell_type": "code",
   "execution_count": 95,
   "id": "c40eb2a6",
   "metadata": {
    "ExecuteTime": {
     "end_time": "2022-09-12T14:57:11.249135Z",
     "start_time": "2022-09-12T14:57:11.120950Z"
    }
   },
   "outputs": [],
   "source": [
    "tweets = pd.read_csv('twitter_sentiment.csv', encoding='latin1')\n",
    "tweets.head()\n",
    "del tweets['ItemID']"
   ]
  },
  {
   "cell_type": "code",
   "execution_count": 96,
   "id": "fdaf8e26",
   "metadata": {
    "ExecuteTime": {
     "end_time": "2022-09-12T14:57:32.997041Z",
     "start_time": "2022-09-12T14:57:32.983842Z"
    }
   },
   "outputs": [],
   "source": [
    "from sklearn.feature_extraction.text import CountVectorizer"
   ]
  },
  {
   "cell_type": "code",
   "execution_count": 97,
   "id": "2583a20b",
   "metadata": {
    "ExecuteTime": {
     "end_time": "2022-09-12T14:58:01.986433Z",
     "start_time": "2022-09-12T14:58:01.970390Z"
    }
   },
   "outputs": [],
   "source": [
    "X = tweets['SentimentText']\n",
    "y = tweets['Sentiment']"
   ]
  },
  {
   "cell_type": "code",
   "execution_count": null,
   "id": "ffd86448",
   "metadata": {},
   "outputs": [],
   "source": []
  }
 ],
 "metadata": {
  "kernelspec": {
   "display_name": "Python 3 (ipykernel)",
   "language": "python",
   "name": "python3"
  },
  "language_info": {
   "codemirror_mode": {
    "name": "ipython",
    "version": 3
   },
   "file_extension": ".py",
   "mimetype": "text/x-python",
   "name": "python",
   "nbconvert_exporter": "python",
   "pygments_lexer": "ipython3",
   "version": "3.9.12"
  },
  "latex_envs": {
   "LaTeX_envs_menu_present": true,
   "autoclose": false,
   "autocomplete": true,
   "bibliofile": "biblio.bib",
   "cite_by": "apalike",
   "current_citInitial": 1,
   "eqLabelWithNumbers": true,
   "eqNumInitial": 1,
   "hotkeys": {
    "equation": "Ctrl-E",
    "itemize": "Ctrl-I"
   },
   "labels_anchors": false,
   "latex_user_defs": false,
   "report_style_numbering": false,
   "user_envs_cfg": false
  },
  "toc": {
   "base_numbering": 1,
   "nav_menu": {},
   "number_sections": true,
   "sideBar": true,
   "skip_h1_title": false,
   "title_cell": "Table of Contents",
   "title_sidebar": "Contents",
   "toc_cell": false,
   "toc_position": {},
   "toc_section_display": true,
   "toc_window_display": false
  },
  "varInspector": {
   "cols": {
    "lenName": 16,
    "lenType": 16,
    "lenVar": 40
   },
   "kernels_config": {
    "python": {
     "delete_cmd_postfix": "",
     "delete_cmd_prefix": "del ",
     "library": "var_list.py",
     "varRefreshCmd": "print(var_dic_list())"
    },
    "r": {
     "delete_cmd_postfix": ") ",
     "delete_cmd_prefix": "rm(",
     "library": "var_list.r",
     "varRefreshCmd": "cat(var_dic_list()) "
    }
   },
   "types_to_exclude": [
    "module",
    "function",
    "builtin_function_or_method",
    "instance",
    "_Feature"
   ],
   "window_display": false
  },
  "vp": {
   "vp_config_version": "1.0.0",
   "vp_menu_width": 273,
   "vp_note_display": false,
   "vp_note_width": 0,
   "vp_position": {
    "width": 278
   },
   "vp_section_display": false,
   "vp_signature": "VisualPython"
  }
 },
 "nbformat": 4,
 "nbformat_minor": 5
}
